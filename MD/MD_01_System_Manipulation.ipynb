{
 "cells": [
  {
   "cell_type": "markdown",
   "metadata": {},
   "source": [
    "# Session 1.1: Loading and Manipulating Your Molecular Simulation Data\n",
    "\n",
    "<a rel=\"license\" href=\"http://creativecommons.org/licenses/by/4.0/\"><img alt=\"Creative Commons Licence\" style=\"border-width:0\" src=\"https://i.creativecommons.org/l/by/4.0/88x31.png\" title='This work is licensed under a Creative Commons Attribution 4.0 International License.' align=\"right\"/></a>\n",
    "\n",
    "Authors: \n",
    "\n",
    "- Dr Micaela Matta - micaela.matta@kcl.ac.uk \n",
    "- Dr Richard Gowers - richardjgowers@gmail.com\n",
    "- Dr Irfan Alibay - ialibay@gmail.com\n",
    "\n",
    "This notebook is adapted from materials developed for the [2021 PRACE Workshop](https://github.com/MDAnalysis/WorkshopPrace2021) and the [2018 Workshop/Hackathon](https://github.com/MDAnalysis/WorkshopHackathon2018)"
   ]
  },
  {
   "cell_type": "markdown",
   "metadata": {},
   "source": [
    "## Google Colab package installs\n",
    "\n",
    "This installs the necessary packages for Google Colab. Please only run these if you are using Colab."
   ]
  },
  {
   "cell_type": "code",
   "execution_count": null,
   "metadata": {},
   "outputs": [],
   "source": [
    "# NBVAL_SKIP\n",
    "!if [ -n \"$COLAB_GPU\" ]; then pip install condacolab; fi\n",
    "import condacolab\n",
    "condacolab.install()"
   ]
  },
  {
   "cell_type": "code",
   "execution_count": null,
   "metadata": {},
   "outputs": [],
   "source": [
    "# NBVAL_SKIP\n",
    "import condacolab\n",
    "condacolab.check()\n",
    "!mamba install -c conda-forge mdanalysis mdanalysistests mdanalysisdata nglview"
   ]
  },
  {
   "cell_type": "code",
   "execution_count": null,
   "metadata": {},
   "outputs": [],
   "source": [
    "# NBVAL_SKIP\n",
    "# enable third party jupyter widgets\n",
    "from google.colab import output\n",
    "output.enable_custom_widget_manager()"
   ]
  },
  {
   "cell_type": "markdown",
   "metadata": {},
   "source": [
    "### **Jupyter cheat sheet**:\n",
    "- to run the currently highlighted cell, hold <kbd>&#x21E7; Shift</kbd> and press <kbd>&#x23ce; Enter</kbd>;\n",
    "- to get help for a specific function, place the cursor within the function's brackets, hold <kbd>&#x21E7; Shift</kbd>, and press <kbd>&#x21E5; Tab</kbd>;"
   ]
  },
  {
   "cell_type": "markdown",
   "metadata": {},
   "source": [
    "<div class=\"alert alert-warning\"><b> REMEMBER: variables persist between cells</b> \n",
    "    \n",
    "Be aware that it is the order of execution of cells that is important in a Jupyter notebook, not the <em>order</em> in which they appear. Python will remember <em>all</em> the code that was run previously, including any variables you have defined, irrespective of the order in the notebook. Therefore if you define variables lower down the notebook and then (re)run cells further up, those defined further down will still be present. </div> "
   ]
  },
  {
   "cell_type": "markdown",
   "metadata": {},
   "source": [
    "## Learning outcomes:\n",
    "* How to load your molecular simulation data into MDAnalysis\n",
    "* Basic features of the `MDAnalysis.Universe`\n",
    "* Visualise your simulation data with `nglview`\n",
    "* Working with `AtomGroup`s\n",
    "* Select atoms of interest using `select_atoms`\n",
    "* Selecting bonds\n",
    "\n",
    "\n",
    "**This notebook introduces the fundamental objects of `MDAnalysis`:**\n",
    "\n",
    " - the `Universe`,\n",
    " - `AtomGroup`, and `Atom` objects.\n",
    " - selecting and manipulating `AtomGroup`s\n",
    " - `Residue`s and `Segment`s\n",
    " - `Bond` `Angle` and `Dihedral`\n",
    "\n",
    "\n",
    "**Additional resources**\n",
    " - During the workshop, feel free to ask questions at any time\n",
    " - For more on how to use MDAnalysis, see the [User Guide](https://userguide.mdanalysis.org/2.0.0-dev0/) and [documentation](https://docs.mdanalysis.org/2.0.0-dev0/)\n",
    " - Ask questions on the [user mailing list](https://groups.google.com/group/mdnalysis-discussion) or on [Discord](https://discord.gg/fXTSfDJyxE)\n",
    " - Report bugs on [GitHub](https://github.com/MDAnalysis/mdanalysis/issues?)"
   ]
  },
  {
   "cell_type": "markdown",
   "metadata": {},
   "source": [
    "## Table of Contents\n",
    "\n",
    "1. [Fundamental MDAnalysis objects](#fundamentals)  \n",
    "2. [Selecting Atoms](#selections)    \n",
    "3. [Visualising systems](#visualisation)     \n",
    "4. [Bonds, angles and dihedrals](#bonds)\n",
    "5. [Transformations](#transformations)"
   ]
  },
  {
   "cell_type": "markdown",
   "metadata": {},
   "source": [
    "<a id='fundamentals'></a>\n",
    "# 1. Fundamental MDAnalysis objects\n",
    "\n",
    "\n",
    "## Universe loading 101\n",
    "\n",
    "> \"If you wish to make an apple pie from scratch, you must first invent the Universe.\" \n",
    "\n",
    "> ~ Carl Sagan\n",
    "\n",
    "First, we need to import `MDAnalysis`, giving us access to all the components in its namespace:"
   ]
  },
  {
   "cell_type": "code",
   "execution_count": null,
   "metadata": {},
   "outputs": [],
   "source": [
    "import MDAnalysis as mda"
   ]
  },
  {
   "cell_type": "markdown",
   "metadata": {},
   "source": [
    "One of the most fundamental objects in the `MDAnalysis` data model is the `Universe` object.\n",
    "A `Universe` can be thought of as an interface to all the data of a simulation;\n",
    "it contains all of a simulations' topology information (names, charges, masses etc) at the least,\n",
    "but usually also includes trajectory information (positions, velocities etc) as well.\n",
    "\n",
    "In order to do anything, we do need some actual molecular dynamics data to work with. Let's load an example (the protein adenylate kinase, or AdK) from the MDAnalysis tests data:"
   ]
  },
  {
   "cell_type": "code",
   "execution_count": null,
   "metadata": {},
   "outputs": [],
   "source": [
    "from MDAnalysis.tests.datafiles import PSF, DCD"
   ]
  },
  {
   "cell_type": "markdown",
   "metadata": {},
   "source": [
    "To make a `Universe`, we need at the very least a topology file - see the [topology readers](https://docs.mdanalysis.org/2.0.0-dev0/documentation_pages/topology/init.html) documentation for a list of supported file formats. \n",
    "\n",
    "Since the type of topology file we're using in this example (a PSF file) doesn't contain coordinates, we'll also need to load a trajectory file (in this case a DCD file) so we have some position data to work with later. You'll learn more about working with trajectories in the next session. \n"
   ]
  },
  {
   "cell_type": "code",
   "execution_count": null,
   "metadata": {},
   "outputs": [],
   "source": [
    "u = mda.Universe(PSF, DCD)\n",
    "\n",
    "print(u)"
   ]
  },
  {
   "cell_type": "markdown",
   "metadata": {},
   "source": [
    "## AtomGroups"
   ]
  },
  {
   "cell_type": "markdown",
   "metadata": {},
   "source": [
    "We now have a `Universe` object. Since the topology (PSF) file we loaded contained both atom identities and bond information, the `Universe` is able to access these details.\n",
    "\n"
   ]
  },
  {
   "cell_type": "markdown",
   "metadata": {},
   "source": [
    "We can access all atoms in the `Universe` through the `Universe.atoms` attribute.\n",
    "This returns an `AtomGroup`, which is probably the most important class we will learn about."
   ]
  },
  {
   "cell_type": "code",
   "execution_count": null,
   "metadata": {},
   "outputs": [],
   "source": [
    "ag = u.atoms\n",
    "type(ag)"
   ]
  },
  {
   "cell_type": "markdown",
   "metadata": {},
   "source": [
    "An `AtomGroup` is like an array of atoms, and offers access to the data of these atoms through various attributes:"
   ]
  },
  {
   "cell_type": "code",
   "execution_count": null,
   "metadata": {},
   "outputs": [],
   "source": [
    "ag.indices"
   ]
  },
  {
   "cell_type": "code",
   "execution_count": null,
   "metadata": {},
   "outputs": [],
   "source": [
    "ag.names"
   ]
  },
  {
   "cell_type": "code",
   "execution_count": null,
   "metadata": {},
   "outputs": [],
   "source": [
    "ag.resnames"
   ]
  },
  {
   "cell_type": "code",
   "execution_count": null,
   "metadata": {},
   "outputs": [],
   "source": [
    "ag.resids"
   ]
  },
  {
   "cell_type": "code",
   "execution_count": null,
   "metadata": {},
   "outputs": [],
   "source": [
    "ag.charges"
   ]
  },
  {
   "cell_type": "code",
   "execution_count": null,
   "metadata": {},
   "outputs": [],
   "source": [
    "ag.masses"
   ]
  },
  {
   "cell_type": "code",
   "execution_count": null,
   "metadata": {},
   "outputs": [],
   "source": [
    "ag.types"
   ]
  },
  {
   "cell_type": "markdown",
   "metadata": {},
   "source": [
    "All of these attributes of an `AtomGroup` return numpy arrays of the same length as the `AtomGroup` itself;\n",
    "that is, each element corresponds to each atom in the `AtomGroup`, in order."
   ]
  },
  {
   "cell_type": "code",
   "execution_count": null,
   "metadata": {},
   "outputs": [],
   "source": [
    "print(ag.n_atoms)\n",
    "print(len(ag.names))"
   ]
  },
  {
   "cell_type": "markdown",
   "metadata": {},
   "source": [
    "In general, `MDAnalysis` will try and extract as much information as possible from the files given to `Universe`. The [topology readers](https://docs.mdanalysis.org/2.0.0-dev0/documentation_pages/topology/init.html) documentation lists the attributes that are extracted from each filetype."
   ]
  },
  {
   "cell_type": "markdown",
   "metadata": {},
   "source": [
    "## Working with individual atoms\n",
    "\n",
    "By slicing an `AtomGroup` we can access individual `Atom` objects.\n",
    "These `Atom` objects will have singular versions of the various attributes of `AtomGroup`s.\n",
    "\n",
    "In general working with individual `Atom` objects is discouraged as it is inefficient and will lead to poor performance."
   ]
  },
  {
   "cell_type": "code",
   "execution_count": null,
   "metadata": {},
   "outputs": [],
   "source": [
    "u = mda.Universe(PSF, DCD)\n",
    "a = u.atoms[0]\n",
    "print(a)"
   ]
  },
  {
   "cell_type": "code",
   "execution_count": null,
   "metadata": {},
   "outputs": [],
   "source": [
    "print(\"name:\", a.name)\n",
    "print(\"resid:\", a.resid)\n",
    "print(\"resname:\", a.resname)"
   ]
  },
  {
   "cell_type": "markdown",
   "metadata": {},
   "source": [
    "## ResidueGroups and SegmentGroups"
   ]
  },
  {
   "cell_type": "markdown",
   "metadata": {},
   "source": [
    "The `Universe` also gives higher-order topology objects, including `ResidueGroups` and `SegmentGroups`. We can access all residues in the `Universe` with:"
   ]
  },
  {
   "cell_type": "code",
   "execution_count": null,
   "metadata": {},
   "outputs": [],
   "source": [
    "u.residues"
   ]
  },
  {
   "cell_type": "markdown",
   "metadata": {},
   "source": [
    "And all segments with:"
   ]
  },
  {
   "cell_type": "code",
   "execution_count": null,
   "metadata": {},
   "outputs": [],
   "source": [
    "u.segments"
   ]
  },
  {
   "cell_type": "markdown",
   "metadata": {},
   "source": [
    "`ResidueGroups` and `SegmentGroups` also behave similarly to `AtomGroups`, with many of their methods returning `numpy` arrays with each element corresponding to a single residue or segment, respectively."
   ]
  },
  {
   "cell_type": "code",
   "execution_count": null,
   "metadata": {},
   "outputs": [],
   "source": [
    "u.residues.resnames"
   ]
  },
  {
   "cell_type": "code",
   "execution_count": null,
   "metadata": {},
   "outputs": [],
   "source": [
    "u.segments.segids"
   ]
  },
  {
   "cell_type": "markdown",
   "metadata": {},
   "source": [
    "You can also create a `ResidueGroup` from an `AtomGroup`:"
   ]
  },
  {
   "cell_type": "code",
   "execution_count": null,
   "metadata": {},
   "outputs": [],
   "source": [
    "ag.residues"
   ]
  },
  {
   "cell_type": "markdown",
   "metadata": {},
   "source": [
    "## Exercise 1\n",
    "\n",
    "### 1a. Load the GRO topology file from `MDAnalysis.tests.datafiles` and count how many atoms, residues and segments it contains.**"
   ]
  },
  {
   "cell_type": "code",
   "execution_count": null,
   "metadata": {},
   "outputs": [],
   "source": [
    "# Exercise 1a"
   ]
  },
  {
   "cell_type": "markdown",
   "metadata": {
    "solution2": "hidden",
    "solution2_first": true
   },
   "source": [
    "### Solution 1a"
   ]
  },
  {
   "cell_type": "code",
   "execution_count": null,
   "metadata": {
    "solution2": "hidden"
   },
   "outputs": [],
   "source": [
    "from MDAnalysis.tests.datafiles import GRO\n",
    "u_gro = mda.Universe(GRO)\n",
    "print('Atoms: ', u_gro.atoms.n_atoms)\n",
    "print('Residues: ', u_gro.residues.n_residues)\n",
    "print('Segments: ', u_gro.segments.n_segments)"
   ]
  },
  {
   "cell_type": "markdown",
   "metadata": {},
   "source": [
    "### 1b. From the above universe, find the name of the:**\n",
    "  - first segment\n",
    "  - last atom\n",
    "  - 10th residue."
   ]
  },
  {
   "cell_type": "code",
   "execution_count": null,
   "metadata": {},
   "outputs": [],
   "source": [
    "# Exercise 1b\n"
   ]
  },
  {
   "cell_type": "markdown",
   "metadata": {
    "solution2": "hidden",
    "solution2_first": true
   },
   "source": [
    "### Solution 1b"
   ]
  },
  {
   "cell_type": "code",
   "execution_count": null,
   "metadata": {
    "solution2": "hidden"
   },
   "outputs": [],
   "source": [
    "print('First segment:', u_gro.segments[0].segid)\n",
    "print('Last atom: ', u_gro.atoms[-1].name)\n",
    "print('10th residue: ', u_gro.residues[10].resname)"
   ]
  },
  {
   "cell_type": "markdown",
   "metadata": {},
   "source": [
    "<a id='selections'></a>\n",
    "# 2. Selecting atoms\n",
    "\n",
    "It is also rare that we want to operate on all atoms in the system!\n",
    "\n",
    "`MDAnalysis` offers a few different ways to select atoms,\n",
    "in this section we will go over the most useful methods."
   ]
  },
  {
   "cell_type": "markdown",
   "metadata": {},
   "source": [
    "## Numpy style selections\n",
    "\n",
    "As previously mentioned, an `AtomGroup` is like an array of atoms,\n",
    "and therefore we can slice it exactly like we would slice a `numpy` array.\n",
    "\n",
    "### Fancy indexing\n",
    "\n",
    "The simplest option to select specific atom is to use fancy indexing. You can specify the atoms in a list"
   ]
  },
  {
   "cell_type": "code",
   "execution_count": null,
   "metadata": {},
   "outputs": [],
   "source": [
    "u = mda.Universe(PSF, DCD)\n",
    "u.atoms[[1, 4, 5 , 0]]"
   ]
  },
  {
   "cell_type": "markdown",
   "metadata": {},
   "source": [
    "or as a range"
   ]
  },
  {
   "cell_type": "code",
   "execution_count": null,
   "metadata": {},
   "outputs": [],
   "source": [
    "u.atoms[1:10]"
   ]
  },
  {
   "cell_type": "markdown",
   "metadata": {},
   "source": [
    "### Boolean indexing\n",
    "\n",
    "You can also create an array with `True`/`False` values of the same length as the `AtomGroup`. Every atom for which the array is set to `True` will be selected.\n",
    "\n",
    "We can create such a boolean array by doing a comparison of a `numpy` array:"
   ]
  },
  {
   "cell_type": "code",
   "execution_count": null,
   "metadata": {},
   "outputs": [],
   "source": [
    "selection_ar = u.atoms.resnames == 'GLY'\n",
    "print(\"selection array = \", selection_ar)\n",
    "u.atoms[selection_ar]"
   ]
  },
  {
   "cell_type": "markdown",
   "metadata": {},
   "source": [
    "or shorter:"
   ]
  },
  {
   "cell_type": "code",
   "execution_count": null,
   "metadata": {},
   "outputs": [],
   "source": [
    "u.atoms[u.atoms.resnames == 'GLY']"
   ]
  },
  {
   "cell_type": "markdown",
   "metadata": {},
   "source": [
    "We can also do this with `ResidueGroup`s and `SegmentGroup`s, e.g.:"
   ]
  },
  {
   "cell_type": "code",
   "execution_count": null,
   "metadata": {},
   "outputs": [],
   "source": [
    "u.residues[u.residues.resnames == 'GLY']"
   ]
  },
  {
   "cell_type": "markdown",
   "metadata": {},
   "source": [
    "## Selection Strings and `select_atoms`\n",
    "\n",
    "We've already seen that complex selections can be performed on `AtomGroups` using numpy style indexing.\n",
    "However, `MDAnalysis` also features a CHARMM-style atom selection mechanism that is often more convenient.\n",
    "We can consult the docstring for `select_atoms` to see the available selection keywords:"
   ]
  },
  {
   "cell_type": "code",
   "execution_count": null,
   "metadata": {},
   "outputs": [],
   "source": [
    "u.atoms.select_atoms?"
   ]
  },
  {
   "cell_type": "markdown",
   "metadata": {},
   "source": [
    "You can also see them in the docs [here](https://docs.mdanalysis.org/2.0.0-dev0/documentation_pages/selections.html).\n",
    "\n",
    "Although boolean selections work well enough for selecting out atoms from AtomGroups, the selection language makes more complex selections possible with probably less effort.\n",
    "\n",
    "For example, we can select all glycines by:"
   ]
  },
  {
   "cell_type": "code",
   "execution_count": null,
   "metadata": {},
   "outputs": [],
   "source": [
    "glycines = u.select_atoms(\"resname GLY\")\n",
    "glycines"
   ]
  },
  {
   "cell_type": "markdown",
   "metadata": {},
   "source": [
    "If selecting by residue number, we can specify a range:"
   ]
  },
  {
   "cell_type": "code",
   "execution_count": null,
   "metadata": {},
   "outputs": [],
   "source": [
    "first10resids = u.select_atoms(\"resid 1-10\")\n",
    "first10resids"
   ]
  },
  {
   "cell_type": "markdown",
   "metadata": {},
   "source": [
    "We can use `and`/`or`/`not` with [logical conjunctions](https://en.wikipedia.org/wiki/Logical_conjunction):"
   ]
  },
  {
   "cell_type": "code",
   "execution_count": null,
   "metadata": {},
   "outputs": [],
   "source": [
    "acidic = u.select_atoms(\"resname GLU or resname ASP\")\n",
    "acidic"
   ]
  },
  {
   "cell_type": "markdown",
   "metadata": {},
   "source": [
    "For name like selections, we can also Unix shell-style wildcards such as `*`. Here for example `name OD*` would select atoms named `OD1, OD2, OD3` etc:"
   ]
  },
  {
   "cell_type": "code",
   "execution_count": null,
   "metadata": {},
   "outputs": [],
   "source": [
    "acidic_o = acidic.select_atoms('name OD* or name OE*')\n",
    "acidic_o"
   ]
  },
  {
   "cell_type": "markdown",
   "metadata": {},
   "source": [
    "As a shortcut, multiple values can be given and these will be implicitly OR'd together.\n",
    "To select all atoms with name NZ or NH* in residues named LYS or ARG:"
   ]
  },
  {
   "cell_type": "code",
   "execution_count": null,
   "metadata": {},
   "outputs": [],
   "source": [
    "basic_n = u.select_atoms(\"(resname LYS ARG) and (name NZ NH*)\")\n",
    "basic_n"
   ]
  },
  {
   "cell_type": "markdown",
   "metadata": {},
   "source": [
    "There are also several preset keywords for useful selections such as `backbone`, which selects all CA, C, O and N atoms:"
   ]
  },
  {
   "cell_type": "code",
   "execution_count": null,
   "metadata": {},
   "outputs": [],
   "source": [
    "backbone_1 = u.select_atoms('backbone')\n",
    "backbone_2 = u.select_atoms('name CA C O N')\n",
    "backbone_1 == backbone_2"
   ]
  },
  {
   "cell_type": "markdown",
   "metadata": {},
   "source": [
    "### Geometric selections\n",
    "\n",
    "The `select_atoms` method also has various geometric keywords that make selecting atoms based on geometric criteria much easier.\n",
    "\n",
    "For example, we can look for salt bridges by using the `around` selection operator to specify only atoms within 4 angstroms of a particular selection. Note we can simplify selection strings by referring to previous `AtomGroups`."
   ]
  },
  {
   "cell_type": "code",
   "execution_count": null,
   "metadata": {},
   "outputs": [],
   "source": [
    "acidic = u.select_atoms(\"group acidic and around 4 group basic\", acidic=acidic_o, basic=basic_n)\n",
    "acidic"
   ]
  },
  {
   "cell_type": "markdown",
   "metadata": {},
   "source": [
    "You can also select atoms based on absolute position using `prop`, e.g.:"
   ]
  },
  {
   "cell_type": "code",
   "execution_count": null,
   "metadata": {},
   "outputs": [],
   "source": [
    "upper_z = u.select_atoms('prop z > 10')\n",
    "upper_z"
   ]
  },
  {
   "cell_type": "markdown",
   "metadata": {},
   "source": [
    "## Set operations\n",
    "\n",
    "`AtomGroup`s can also be combined using `&` for \"and\" and `|` for \"or\":"
   ]
  },
  {
   "cell_type": "code",
   "execution_count": null,
   "metadata": {},
   "outputs": [],
   "source": [
    "heavy = u.atoms[u.atoms.masses > 10]\n",
    "arg = u.atoms[u.atoms.resnames == 'ARG']\n",
    "print(len(heavy), len(arg))\n",
    "print(len(heavy & arg))"
   ]
  },
  {
   "cell_type": "markdown",
   "metadata": {},
   "source": [
    "These two selections are identical:"
   ]
  },
  {
   "cell_type": "code",
   "execution_count": null,
   "metadata": {},
   "outputs": [],
   "source": [
    "ag1 = u.atoms.select_atoms('resname LYS ARG')\n",
    "ag2 = u.atoms.select_atoms('resname LYS') | u.atoms.select_atoms('resname ARG')\n",
    "\n",
    "ag1 == ag2"
   ]
  },
  {
   "cell_type": "markdown",
   "metadata": {},
   "source": [
    "We can also concatenate atomgroups with `+` and subtract with `-`; the following two selections are also identical: "
   ]
  },
  {
   "cell_type": "code",
   "execution_count": null,
   "metadata": {},
   "outputs": [],
   "source": [
    "no_H1 = u.atoms.select_atoms('resname LYS ARG and not name H*')\n",
    "no_H2 = u.atoms.select_atoms('resname LYS ARG') - u.atoms.select_atoms('name H*')\n",
    "\n",
    "no_H1 == no_H2"
   ]
  },
  {
   "cell_type": "markdown",
   "metadata": {},
   "source": [
    "By design, an `AtomGroup` can have repeats of the same atom, for example through this selection:"
   ]
  },
  {
   "cell_type": "code",
   "execution_count": null,
   "metadata": {},
   "outputs": [],
   "source": [
    "ag = u.atoms[[0, 0, 1, 2, 4, 4, 5]]\n",
    "ag"
   ]
  },
  {
   "cell_type": "markdown",
   "metadata": {},
   "source": [
    "The `unique` property will return a version of the `AtomGroup` with only one of each Atom:"
   ]
  },
  {
   "cell_type": "code",
   "execution_count": null,
   "metadata": {
    "scrolled": true
   },
   "outputs": [],
   "source": [
    "ag.unique"
   ]
  },
  {
   "cell_type": "markdown",
   "metadata": {},
   "source": [
    "## Exercise 2\n",
    "\n",
    "### 2a. Select residues 100 to 200, first using indexing and then using a selection string, and confirm you get the same selection."
   ]
  },
  {
   "cell_type": "code",
   "execution_count": null,
   "metadata": {},
   "outputs": [],
   "source": [
    "# Exercise 2a\n"
   ]
  },
  {
   "cell_type": "markdown",
   "metadata": {
    "solution2": "hidden",
    "solution2_first": true
   },
   "source": [
    "### Solution 2a"
   ]
  },
  {
   "cell_type": "code",
   "execution_count": null,
   "metadata": {
    "solution2": "hidden"
   },
   "outputs": [],
   "source": [
    "ag1 = u.residues[99:200]\n",
    "ag2 = u.select_atoms(\"resid 100-200\").residues\n",
    "ag1 == ag2"
   ]
  },
  {
   "cell_type": "markdown",
   "metadata": {},
   "source": [
    "What might be some reasons to prefer one method over the other?"
   ]
  },
  {
   "cell_type": "markdown",
   "metadata": {
    "cell_style": "center"
   },
   "source": [
    "### 2b. Count the number of arginine residues"
   ]
  },
  {
   "cell_type": "code",
   "execution_count": null,
   "metadata": {},
   "outputs": [],
   "source": [
    "# Exercise 2b\n"
   ]
  },
  {
   "cell_type": "markdown",
   "metadata": {
    "solution2": "hidden",
    "solution2_first": true
   },
   "source": [
    "### Solution 2b"
   ]
  },
  {
   "cell_type": "code",
   "execution_count": null,
   "metadata": {
    "solution2": "hidden"
   },
   "outputs": [],
   "source": [
    "ag = u.select_atoms('resname ARG')\n",
    "print(len(ag.residues))"
   ]
  },
  {
   "cell_type": "markdown",
   "metadata": {},
   "source": [
    "### 2c. Select all nitrogen atoms within 5.0A of a carbon atom"
   ]
  },
  {
   "cell_type": "code",
   "execution_count": null,
   "metadata": {},
   "outputs": [],
   "source": [
    "# Exercise 2c\n"
   ]
  },
  {
   "cell_type": "markdown",
   "metadata": {
    "solution2": "hidden",
    "solution2_first": true
   },
   "source": [
    "### Solution 2c"
   ]
  },
  {
   "cell_type": "code",
   "execution_count": null,
   "metadata": {
    "solution2": "hidden"
   },
   "outputs": [],
   "source": [
    "ag = u.select_atoms('name N* and around 5 name CA')\n",
    "print(ag)"
   ]
  },
  {
   "cell_type": "markdown",
   "metadata": {},
   "source": [
    "### 2d. Select all hydrogens that are bonded to an alpha carbon\n",
    "\n",
    "*Hint: Look through the `select_atoms` docstring above or [here](https://docs.mdanalysis.org/2.0.0-dev0/documentation_pages/selections.html) for keywords that might help!*"
   ]
  },
  {
   "cell_type": "code",
   "execution_count": null,
   "metadata": {},
   "outputs": [],
   "source": [
    "# Exercise 2d"
   ]
  },
  {
   "cell_type": "markdown",
   "metadata": {
    "solution2": "hidden",
    "solution2_first": true
   },
   "source": [
    "### Solution 2d"
   ]
  },
  {
   "cell_type": "code",
   "execution_count": null,
   "metadata": {
    "solution2": "hidden"
   },
   "outputs": [],
   "source": [
    "ag = u.select_atoms('name H* and bonded name CA')\n",
    "print(ag)"
   ]
  },
  {
   "cell_type": "markdown",
   "metadata": {},
   "source": [
    "<a id='visualisation'></a>\n",
    "# 3. Visualisation with nglview\n",
    "\n",
    "[nglview](https://github.com/nglviewer/nglview#usage) is a package that allows to visualise a MDAnalysis `Universe` or `AtomGroup` directly on the jupyter notebook. First we load the structure:"
   ]
  },
  {
   "cell_type": "code",
   "execution_count": null,
   "metadata": {},
   "outputs": [],
   "source": [
    "import nglview as nv\n",
    "\n",
    "view_u = nv.show_mdanalysis(u)\n",
    "view_u.camera = 'orthographic'"
   ]
  },
  {
   "cell_type": "markdown",
   "metadata": {},
   "source": [
    "And now we can launch the viewer:"
   ]
  },
  {
   "cell_type": "code",
   "execution_count": null,
   "metadata": {},
   "outputs": [],
   "source": [
    "view_u"
   ]
  },
  {
   "cell_type": "markdown",
   "metadata": {},
   "source": [
    "Have a play around - you can rotate, zoom (and play through the trajectory) to view the structure. You can also select atoms to display their information."
   ]
  },
  {
   "cell_type": "markdown",
   "metadata": {},
   "source": [
    "nglview can be useful to check that we are indeed selecting the correct `AtomGroup`:"
   ]
  },
  {
   "cell_type": "code",
   "execution_count": null,
   "metadata": {},
   "outputs": [],
   "source": [
    "helix_1 = u.select_atoms('resid 12-25')\n",
    "view_ag = nv.show_mdanalysis(helix_1)\n",
    "\n",
    "view_ag"
   ]
  },
  {
   "cell_type": "markdown",
   "metadata": {},
   "source": [
    "To add another selection to the same view:"
   ]
  },
  {
   "cell_type": "code",
   "execution_count": null,
   "metadata": {},
   "outputs": [],
   "source": [
    "resid_20 = u.select_atoms('resid 20')\n",
    "view_ag.add_trajectory(resid_20)"
   ]
  },
  {
   "cell_type": "markdown",
   "metadata": {},
   "source": [
    "### Exercise 3"
   ]
  },
  {
   "cell_type": "markdown",
   "metadata": {},
   "source": [
    "Show all atoms that are below the plane x=4.0"
   ]
  },
  {
   "cell_type": "code",
   "execution_count": null,
   "metadata": {},
   "outputs": [],
   "source": [
    "# Exercise 3\n"
   ]
  },
  {
   "cell_type": "markdown",
   "metadata": {
    "solution2": "hidden",
    "solution2_first": true
   },
   "source": [
    "### Solution 3"
   ]
  },
  {
   "cell_type": "code",
   "execution_count": null,
   "metadata": {
    "solution2": "hidden"
   },
   "outputs": [],
   "source": [
    "ag = u.select_atoms('prop x < 4')\n",
    "view_ex3 = nv.show_mdanalysis(ag)\n",
    "view_ex3"
   ]
  },
  {
   "cell_type": "markdown",
   "metadata": {},
   "source": [
    "<a id='bonds'></a>\n",
    "# 4. Bonds, angles, and dihedrals\n",
    "\n",
    "We can also get at connectivity information between atoms, such as bonds, angles, and dihedrals.\n",
    "These are read from the input topology file,\n",
    "with angle and dihedrals inferred from the bonds present,\n",
    "i.e. there is a measurable angle between two bonds with a common atom.\n",
    "\n",
    "For example in a PDB file CONECT records are read as bonds,\n",
    "however if none are present..."
   ]
  },
  {
   "cell_type": "code",
   "execution_count": 8,
   "metadata": {},
   "outputs": [],
   "source": [
    "from MDAnalysis.tests.datafiles import PDB_small"
   ]
  },
  {
   "cell_type": "code",
   "execution_count": 9,
   "metadata": {
    "scrolled": false
   },
   "outputs": [
    {
     "name": "stderr",
     "output_type": "stream",
     "text": [
      "/home/richard/miniconda3/envs/mda/lib/python3.10/site-packages/MDAnalysis/topology/PDBParser.py:317: UserWarning: Element information is missing, elements attribute will not be populated. If needed these can be guessed using MDAnalysis.topology.guessers.\n",
      "  warnings.warn(\"Element information is missing, elements attribute \"\n"
     ]
    },
    {
     "ename": "NoDataError",
     "evalue": "This Universe does not contain bonds information",
     "output_type": "error",
     "traceback": [
      "\u001b[0;31m---------------------------------------------------------------------------\u001b[0m",
      "\u001b[0;31mNoDataError\u001b[0m                               Traceback (most recent call last)",
      "Input \u001b[0;32mIn [9]\u001b[0m, in \u001b[0;36m<cell line: 4>\u001b[0;34m()\u001b[0m\n\u001b[1;32m      1\u001b[0m \u001b[38;5;66;03m# NBVAL_RAISES_EXCEPTION\u001b[39;00m\n\u001b[1;32m      2\u001b[0m u \u001b[38;5;241m=\u001b[39m mda\u001b[38;5;241m.\u001b[39mUniverse(PDB_small)\n\u001b[0;32m----> 4\u001b[0m \u001b[43mu\u001b[49m\u001b[38;5;241;43m.\u001b[39;49m\u001b[43mbonds\u001b[49m\n",
      "File \u001b[0;32m~/miniconda3/envs/mda/lib/python3.10/site-packages/MDAnalysis/core/universe.py:666\u001b[0m, in \u001b[0;36mUniverse.bonds\u001b[0;34m(self)\u001b[0m\n\u001b[1;32m    660\u001b[0m \u001b[38;5;129m@property\u001b[39m\n\u001b[1;32m    661\u001b[0m \u001b[38;5;28;01mdef\u001b[39;00m \u001b[38;5;21mbonds\u001b[39m(\u001b[38;5;28mself\u001b[39m):\n\u001b[1;32m    662\u001b[0m     \u001b[38;5;124;03m\"\"\"Bonds between atoms.\u001b[39;00m\n\u001b[1;32m    663\u001b[0m \n\u001b[1;32m    664\u001b[0m \u001b[38;5;124;03m    :meta private:\u001b[39;00m\n\u001b[1;32m    665\u001b[0m \u001b[38;5;124;03m    \"\"\"\u001b[39;00m\n\u001b[0;32m--> 666\u001b[0m     \u001b[38;5;28;01mreturn\u001b[39;00m \u001b[38;5;28;43mself\u001b[39;49m\u001b[38;5;241;43m.\u001b[39;49m\u001b[43matoms\u001b[49m\u001b[38;5;241;43m.\u001b[39;49m\u001b[43mbonds\u001b[49m\n",
      "File \u001b[0;32m~/miniconda3/envs/mda/lib/python3.10/site-packages/MDAnalysis/core/groups.py:2535\u001b[0m, in \u001b[0;36mAtomGroup.__getattr__\u001b[0;34m(self, attr)\u001b[0m\n\u001b[1;32m   2533\u001b[0m \u001b[38;5;28;01melif\u001b[39;00m attr \u001b[38;5;241m==\u001b[39m \u001b[38;5;124m'\u001b[39m\u001b[38;5;124mpositions\u001b[39m\u001b[38;5;124m'\u001b[39m:\n\u001b[1;32m   2534\u001b[0m     \u001b[38;5;28;01mraise\u001b[39;00m NoDataError(\u001b[38;5;124m'\u001b[39m\u001b[38;5;124mThis Universe has no coordinates\u001b[39m\u001b[38;5;124m'\u001b[39m)\n\u001b[0;32m-> 2535\u001b[0m \u001b[38;5;28;01mreturn\u001b[39;00m \u001b[38;5;28;43msuper\u001b[39;49m\u001b[43m(\u001b[49m\u001b[43mAtomGroup\u001b[49m\u001b[43m,\u001b[49m\u001b[43m \u001b[49m\u001b[38;5;28;43mself\u001b[39;49m\u001b[43m)\u001b[49m\u001b[38;5;241;43m.\u001b[39;49m\u001b[38;5;21;43m__getattr__\u001b[39;49m\u001b[43m(\u001b[49m\u001b[43mattr\u001b[49m\u001b[43m)\u001b[49m\n",
      "File \u001b[0;32m~/miniconda3/envs/mda/lib/python3.10/site-packages/MDAnalysis/core/groups.py:609\u001b[0m, in \u001b[0;36mGroupBase.__getattr__\u001b[0;34m(self, attr)\u001b[0m\n\u001b[1;32m    607\u001b[0m     \u001b[38;5;28;01melse\u001b[39;00m:\n\u001b[1;32m    608\u001b[0m         err \u001b[38;5;241m=\u001b[39m \u001b[38;5;124m'\u001b[39m\u001b[38;5;124mThis Universe does not contain \u001b[39m\u001b[38;5;132;01m{singular}\u001b[39;00m\u001b[38;5;124m information\u001b[39m\u001b[38;5;124m'\u001b[39m\n\u001b[0;32m--> 609\u001b[0m         \u001b[38;5;28;01mraise\u001b[39;00m NoDataError(err\u001b[38;5;241m.\u001b[39mformat(singular\u001b[38;5;241m=\u001b[39m\u001b[38;5;28mcls\u001b[39m\u001b[38;5;241m.\u001b[39msingular))\n\u001b[1;32m    610\u001b[0m \u001b[38;5;28;01melse\u001b[39;00m:\n\u001b[1;32m    611\u001b[0m     \u001b[38;5;28;01mreturn\u001b[39;00m \u001b[38;5;28msuper\u001b[39m(GroupBase, \u001b[38;5;28mself\u001b[39m)\u001b[38;5;241m.\u001b[39m\u001b[38;5;21m__getattr__\u001b[39m(attr)\n",
      "\u001b[0;31mNoDataError\u001b[0m: This Universe does not contain bonds information"
     ]
    }
   ],
   "source": [
    "# NBVAL_RAISES_EXCEPTION\n",
    "u = mda.Universe(PDB_small)\n",
    "\n",
    "u.bonds"
   ]
  },
  {
   "cell_type": "markdown",
   "metadata": {},
   "source": [
    "## Guessing bonds\n",
    "\n",
    "Bonds are typically read form the topology file,\n",
    "however if they are not present it is possible to guess these by passing the `guess_bonds=True` keyword argument to `Universe` creation.\n",
    "This algorithm guesses bonds that are present based upon the positions of particles and their assumed radius."
   ]
  },
  {
   "cell_type": "code",
   "execution_count": 10,
   "metadata": {},
   "outputs": [],
   "source": [
    "u = mda.Universe(PDB_small,\n",
    "                 guess_bonds=True)"
   ]
  },
  {
   "cell_type": "code",
   "execution_count": 12,
   "metadata": {},
   "outputs": [
    {
     "data": {
      "text/plain": [
       "<TopologyGroup containing 3365 bonds>"
      ]
     },
     "execution_count": 12,
     "metadata": {},
     "output_type": "execute_result"
    }
   ],
   "source": [
    "u.atoms.bonds"
   ]
  },
  {
   "cell_type": "code",
   "execution_count": 13,
   "metadata": {},
   "outputs": [
    {
     "data": {
      "text/plain": [
       "<TopologyGroup containing 6123 angles>"
      ]
     },
     "execution_count": 13,
     "metadata": {},
     "output_type": "execute_result"
    }
   ],
   "source": [
    "u.atoms.angles"
   ]
  },
  {
   "cell_type": "code",
   "execution_count": 14,
   "metadata": {},
   "outputs": [
    {
     "data": {
      "text/plain": [
       "<TopologyGroup containing 8921 dihedrals>"
      ]
     },
     "execution_count": 14,
     "metadata": {},
     "output_type": "execute_result"
    }
   ],
   "source": [
    "u.atoms.dihedrals"
   ]
  },
  {
   "cell_type": "markdown",
   "metadata": {},
   "source": [
    "Like AtomGroups, these can be sliced to yield individual items:"
   ]
  },
  {
   "cell_type": "code",
   "execution_count": null,
   "metadata": {},
   "outputs": [],
   "source": [
    "u.atoms.bonds[3]"
   ]
  },
  {
   "cell_type": "markdown",
   "metadata": {},
   "source": [
    "All of these give the associated measurement, bond length or angle, via the `values()` or `value()` method:"
   ]
  },
  {
   "cell_type": "code",
   "execution_count": 15,
   "metadata": {},
   "outputs": [
    {
     "data": {
      "text/plain": [
       "array([1.03790959, 1.03722839, 1.05421131, ..., 1.53102852, 1.26192749,\n",
       "       1.26038941])"
      ]
     },
     "execution_count": 15,
     "metadata": {},
     "output_type": "execute_result"
    }
   ],
   "source": [
    "u.atoms.bonds.values()"
   ]
  },
  {
   "cell_type": "code",
   "execution_count": 16,
   "metadata": {},
   "outputs": [
    {
     "data": {
      "text/plain": [
       "1.054215168443364"
      ]
     },
     "execution_count": 16,
     "metadata": {},
     "output_type": "execute_result"
    }
   ],
   "source": [
    "u.bonds[2].value()"
   ]
  },
  {
   "cell_type": "markdown",
   "metadata": {},
   "source": [
    "We can plot the distribution of bond lengths using matplotlib:"
   ]
  },
  {
   "cell_type": "code",
   "execution_count": 21,
   "metadata": {},
   "outputs": [
    {
     "data": {
      "text/plain": [
       "(array([ 879.,  222.,  128.,  113.,  106.,  102.,  143.,  165.,  278.,\n",
       "         646.,  617.,  223.,  118.,  127.,  515.,  384.,  141.,  165.,\n",
       "         278.,  647.,  593.,  218.,  128.,  118.,  104.,  129.,  140.,\n",
       "         159.,  294., 1041.]),\n",
       " array([-3.14154337e+00, -2.93210570e+00, -2.72266804e+00, -2.51323038e+00,\n",
       "        -2.30379272e+00, -2.09435505e+00, -1.88491739e+00, -1.67547973e+00,\n",
       "        -1.46604206e+00, -1.25660440e+00, -1.04716674e+00, -8.37729077e-01,\n",
       "        -6.28291415e-01, -4.18853752e-01, -2.09416090e-01,  2.15727394e-05,\n",
       "         2.09459235e-01,  4.18896898e-01,  6.28334560e-01,  8.37772223e-01,\n",
       "         1.04720989e+00,  1.25664755e+00,  1.46608521e+00,  1.67552287e+00,\n",
       "         1.88496054e+00,  2.09439820e+00,  2.30383586e+00,  2.51327352e+00,\n",
       "         2.72271119e+00,  2.93214885e+00,  3.14158651e+00]),\n",
       " <BarContainer object of 30 artists>)"
      ]
     },
     "execution_count": 21,
     "metadata": {},
     "output_type": "execute_result"
    },
    {
     "data": {
      "image/png": "[encoded data removed]",
      "text/plain": [
       "<Figure size 432x288 with 1 Axes>"
      ]
     },
     "metadata": {
      "needs_background": "light"
     },
     "output_type": "display_data"
    }
   ],
   "source": [
    "import matplotlib.pyplot as plt\n",
    "%matplotlib inline\n",
    "\n",
    "plt.hist(u.dihedrals.values(), bins=30)"
   ]
  },
  {
   "cell_type": "markdown",
   "metadata": {},
   "source": [
    "## Selecting specific bonds\n",
    "\n",
    "Like atoms, it is rarely interesting to look at **all** bonds.\n",
    "Instead, based on a tuple of atom types, we can select bonds between certain types of atoms."
   ]
  },
  {
   "cell_type": "code",
   "execution_count": 31,
   "metadata": {},
   "outputs": [
    {
     "data": {
      "text/plain": [
       "array(['N', 'H', 'H', ..., 'C', 'O', 'O'], dtype=object)"
      ]
     },
     "execution_count": 31,
     "metadata": {},
     "output_type": "execute_result"
    }
   ],
   "source": [
    "u.atoms.types"
   ]
  },
  {
   "cell_type": "code",
   "execution_count": 32,
   "metadata": {
    "scrolled": true
   },
   "outputs": [
    {
     "data": {
      "text/plain": [
       "[('N', 'H'),\n",
       " ('N', 'C'),\n",
       " ('C', 'H'),\n",
       " ('C', 'C'),\n",
       " ('C', 'S'),\n",
       " ('C', 'O'),\n",
       " ('O', 'H'),\n",
       " ('S', 'H')]"
      ]
     },
     "execution_count": 32,
     "metadata": {},
     "output_type": "execute_result"
    }
   ],
   "source": [
    "u.bonds.types()"
   ]
  },
  {
   "cell_type": "code",
   "execution_count": 33,
   "metadata": {},
   "outputs": [
    {
     "data": {
      "text/plain": [
       "<TopologyGroup containing 531 bonds>"
      ]
     },
     "execution_count": 33,
     "metadata": {},
     "output_type": "execute_result"
    }
   ],
   "source": [
    "u.bonds.select_bonds(('C', 'N'))"
   ]
  },
  {
   "cell_type": "markdown",
   "metadata": {},
   "source": [
    "## Selecting main chain dihedrals\n",
    "\n",
    "For polypeptides, it is also possible to select the atoms involved in the $\\varphi$ (phi), $\\psi$ (psi) and $\\omega$ (omega) dihedrals.\n",
    "These are acessed via the `phi_selection`, `psi_selection` and `omega_selection` methods of a **Residue**."
   ]
  },
  {
   "cell_type": "code",
   "execution_count": 27,
   "metadata": {},
   "outputs": [
    {
     "name": "stdout",
     "output_type": "stream",
     "text": [
      "<Residue ARG, 2>\n"
     ]
    }
   ],
   "source": [
    "r = u.residues[1]\n",
    "print(r)"
   ]
  },
  {
   "cell_type": "code",
   "execution_count": 34,
   "metadata": {},
   "outputs": [
    {
     "name": "stdout",
     "output_type": "stream",
     "text": [
      "<AtomGroup [<Atom 18: C of type C of resname MET, resid 1 and segid 4AKE and altLoc >, <Atom 20: N of type N of resname ARG, resid 2 and segid 4AKE and altLoc >, <Atom 22: CA of type C of resname ARG, resid 2 and segid 4AKE and altLoc >, <Atom 42: C of type C of resname ARG, resid 2 and segid 4AKE and altLoc >]>\n",
      "<AtomGroup [<Atom 20: N of type N of resname ARG, resid 2 and segid 4AKE and altLoc >, <Atom 22: CA of type C of resname ARG, resid 2 and segid 4AKE and altLoc >, <Atom 42: C of type C of resname ARG, resid 2 and segid 4AKE and altLoc >, <Atom 44: N of type N of resname ILE, resid 3 and segid 4AKE and altLoc >]>\n",
      "<AtomGroup [<Atom 22: CA of type C of resname ARG, resid 2 and segid 4AKE and altLoc >, <Atom 42: C of type C of resname ARG, resid 2 and segid 4AKE and altLoc >, <Atom 44: N of type N of resname ILE, resid 3 and segid 4AKE and altLoc >, <Atom 46: CA of type C of resname ILE, resid 3 and segid 4AKE and altLoc >]>\n"
     ]
    }
   ],
   "source": [
    "print(r.phi_selection())\n",
    "print(r.psi_selection())\n",
    "print(r.omega_selection())"
   ]
  },
  {
   "cell_type": "markdown",
   "metadata": {},
   "source": [
    "These methods return `AtomGroup`s.  To turn a 4-member group into a dihedral, the `.dihedral` converting property can be used:"
   ]
  },
  {
   "cell_type": "code",
   "execution_count": 38,
   "metadata": {},
   "outputs": [
    {
     "data": {
      "text/plain": [
       "<Dihedral between: Atom 17, Atom 19, Atom 21, Atom 41>"
      ]
     },
     "execution_count": 38,
     "metadata": {},
     "output_type": "execute_result"
    }
   ],
   "source": [
    "r.phi_selection().dihedral"
   ]
  },
  {
   "cell_type": "markdown",
   "metadata": {},
   "source": [
    "There are similar properties for casting **any** 2 atoms into a `Bond` (`AtomGroup.bond`) and casting **any** 3 atoms into an `Angle` (`AtomGroup.angle`)."
   ]
  },
  {
   "cell_type": "code",
   "execution_count": 39,
   "metadata": {},
   "outputs": [
    {
     "data": {
      "text/plain": [
       "<Bond between: Atom 0, Atom 2>"
      ]
     },
     "execution_count": 39,
     "metadata": {},
     "output_type": "execute_result"
    }
   ],
   "source": [
    "u.atoms[[0, 2]].bond"
   ]
  },
  {
   "cell_type": "markdown",
   "metadata": {},
   "source": [
    "### Exercise 4\n",
    "\n",
    "Calculate the angle between the C$\\alpha$ atoms in the fifth, sixth and seventh residue."
   ]
  },
  {
   "cell_type": "code",
   "execution_count": 47,
   "metadata": {},
   "outputs": [
    {
     "data": {
      "text/plain": [
       "125.1890032501002"
      ]
     },
     "execution_count": 47,
     "metadata": {},
     "output_type": "execute_result"
    }
   ],
   "source": [
    "## Solution\n",
    "\n",
    "at1 = u.residues[4].atoms.select_atoms('name CA')\n",
    "at2 = u.residues[5].atoms.select_atoms('name CA')\n",
    "at3 = u.residues[6].atoms.select_atoms('name CA')\n",
    "\n",
    "ag = at1 + at2 + at3\n",
    "\n",
    "ag.angle.value()"
   ]
  },
  {
   "cell_type": "markdown",
   "metadata": {},
   "source": [
    "<a id='transformations'></a>\n",
    "# 5. Transformations\n",
    "\n",
    "MDAnalysis has a convenient system to apply a set of transformations to coordinate data as it is loaded into memory. For example, you might need to apply PBC corrections and molecular fitting as is required by some analyses and visualisation.\n",
    "\n",
    "Here we provide a brief overview of how to use \"on-the-fly\" transformation within MDAnalysis in order to address PBC issues and least-squares fit a trajectory to a reference frame.\n",
    "\n",
    "**Note: it is worth noting that a lot of the MDAnalysis methods (especially those related to getting distances / bonds / angles / dihedrals) already apply PBC correction by default if provided with a box. Applying a transformation is often not necessary**"
   ]
  },
  {
   "cell_type": "markdown",
   "metadata": {},
   "source": [
    "## The system before transformation"
   ]
  },
  {
   "cell_type": "markdown",
   "metadata": {},
   "source": [
    "Let's first visualize the system we want to apply transformations to."
   ]
  },
  {
   "cell_type": "code",
   "execution_count": null,
   "metadata": {},
   "outputs": [],
   "source": [
    "# Create the universe\n",
    "from MDAnalysisTests.datafiles import TPR, XTC\n",
    "\n",
    "u_untransformed = mda.Universe(TPR, XTC)\n",
    "\n",
    "view = nv.show_mdanalysis(u_untransformed)\n",
    "\n",
    "view.add_representation('point', 'resname SOL')\n",
    "view.center()\n",
    "\n",
    "view"
   ]
  },
  {
   "cell_type": "markdown",
   "metadata": {},
   "source": [
    "As we can see the system is broken across the periodic boundary. If we calculate the RMSF of the atoms (using MDAnalysis' RMSF analysis method), we notice areas of large fluctuation."
   ]
  },
  {
   "cell_type": "code",
   "execution_count": null,
   "metadata": {},
   "outputs": [],
   "source": [
    "from MDAnalysis.analysis import rms\n",
    "import matplotlib.pyplot as plt\n",
    "%matplotlib inline"
   ]
  },
  {
   "cell_type": "code",
   "execution_count": null,
   "metadata": {},
   "outputs": [],
   "source": [
    "# Get the c_alphas of the system and calculate an RMSF\n",
    "c_alphas = u_untransformed.select_atoms('protein and name CA')\n",
    "R = rms.RMSF(c_alphas).run()\n",
    "\n",
    "# Let's plot the RMSF results\n",
    "plt.plot(c_alphas.resids, R.results.rmsf)\n",
    "plt.xlabel('Residue number')\n",
    "plt.ylabel('RMSF ($\\AA$)')"
   ]
  },
  {
   "cell_type": "markdown",
   "metadata": {},
   "source": [
    "## Applying the on-the-fly Transformation"
   ]
  },
  {
   "cell_type": "markdown",
   "metadata": {},
   "source": [
    "MDAnalysis has some common built-in transformations, these can be accessed from teh transformations module. Here we will use the following to fit the protein in the center of the box:\n",
    "  * `unwrap`: make the protein whole (note: this requires the Universe to have bond information)\n",
    "  * `center`: center the protein at the center of the box\n",
    "  * `wrap`: warp molecules across the PBC boundary back into the box\n",
    "  * `fit_rot_trans`: translation and rotational fitting of the protein atoms (here we apply it to the alpha carbons)\n",
    "  \n",
    "Other transformations existing with MDAnalysis include; position averaging, rotate by a given angle on a given axis, translate by a given vector, set given box dimensions, and apply a PCA transform."
   ]
  },
  {
   "cell_type": "code",
   "execution_count": null,
   "metadata": {},
   "outputs": [],
   "source": [
    "u_transform = mda.Universe(TPR, XTC)\n",
    "# now we have to create atomgroups to represent the protein, non-protein, and c-alpha sections of the system\n",
    "protein = u_transform.select_atoms('protein')\n",
    "not_protein = u_transform.select_atoms('not protein')\n",
    "c_alphas = u_transform.select_atoms('protein and name CA')"
   ]
  },
  {
   "cell_type": "code",
   "execution_count": null,
   "metadata": {},
   "outputs": [],
   "source": [
    "# next we create a chain of transformations which will be applied each time a frame is loaded from the Universe\n",
    "# Note: the transformations are applied linearly, so the order of the transformations matters!\n",
    "import MDAnalysis.transformations as tform\n",
    "transform = [tform.unwrap(protein),\n",
    "             tform.center_in_box(protein, wrap=True),\n",
    "             tform.wrap(not_protein),\n",
    "             tform.fit_rot_trans(\n",
    "                 c_alphas, c_alphas, weights=\"mass\")]\n",
    "# We pass the list of transformations to the Universe's trajectory via the `add_transformations` method\n",
    "u_transform.trajectory.add_transformations(*transform)"
   ]
  },
  {
   "cell_type": "code",
   "execution_count": null,
   "metadata": {},
   "outputs": [],
   "source": [
    "transformed_v = nv.show_mdanalysis(u_transform)\n",
    "transformed_v.add_representation('point', 'resname SOL')\n",
    "transformed_v.center()\n",
    "transformed_v"
   ]
  },
  {
   "cell_type": "markdown",
   "metadata": {},
   "source": [
    "As we can see above the protein is now least-squares fit to the c_alphas of the first frame, and centered in the middle of the protein. Doing the RMSF calculation again shows that the areas of high fluctuation are now gone."
   ]
  },
  {
   "cell_type": "code",
   "execution_count": null,
   "metadata": {},
   "outputs": [],
   "source": [
    "# Get the c_alphas of the system and calculate an RMSF\n",
    "R = rms.RMSF(c_alphas).run()\n",
    "\n",
    "# Let's plot the RMSF results\n",
    "plt.plot(c_alphas.resids, R.results.rmsf)\n",
    "plt.xlabel('Residue number')\n",
    "plt.ylabel('RMSF ($\\AA$)')"
   ]
  },
  {
   "cell_type": "markdown",
   "metadata": {},
   "source": [
    "### Extra: Applying to a single frame"
   ]
  },
  {
   "cell_type": "markdown",
   "metadata": {},
   "source": [
    "Many of the transformations can be directly applied to an atomgroup without going through the the adding of transformations to the trajectory.\n",
    "\n",
    "**Note: this is only done temporarily, once you change frames this transformation will be lost. One way to avoid losing this is to [transfer the coordinates to memory](https://userguide.mdanalysis.org/stable/reading_and_writing.html?highlight=transfer_to_memory#in-memory-trajectories) (although this comes at a much higher RAM cost):**\n",
    "\n",
    "For example, if we wanted to directly unwrap a trajectory we could do the following:"
   ]
  },
  {
   "cell_type": "code",
   "execution_count": null,
   "metadata": {},
   "outputs": [],
   "source": [
    "# Before the transformation, let's get the maximum bond length for all the protein atoms\n",
    "# Long bonds usually happen because you cross a periodic boundary\n",
    "protein = u_untransformed.select_atoms('protein')\n",
    "protein.bonds.values().max()"
   ]
  },
  {
   "cell_type": "code",
   "execution_count": null,
   "metadata": {},
   "outputs": [],
   "source": [
    "# Now we apply the transformation\n",
    "protein.unwrap(compound='fragments')\n",
    "\n",
    "protein.bonds.values().max()"
   ]
  },
  {
   "cell_type": "code",
   "execution_count": null,
   "metadata": {},
   "outputs": [],
   "source": [
    "# You can also apply PBC directly on calling `bonds.values`\n",
    "# switch frames back to the 0 index to reset the transformation\n",
    "# See the next notebook for how to deal with frames\n",
    "u_untransformed.trajectory[0]\n",
    "\n",
    "print(\"no PBC max bond: \", protein.bonds.values().max())\n",
    "print(\"apply PBC max bond: \", protein.bonds.values(pbc=True).max())\n",
    "protein.unwrap(compound='fragments')\n",
    "print(\"apply unwrap transform max bonx: \", protein.bonds.values().max())"
   ]
  },
  {
   "cell_type": "markdown",
   "metadata": {},
   "source": [
    "# 6. Optional Tasks"
   ]
  },
  {
   "cell_type": "markdown",
   "metadata": {},
   "source": [
    "- If you haven't already, read through the [selection documentation](https://docs.mdanalysis.org/2.0.0-dev0/documentation_pages/selections.html) and play around with all the selection options not covered above\n",
    "\n",
    "\n",
    "- [nglview](https://github.com/nglviewer/nglview#usage) has a lot of options for visualising - you can add multiple selections to one view, change their colour and representation style and more - look through their documentaiton and see what you can create!"
   ]
  },
  {
   "cell_type": "code",
   "execution_count": null,
   "metadata": {},
   "outputs": [],
   "source": []
  }
 ],
 "metadata": {
  "hide_input": false,
  "kernelspec": {
   "display_name": "Python 3 (ipykernel)",
   "language": "python",
   "name": "python3"
  },
  "language_info": {
   "codemirror_mode": {
    "name": "ipython",
    "version": 3
   },
   "file_extension": ".py",
   "mimetype": "text/x-python",
   "name": "python",
   "nbconvert_exporter": "python",
   "pygments_lexer": "ipython3",
   "version": "3.10.4"
  },
  "toc": {
   "base_numbering": 1,
   "nav_menu": {},
   "number_sections": false,
   "sideBar": true,
   "skip_h1_title": true,
   "title_cell": "Table of Contents",
   "title_sidebar": "Contents",
   "toc_cell": false,
   "toc_position": {},
   "toc_section_display": true,
   "toc_window_display": false
  }
 },
 "nbformat": 4,
 "nbformat_minor": 2
}
