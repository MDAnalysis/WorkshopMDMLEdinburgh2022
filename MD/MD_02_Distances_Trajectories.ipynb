{
 "cells": [
  {
   "cell_type": "markdown",
   "metadata": {
    "slideshow": {
     "slide_type": "slide"
    }
   },
   "source": [
    "# Session 1.2.  Positions, Distances and Trajectories \n",
    "\n",
    "\n",
    "<a rel=\"license\" href=\"http://creativecommons.org/licenses/by/4.0/\"><img alt=\"Creative Commons Licence\" style=\"border-width:0\" src=\"https://i.creativecommons.org/l/by/4.0/88x31.png\" title='This work is licensed under a Creative Commons Attribution 4.0 International License.' align=\"right\"/></a>\n",
    "\n",
    "Authors: \n",
    "\n",
    "- Dr Micaela Matta - micaela.matta@kcl.ac.uk \n",
    "- Dr Richard Gowers - richardjgowers@gmail.com\n",
    "- Dr Irfan Alibay - ialibay@gmail.com\n",
    "\n",
    "This notebook is adapted from materials developed for the [2021 PRACE Workshop](https://github.com/MDAnalysis/WorkshopPrace2021) and the [2018 Workshop/Hackathon](https://github.com/MDAnalysis/WorkshopHackathon2018)"
   ]
  },
  {
   "cell_type": "markdown",
   "metadata": {},
   "source": [
    "## Google Colab package installs\n",
    "\n",
    "This installs the necessary packages for Google Colab. Please only run these if you are using Colab."
   ]
  },
  {
   "cell_type": "code",
   "execution_count": 2,
   "metadata": {},
   "outputs": [
    {
     "ename": "ModuleNotFoundError",
     "evalue": "No module named 'condacolab'",
     "output_type": "error",
     "traceback": [
      "\u001b[0;31m---------------------------------------------------------------------------\u001b[0m",
      "\u001b[0;31mModuleNotFoundError\u001b[0m                       Traceback (most recent call last)",
      "\u001b[0;32m/var/folders/pp/0_mxh1lx3xl5t3nlhpzsxm6m0000gn/T/ipykernel_34691/397036325.py\u001b[0m in \u001b[0;36m<module>\u001b[0;34m\u001b[0m\n\u001b[1;32m      1\u001b[0m \u001b[0;31m# NBVAL_SKIP\u001b[0m\u001b[0;34m\u001b[0m\u001b[0;34m\u001b[0m\u001b[0;34m\u001b[0m\u001b[0m\n\u001b[1;32m      2\u001b[0m \u001b[0mget_ipython\u001b[0m\u001b[0;34m(\u001b[0m\u001b[0;34m)\u001b[0m\u001b[0;34m.\u001b[0m\u001b[0msystem\u001b[0m\u001b[0;34m(\u001b[0m\u001b[0;34m'if [ -n \"$COLAB_GPU\" ]; then pip install condacolab; fi'\u001b[0m\u001b[0;34m)\u001b[0m\u001b[0;34m\u001b[0m\u001b[0;34m\u001b[0m\u001b[0m\n\u001b[0;32m----> 3\u001b[0;31m \u001b[0;32mimport\u001b[0m \u001b[0mcondacolab\u001b[0m\u001b[0;34m\u001b[0m\u001b[0;34m\u001b[0m\u001b[0m\n\u001b[0m\u001b[1;32m      4\u001b[0m \u001b[0mcondacolab\u001b[0m\u001b[0;34m.\u001b[0m\u001b[0minstall\u001b[0m\u001b[0;34m(\u001b[0m\u001b[0;34m)\u001b[0m\u001b[0;34m\u001b[0m\u001b[0;34m\u001b[0m\u001b[0m\n",
      "\u001b[0;31mModuleNotFoundError\u001b[0m: No module named 'condacolab'"
     ]
    }
   ],
   "source": [
    "# NBVAL_SKIP\n",
    "!if [ -n \"$COLAB_GPU\" ]; then pip install condacolab; fi\n",
    "import condacolab\n",
    "condacolab.install()"
   ]
  },
  {
   "cell_type": "code",
   "execution_count": null,
   "metadata": {},
   "outputs": [],
   "source": [
    "# NBVAL_SKIP\n",
    "import condacolab\n",
    "condacolab.check()\n",
    "!mamba install -c conda-forge mdanalysis mdanalysistests mdanalysisdata nglview"
   ]
  },
  {
   "cell_type": "code",
   "execution_count": 3,
   "metadata": {},
   "outputs": [
    {
     "ename": "ModuleNotFoundError",
     "evalue": "No module named 'google'",
     "output_type": "error",
     "traceback": [
      "\u001b[0;31m---------------------------------------------------------------------------\u001b[0m",
      "\u001b[0;31mModuleNotFoundError\u001b[0m                       Traceback (most recent call last)",
      "\u001b[0;32m/var/folders/pp/0_mxh1lx3xl5t3nlhpzsxm6m0000gn/T/ipykernel_34691/471744671.py\u001b[0m in \u001b[0;36m<module>\u001b[0;34m\u001b[0m\n\u001b[1;32m      1\u001b[0m \u001b[0;31m# NBVAL_SKIP\u001b[0m\u001b[0;34m\u001b[0m\u001b[0;34m\u001b[0m\u001b[0;34m\u001b[0m\u001b[0m\n\u001b[1;32m      2\u001b[0m \u001b[0;31m# enable third party jupyter widgets\u001b[0m\u001b[0;34m\u001b[0m\u001b[0;34m\u001b[0m\u001b[0;34m\u001b[0m\u001b[0m\n\u001b[0;32m----> 3\u001b[0;31m \u001b[0;32mfrom\u001b[0m \u001b[0mgoogle\u001b[0m\u001b[0;34m.\u001b[0m\u001b[0mcolab\u001b[0m \u001b[0;32mimport\u001b[0m \u001b[0moutput\u001b[0m\u001b[0;34m\u001b[0m\u001b[0;34m\u001b[0m\u001b[0m\n\u001b[0m\u001b[1;32m      4\u001b[0m \u001b[0moutput\u001b[0m\u001b[0;34m.\u001b[0m\u001b[0menable_custom_widget_manager\u001b[0m\u001b[0;34m(\u001b[0m\u001b[0;34m)\u001b[0m\u001b[0;34m\u001b[0m\u001b[0;34m\u001b[0m\u001b[0m\n",
      "\u001b[0;31mModuleNotFoundError\u001b[0m: No module named 'google'"
     ]
    }
   ],
   "source": [
    "# NBVAL_SKIP\n",
    "# enable third party jupyter widgets\n",
    "from google.colab import output\n",
    "output.enable_custom_widget_manager()"
   ]
  },
  {
   "cell_type": "markdown",
   "metadata": {},
   "source": [
    "## **Jupyter cheat sheet**:\n",
    "- to run the currently highlighted cell, hold <kbd>&#x21E7; Shift</kbd> and press <kbd>&#x23ce; Enter</kbd>;\n",
    "- to get help for a specific function, place the cursor within the function's brackets, hold <kbd>&#x21E7; Shift</kbd>, and press <kbd>&#x21E5; Tab</kbd>;"
   ]
  },
  {
   "cell_type": "markdown",
   "metadata": {},
   "source": [
    "<div class=\"alert alert-warning\"><b> REMEMBER: variables persist between cells</b> \n",
    "    \n",
    "Be aware that it is the order of execution of cells that is important in a Jupyter notebook, not the <em>order</em> in which they appear. Python will remember <em>all</em> the code that was run previously, including any variables you have defined, irrespective of the order in the notebook. Therefore if you define variables lower down the notebook and then (re)run cells further up, those defined further down will still be present. </div> "
   ]
  },
  {
   "cell_type": "markdown",
   "metadata": {
    "slideshow": {
     "slide_type": "slide"
    }
   },
   "source": [
    "\n",
    "## Learning outcomes:\n",
    "\n",
    "\n",
    "* How to access atom positions\n",
    "\n",
    "* Calculating bonds and distances  \n",
    "\n",
    "* Calculating angles\n",
    "\n",
    "* How box information is stored and how this relates to periodic boundaries, wrapping/unwrapping \n",
    "\n",
    "* Efficient distance calculations and sparse arrays\n",
    "\n",
    "* Loading trajectories, iterating over frames and selecting frames"
   ]
  },
  {
   "cell_type": "markdown",
   "metadata": {},
   "source": [
    "## Additional resources\n",
    " - During the workshop, feel free to ask questions at any time\n",
    " - For more on how to use MDAnalysis, see the [User Guide](https://userguide.mdanalysis.org/2.0.0-dev0/) and [documentation](https://docs.mdanalysis.org/2.0.0-dev0/)\n",
    " - Ask questions on the [user mailing list](https://groups.google.com/group/mdnalysis-discussion) or on [Discord](https://discord.gg/fXTSfDJyxE)\n",
    " - Report bugs on [GitHub](https://github.com/MDAnalysis/mdanalysis/issues?)\n"
   ]
  },
  {
   "cell_type": "markdown",
   "metadata": {
    "cell_style": "center",
    "hide_input": false
   },
   "source": [
    "## Table of Contents\n",
    "\n",
    "1. [Atom positions](#positions)  \n",
    "2. [Bonds and Distances: end-to-end distance](#bonds)    \n",
    "3. [Calculating Angles: AdK opening](#angles)     \n",
    "4. [More distances and angles: hydrogen bonds of PEG in water](#distarrays)\n",
    "5. [Trajectories and Frames](#trajectory)\n",
    "6. [Analysing trajectories](#trajanalysis)"
   ]
  },
  {
   "cell_type": "markdown",
   "metadata": {},
   "source": [
    "### Imports\n",
    "\n",
    "We start with the usual imports:"
   ]
  },
  {
   "cell_type": "code",
   "execution_count": 25,
   "metadata": {},
   "outputs": [],
   "source": [
    "import MDAnalysis as mda\n",
    "import MDAnalysisData as data\n",
    "import nglview\n",
    "import numpy as np\n",
    "import matplotlib.pyplot as plt"
   ]
  },
  {
   "cell_type": "markdown",
   "metadata": {},
   "source": [
    "### Example: a PEG chain in water\n",
    "\n",
    "Load a dataset from `MDAnalysisData`: a PEG - poly(ethyleneglycol) chain $HO(CH2CH2)_{20}OH$ in water"
   ]
  },
  {
   "cell_type": "code",
   "execution_count": 10,
   "metadata": {},
   "outputs": [],
   "source": [
    "PEG_example = data.datasets.fetch_PEG_1chain()"
   ]
  },
  {
   "cell_type": "markdown",
   "metadata": {},
   "source": [
    "Create a Universe by loading the topology and coordinates:"
   ]
  },
  {
   "cell_type": "code",
   "execution_count": 11,
   "metadata": {},
   "outputs": [],
   "source": [
    "peg_u = mda.Universe(PEG_example['topology'], PEG_example['trajectory'])"
   ]
  },
  {
   "cell_type": "markdown",
   "metadata": {},
   "source": [
    "We loaded a trajectory with 50 frames, but for the first part of this tutorial we'll limit ourselves to look at one frame."
   ]
  },
  {
   "cell_type": "markdown",
   "metadata": {},
   "source": [
    "The polymer is the first residue:"
   ]
  },
  {
   "cell_type": "code",
   "execution_count": null,
   "metadata": {},
   "outputs": [],
   "source": [
    "peg = peg_u.atoms.residues[0]"
   ]
  },
  {
   "cell_type": "markdown",
   "metadata": {},
   "source": [
    "### Visualize the system with `nglview`\n",
    "\n",
    "`nglview` takes either a `Universe` or an `AtomGroup` as input:"
   ]
  },
  {
   "cell_type": "code",
   "execution_count": null,
   "metadata": {},
   "outputs": [],
   "source": [
    "poly = nglview.show_mdanalysis(peg)\n",
    "poly"
   ]
  },
  {
   "cell_type": "markdown",
   "metadata": {},
   "source": [
    "## Atom positions\n",
    "<a id='positions'></a>\n",
    "\n",
    "The most important attribute of your atoms is undoubtedly their positions! The position information is made available via an `AtomGroup` in the `positions` attribute:"
   ]
  },
  {
   "cell_type": "code",
   "execution_count": null,
   "metadata": {},
   "outputs": [],
   "source": [
    "Os = peg_u.select_atoms('type os')\n",
    "\n",
    "Os.positions"
   ]
  },
  {
   "cell_type": "markdown",
   "metadata": {},
   "source": [
    "this returns a numpy array with x, y and z coordinates."
   ]
  },
  {
   "cell_type": "markdown",
   "metadata": {},
   "source": [
    "### Center of geometry\n",
    "\n",
    "We can use `numpy` functions to manipulate coordinates. For instance, we can calculate the center of geometry:"
   ]
  },
  {
   "cell_type": "code",
   "execution_count": null,
   "metadata": {},
   "outputs": [],
   "source": [
    "cog = np.mean(Os.positions, axis=0)\n",
    "print(cog)"
   ]
  },
  {
   "cell_type": "markdown",
   "metadata": {},
   "source": [
    "<div class=\"alert alert-info\"> \n",
    "    \n",
    "`AtomGroups` **and built-in functions** \n",
    "\n",
    "MDAnalysis `AtomGroups` have a convenient `center_of_mass()` method to get their center of mass at the current frame. \n",
    "Other  methods for common calculations based on positions include `center_of_geometry()`, `radius_of_gyration()` and `principal_axes()`. </div> "
   ]
  },
  {
   "cell_type": "code",
   "execution_count": null,
   "metadata": {},
   "outputs": [],
   "source": [
    "Os.center_of_geometry()"
   ]
  },
  {
   "cell_type": "markdown",
   "metadata": {
    "solution2": "hidden",
    "solution2_first": true
   },
   "source": [
    "### Exercise: calculate radius of gyration of PEG\n",
    "\n",
    "Using the `radius_of_gyration()` function, calculate the radius of gyration of PEG:"
   ]
  },
  {
   "cell_type": "code",
   "execution_count": null,
   "metadata": {
    "solution2": "hidden"
   },
   "outputs": [],
   "source": [
    "#select polymer as the first residue:\n",
    "peg_chain = peg_u.residues[0]\n",
    "\n",
    "rog = peg_chain.atoms.radius_of_gyration()\n",
    "\n",
    "\n",
    "print(rog)"
   ]
  },
  {
   "cell_type": "markdown",
   "metadata": {},
   "source": [
    "##  Bonds and Distances\n",
    "<a id='bonds'></a>"
   ]
  },
  {
   "cell_type": "markdown",
   "metadata": {},
   "source": [
    "### End-to-end distance of a PEG chain "
   ]
  },
  {
   "cell_type": "markdown",
   "metadata": {},
   "source": [
    "We can use the hydrogens in the capping -OH groups (`type ho`) as reference points. First, select the two hydrogen atoms:"
   ]
  },
  {
   "cell_type": "code",
   "execution_count": null,
   "metadata": {},
   "outputs": [],
   "source": [
    "Hb, He = peg_u.atoms.select_atoms(\"type ho\")"
   ]
  },
  {
   "cell_type": "code",
   "execution_count": null,
   "metadata": {},
   "outputs": [],
   "source": [
    "np.linalg.norm(Hb.position - He.position)"
   ]
  },
  {
   "cell_type": "markdown",
   "metadata": {},
   "source": [
    "<div class=\"alert alert-info\"><b> Built-in functions 2: bonds</b>\n",
    "    \n",
    "`MDAnalysis.lib.distances` has a `calc_bonds` method which allows users to calculate periodic aware distances between two sets of positions. </div> "
   ]
  },
  {
   "cell_type": "markdown",
   "metadata": {},
   "source": [
    "Then, calculate the distance between their coordinates:"
   ]
  },
  {
   "cell_type": "code",
   "execution_count": null,
   "metadata": {},
   "outputs": [],
   "source": [
    "mda.lib.distances.calc_bonds(Hb.position, He.position, box=peg_u.dimensions)"
   ]
  },
  {
   "cell_type": "markdown",
   "metadata": {},
   "source": [
    "## Calculating Angles\n",
    "<a id='angles'></a>"
   ]
  },
  {
   "cell_type": "code",
   "execution_count": 77,
   "metadata": {},
   "outputs": [],
   "source": [
    "from MDAnalysisData.datasets import fetch_adk_transitions_DIMS\n",
    "adk = fetch_adk_transitions_DIMS()\n",
    "adk_u = mda.Universe(adk.topology, adk.trajectories[:1])"
   ]
  },
  {
   "cell_type": "markdown",
   "metadata": {},
   "source": [
    "### AdK angles\n",
    "\n",
    "The enzyme *adenylate kinase* catalyzes the reaction ATP + AMP <-> 2 ADP. \n",
    "\n",
    "It undergoes a *conformational transition* beteween a closed ([1AKE](https://www.rcsb.org/structure/1AKE)) and open ([4AKE](https://www.rcsb.org/structure/4AKE)) conformational state [1], even in the absence of substrates.\n",
    "\n",
    "<center><img src=\"imgs/adk.png\" alt=\"mda\" style=\"width: 300px;\"/></center>\n",
    "1. S. L. Seyler and O. Beckstein. Sampling of large conformational transitions: Adenylate kinase as a testing ground. Molec. Simul., 40(10–11):855–877, 2014. doi: 10.1080/08927022.2014.919497"
   ]
  },
  {
   "cell_type": "markdown",
   "metadata": {},
   "source": [
    "Let's look in more detail at the AdK protein. AdK has three domains:\n",
    "\n",
    " - CORE (residues 1-29, 60-121, 160-214)\n",
    " - NMP (residues 30-59)\n",
    " - LID (residues 122-159)\n",
    "\n",
    "Angles between these domains can be used to distinguish open and closed states of the AdK protein. These angles are defined between the center of geometry of the backbone and C$_\\beta$ atoms of the following groups of atoms:\n",
    "\n",
    " - $\\theta_{NMP}$ is defined between residues:\n",
    "   - A: 115-125 \n",
    "   - B: 90-100\n",
    "   - C: 35-55\n",
    " - $\\theta_{LIC}$ is defined between residues:\n",
    "   - A: 179-185\n",
    "   - B: 112-125\n",
    "   - C: 125-153 \n",
    "\n"
   ]
  },
  {
   "cell_type": "markdown",
   "metadata": {},
   "source": [
    "The angle between two vectors is given by:\n",
    "\n",
    "$$\\theta = arccos\\left( \\frac{\\vec{BA}\\cdot\\vec{BC}}{|\\vec{BA}||\\vec{BC}|} \\right)$$"
   ]
  },
  {
   "cell_type": "markdown",
   "metadata": {},
   "source": [
    "We first define the coordinate centers for each residue by using `center_of_geometry`:"
   ]
  },
  {
   "cell_type": "code",
   "execution_count": null,
   "metadata": {},
   "outputs": [],
   "source": [
    "A_NMP = adk_u.select_atoms('resid 115-125 and (backbone or name CB)').center_of_geometry()\n",
    "B_NMP = adk_u.select_atoms('resid 90-100 and (backbone or name CB)').center_of_geometry()\n",
    "C_NMP = adk_u.select_atoms('resid 35-55 and (backbone or name CB)').center_of_geometry()\n",
    "\n",
    "A_LID = adk_u.select_atoms('resid 179-185 and (backbone or name CB)').center_of_geometry()\n",
    "B_LID = adk_u.select_atoms('resid 112-125 and (backbone or name CB)').center_of_geometry()\n",
    "C_LID = adk_u.select_atoms('resid 125-153 and (backbone or name CB)').center_of_geometry()"
   ]
  },
  {
   "cell_type": "markdown",
   "metadata": {},
   "source": [
    "### the `numpy` way \n",
    "\n",
    "\n",
    "You can use `numpy.linalg.norm()` to calculate the norm of a vector. Numpy also has functions `numpy.arccos()` and `numpy.dot()`:"
   ]
  },
  {
   "cell_type": "code",
   "execution_count": null,
   "metadata": {},
   "outputs": [],
   "source": [
    "import numpy as np\n",
    "from numpy.linalg import norm\n",
    "\n",
    "# define vectors BA and BC\n",
    "BA_NMP = A_NMP - B_NMP\n",
    "BC_NMP = C_NMP - B_NMP\n",
    "\n",
    "# calculate theta_NMP\n",
    "theta_NMP = np.arccos(np.dot(BA_NMP, BC_NMP)/(norm(BA_NMP)*norm(BC_NMP)))\n",
    "\n",
    "print('theta_NMP: ', np.rad2deg(theta_NMP))\n",
    "\n",
    "# define vectors BA and BC\n",
    "BA_LID = A_LID - B_LID\n",
    "BC_LID = C_LID - B_LID\n",
    "\n",
    "# calculate theta_LID\n",
    "theta_LID = np.arccos(np.dot(BA_LID, BC_LID)/(norm(BA_LID)*norm(BC_LID)))\n",
    "\n",
    "print('theta_LID: ', np.rad2deg(theta_LID))"
   ]
  },
  {
   "cell_type": "markdown",
   "metadata": {},
   "source": [
    "<div class=\"alert alert-info\"><b> Built-in functions 3: angles and dihedrals</b> \n",
    "    \n",
    "`MDAnalysis.lib.distances` has a `calc_angles` method which allows users to calculate periodic aware angles between 3 array-like sets of positions. \n",
    "    \n",
    "In the same way, it is possible to calculate dihedrals with `calc_dihedrals`. </div> "
   ]
  },
  {
   "cell_type": "markdown",
   "metadata": {},
   "source": [
    "### the  `MDAnalysis` way\n",
    "\n",
    "There's an alternative, much faster way! \n",
    "Let's use `calc_angles` to get the angles $\\theta_{NMP}$ and $\\theta_{LID}$:"
   ]
  },
  {
   "cell_type": "code",
   "execution_count": null,
   "metadata": {},
   "outputs": [],
   "source": [
    "theta_NMP = mda.lib.distances.calc_angles(A_NMP, B_NMP, C_NMP)\n",
    "theta_LID = mda.lib.distances.calc_angles(A_LID, B_LID, C_LID)\n",
    "\n",
    "print('theta_NMP: ', np.rad2deg(theta_NMP))\n",
    "print('theta_LID: ', np.rad2deg(theta_LID))"
   ]
  },
  {
   "cell_type": "markdown",
   "metadata": {},
   "source": [
    "`calc_angles`, like all `MDAnalysis.lib.distances` functions, has an optional argument to specify periodic boundary conditions:\n",
    "\n",
    "```\n",
    " mda.lib.distances.calc_angles(\n",
    "    coords1,\n",
    "    coords2,\n",
    "    coords3,\n",
    "    box=None,\n",
    "    result=None,\n",
    "    backend='serial')\n",
    "   ``` \n",
    "    "
   ]
  },
  {
   "cell_type": "markdown",
   "metadata": {},
   "source": [
    "## More distances and angles: hydrogen bonds in PEG\n",
    "<a id='distarrays'></a>\n",
    "\n",
    "This example will show you how to use various functions in `MDAnalysis.lib.distances` to identify hydrogen bonding between certain residues and the water solvent.\n",
    "\n",
    "A hydrogen bond (in the context of this analysis) will be defined as an interaction between three atoms:\n",
    "- An acceptor, which is attracting the hydrogen\n",
    "- A hydrogen, which is being pulled into the acceptor\n",
    "- A donor, which is bonded to the hydrogen and being dragged along for the ride.\n",
    "\n",
    "We will use the following geometric criteria:\n",
    "- a hydrogen-acceptor distance of 3.0A \n",
    "- an acceptor-hydrogen-donor angle of greater than 120 degrees."
   ]
  },
  {
   "cell_type": "markdown",
   "metadata": {},
   "source": [
    "We can go back to our PEG chain in water. Oxygen atoms in PEG can accept hydrogen bonds from water:"
   ]
  },
  {
   "cell_type": "code",
   "execution_count": 12,
   "metadata": {},
   "outputs": [],
   "source": [
    "# select oxygen atoms - types os and oh\n",
    "acceptors = peg_u.atoms.select_atoms(\"type os oh\")"
   ]
  },
  {
   "cell_type": "markdown",
   "metadata": {},
   "source": [
    "Select hydrogens (from water):"
   ]
  },
  {
   "cell_type": "code",
   "execution_count": 13,
   "metadata": {},
   "outputs": [],
   "source": [
    "hydrogens = peg_u.atoms.select_atoms(\"type HW\")"
   ]
  },
  {
   "cell_type": "markdown",
   "metadata": {},
   "source": [
    "### Distance criteria\n",
    "\n",
    "We first want to identify hydrogens and acceptors that are within our distance criteria of 3.0 angstrom.\n",
    "A naive approach is to calculate a `distance_array` between all acceptors and all hydrogens.:"
   ]
  },
  {
   "cell_type": "code",
   "execution_count": null,
   "metadata": {},
   "outputs": [],
   "source": [
    "%%time\n",
    "\n",
    "da = mda.lib.distances.distance_array(acceptors.positions, hydrogens.positions, box=peg_u.dimensions)"
   ]
  },
  {
   "cell_type": "markdown",
   "metadata": {},
   "source": [
    "<div class=\"alert alert-info\"><b>HINT</b>\n",
    "\n",
    "`np.where` is a handy function for returning the *indices* of where a condition is True.  Here we use it to extract the row and column numbers of where an entry in a distance matrix is less than 3.0.</div>\n",
    "     "
   ]
  },
  {
   "cell_type": "code",
   "execution_count": null,
   "metadata": {},
   "outputs": [],
   "source": [
    "acc_idx, hyd_idx = np.where(da < 3.0)"
   ]
  },
  {
   "cell_type": "markdown",
   "metadata": {},
   "source": [
    "### Using `capped_distance`\n",
    "\n",
    "This is a great example of where we're not interested in all distances, but instead only those up to a given cutoff - Using `capped_distance` is much quicker here!"
   ]
  },
  {
   "cell_type": "markdown",
   "metadata": {},
   "source": [
    "<div class=\"alert alert-info\"><b>Reminder</b> \n",
    "\n",
    "The output of `capped_distance` is no longer a matrix, but an array of indices and the distance values at those indices.  This can be thought of as a sparse matrix.\n",
    " </div>"
   ]
  },
  {
   "cell_type": "markdown",
   "metadata": {},
   "source": [
    "Try experimenting with the cutoff distance to see how the time required varies."
   ]
  },
  {
   "cell_type": "code",
   "execution_count": 19,
   "metadata": {},
   "outputs": [
    {
     "name": "stdout",
     "output_type": "stream",
     "text": [
      "CPU times: user 1.26 ms, sys: 775 µs, total: 2.03 ms\n",
      "Wall time: 1.06 ms\n"
     ]
    }
   ],
   "source": [
    "%%time \n",
    "\n",
    "idx, dists = mda.lib.distances.capped_distance(acceptors.positions, hydrogens.positions, max_cutoff=3.0,\n",
    "                                            box=peg_u.dimensions)"
   ]
  },
  {
   "cell_type": "markdown",
   "metadata": {},
   "source": [
    "**TIP:** by adding the argument `return_distances=False` to `capped_distance`, we can avoid returning distances and keep just the *indices*.\n"
   ]
  },
  {
   "cell_type": "markdown",
   "metadata": {},
   "source": [
    "\n",
    "The `idx` array is a `(n, 2)` array of indices; to grab the first and second column, we can transpose the array (`.T`) and assign each row to a variable, `acc_idx` for the *indices* of the acceptors and `hyd_idx` for the *indices* of the hydrogen atoms."
   ]
  },
  {
   "cell_type": "code",
   "execution_count": 20,
   "metadata": {},
   "outputs": [],
   "source": [
    "acc_idx, hyd_idx = idx.T"
   ]
  },
  {
   "cell_type": "markdown",
   "metadata": {},
   "source": [
    "Remembering that we can slice `AtomGroup`s with numpy arrays, we can use these indices arrays to slice our original `AtomGroup`s to filter them down and make them smaller."
   ]
  },
  {
   "cell_type": "code",
   "execution_count": 21,
   "metadata": {},
   "outputs": [],
   "source": [
    "# select potential hydrogen bonds to check angles\n",
    "potential_hbond_acceptors = acceptors[acc_idx]\n",
    "potential_hbond_hydrogens = hydrogens[hyd_idx]"
   ]
  },
  {
   "cell_type": "markdown",
   "metadata": {},
   "source": [
    "To get the **donors** for each hydrogen bond is slightly trickier.\n",
    "We can use the fact that hydrogens will only have one covalent bond, and simply loop over the hydrogen atoms, grabbing the first (and only) bonded atom of each. "
   ]
  },
  {
   "cell_type": "code",
   "execution_count": 23,
   "metadata": {},
   "outputs": [],
   "source": [
    "potential_hbond_donors = sum(h.bonded_atoms[0] for h in potential_hbond_hydrogens)"
   ]
  },
  {
   "cell_type": "markdown",
   "metadata": {},
   "source": [
    "<div class=\"alert alert-info\"><b>Reminder</b>  \n",
    "\n",
    "A `sum()` over `MDAnalysis.Atom` objects will produce an `AtomGroup`!\n",
    "\n",
    "</div>"
   ]
  },
  {
   "cell_type": "markdown",
   "metadata": {},
   "source": [
    "### Checking the angle criteria\n",
    "\n",
    "Now that we've identified hydrogens and acceptors which are close enough for a hydrogen bond, we can now check our angular criteria.\n",
    "The angle formed by the acceptor-hydrogen-donor must be greater than 120 degrees!\n"
   ]
  },
  {
   "cell_type": "markdown",
   "metadata": {},
   "source": [
    "<div class=\"alert alert-info\"><b>Reminder</b>  \n",
    "    \n",
    "The input to `calc_angles` must be in the correct order, with the second array of positions being the vertex of the angle.  Results are returned in radians!\n",
    " </div>"
   ]
  },
  {
   "cell_type": "markdown",
   "metadata": {},
   "source": [
    "By first checking the distance criteria and filtering down our input, we greatly reduce the number of angles we must calculate.\n",
    "This is important as angles calculations are computationally more expensive than distance calculations."
   ]
  },
  {
   "cell_type": "code",
   "execution_count": 27,
   "metadata": {},
   "outputs": [],
   "source": [
    "angles = np.rad2deg(\n",
    "    mda.lib.distances.calc_angles(potential_hbond_acceptors.positions,\n",
    "                                  potential_hbond_hydrogens.positions,\n",
    "                                  potential_hbond_donors.positions, box=peg_u.dimensions)\n",
    ")"
   ]
  },
  {
   "cell_type": "markdown",
   "metadata": {},
   "source": [
    "Again we can use `np.where` to get the *indices* of where a condition is True, here if a value is above 120."
   ]
  },
  {
   "cell_type": "code",
   "execution_count": 28,
   "metadata": {},
   "outputs": [],
   "source": [
    "angle_idx = np.where(angles >= 120.0)"
   ]
  },
  {
   "cell_type": "markdown",
   "metadata": {},
   "source": [
    "Finally, we can slice our list of candidate atoms with `angle_idx` to get three `AtomGroup`s, each representing a different component in a hydrogen bond."
   ]
  },
  {
   "cell_type": "code",
   "execution_count": 29,
   "metadata": {},
   "outputs": [],
   "source": [
    "hbond_acceptors = potential_hbond_acceptors[angle_idx]\n",
    "hbond_hydrogens = potential_hbond_hydrogens[angle_idx]\n",
    "hbond_donors = potential_hbond_donors[angle_idx]"
   ]
  },
  {
   "cell_type": "code",
   "execution_count": 74,
   "metadata": {},
   "outputs": [
    {
     "data": {
      "text/plain": [
       "<AtomGroup with 43 atoms>"
      ]
     },
     "execution_count": 74,
     "metadata": {},
     "output_type": "execute_result"
    }
   ],
   "source": [
    "hbond_acceptors"
   ]
  },
  {
   "cell_type": "markdown",
   "metadata": {},
   "source": [
    "We have 21 oxygen acceptors, so it's reasonable to expect to detect around 2 hydrogen bonds per acceptor."
   ]
  },
  {
   "cell_type": "markdown",
   "metadata": {
    "solution2": "hidden",
    "solution2_first": true
   },
   "source": [
    "<div class=\"alert alert-success\"> <b>Exercise</b> \n",
    "\n",
    "Now let's wrap all the above into a function to analyse hydrogen bonds. \n",
    "    \n",
    "The function will need as input the `hydrogens` and `acceptors` `AtomGroup`s, and return `hbond_acceptors`, `hbond_hydrogens`, `hbond_donors`.\n",
    "\n",
    "</div>"
   ]
  },
  {
   "cell_type": "code",
   "execution_count": null,
   "metadata": {
    "solution2": "hidden"
   },
   "outputs": [],
   "source": [
    "#solution\n",
    "def calculate_hbonds(hydrogens, acceptors):\n",
    "    \n",
    "    idx = mda.lib.distances.capped_distance(acceptors.positions, \n",
    "                                                   hydrogens.positions, \n",
    "                                                   max_cutoff=3.0, \n",
    "                                                   return_distances=False,\n",
    "                                                   box=acceptors.dimensions)\n",
    "    # get indexes of acceptors, hydrogens \n",
    "    acc_idx, hyd_idx = idx.T\n",
    "    \n",
    "    # select potential hydrogen bonds to check angles\n",
    "    potential_hbond_acceptors = acceptors[acc_idx]\n",
    "    potential_hbond_hydrogens = hydrogens[hyd_idx]\n",
    "    \n",
    "    # select potential oxygen donors\n",
    "    potential_hbond_donors = sum(h.bonded_atoms[0] for h in potential_hbond_hydrogens)\n",
    "    \n",
    "    # critical angle\n",
    "    angle_idx = np.where(angles >= 120.0)\n",
    "    \n",
    "    hbond_acceptors = potential_hbond_acceptors[angle_idx]\n",
    "    hbond_hydrogens = potential_hbond_hydrogens[angle_idx]\n",
    "    hbond_donors = potential_hbond_donors[angle_idx]\n",
    "\n",
    "    return hbond_acceptors, hbond_hydrogens, hbond_donors\n"
   ]
  },
  {
   "cell_type": "code",
   "execution_count": null,
   "metadata": {},
   "outputs": [],
   "source": []
  },
  {
   "cell_type": "code",
   "execution_count": 73,
   "metadata": {
    "solution2": "hidden"
   },
   "outputs": [],
   "source": [
    "def hbonds(hydrogens, acceptors):\n",
    "    \n",
    "    \"\"\" this function calculates hydrogen bonds \"\"\"\n",
    "    \n",
    "    acc_idx, hyd_idx = idx.T\n",
    "    \n",
    "    idx, dists = mda.lib.distances.capped_distance(acceptors.positions, \n",
    "                                                   hydrogens.positions, \n",
    "                                                   max_cutoff=3.0,\n",
    "                                                   box=acceptors.dimensions)    \n",
    "\n",
    "    \n",
    "    acc_idx, hyd_idx = idx.T\n",
    "\n",
    "    # select potential hydrogen bonds to check angles\n",
    "    potential_hbond_acceptors = acceptors[acc_idx]\n",
    "    potential_hbond_hydrogens = hydrogens[hyd_idx]\n",
    "\n",
    "    # select hydrogen bond donors by looping over hydrogens and selecting the bonded oxygens\n",
    "    potential_hbond_donors = sum(h.bonded_atoms[0] for h in potential_hbond_hydrogens)\n",
    "    \n",
    "    angles = mda.lib.distances.calc_angles(potential_hbond_acceptors.positions,\n",
    "                                  potential_hbond_hydrogens.positions,\n",
    "                                  potential_hbond_donors.positions, \n",
    "                                  box=u.dimensions)\n",
    "    #convert to degrees\n",
    "    angles = np.rad2deg(angles)\n",
    "    \n",
    "    #check angles are larger than 130 degrees\n",
    "    angle_idx = np.where(angles >= 130.0)\n",
    "    \n",
    "    \n",
    "    hbond_acceptors = potential_hbond_acceptors[angle_idx]\n",
    "    hbond_hydrogens = potential_hbond_hydrogens[angle_idx]\n",
    "    hbond_donors = potential_hbond_donors[angle_idx]\n",
    "    \n",
    "    return hbond_acceptors, hbond_hydrogens, hbond_donors"
   ]
  },
  {
   "cell_type": "markdown",
   "metadata": {},
   "source": [
    "<div class=\"alert alert-info\"> <b>RECAP</b> \n",
    "    \n",
    "How to calculate quickly all possible distances between `AtomGroups` \n",
    "\n",
    " - `self_distance` array only takes one atomgroup\n",
    " - `distance_array` takes two atomgroups and they don't have to contain the same number of atoms.\n",
    " - `capped_distance` and `self_capped_distance` only considers atoms within a certain distance threshold.\n",
    " </div>"
   ]
  },
  {
   "cell_type": "markdown",
   "metadata": {},
   "source": [
    "## Trajectories and Frames\n",
    "<a id='trajectory'></a>\n"
   ]
  },
  {
   "cell_type": "markdown",
   "metadata": {},
   "source": [
    "### Loading a trajectory\n",
    "Loading a trajectory is done in the same way as loading any type of coordinates (as shown in session 1). All you have to do is create a `Universe` object by passing it a topology and the trajectory (here in this case a PSF file and DCD trajectory respectively)."
   ]
  },
  {
   "cell_type": "code",
   "execution_count": 54,
   "metadata": {},
   "outputs": [],
   "source": [
    "# First let's load a PSF and DCD from the MDAnalysis test data\n",
    "from MDAnalysis.tests.datafiles import PSF, DCD\n",
    "u = mda.Universe(PSF, DCD)"
   ]
  },
  {
   "cell_type": "markdown",
   "metadata": {},
   "source": [
    "Trajectory functionality is centered around the `Universe.trajectory` object."
   ]
  },
  {
   "cell_type": "code",
   "execution_count": 55,
   "metadata": {},
   "outputs": [
    {
     "data": {
      "text/plain": [
       "<DCDReader /Users/micaela/anaconda3/envs/mda/lib/python3.7/site-packages/MDAnalysisTests/data/adk_dims.dcd with 98 frames of 3341 atoms>"
      ]
     },
     "execution_count": 55,
     "metadata": {},
     "output_type": "execute_result"
    }
   ],
   "source": [
    "u.trajectory"
   ]
  },
  {
   "cell_type": "markdown",
   "metadata": {},
   "source": [
    "This `trajectory` object has a length in `frames` and a time unit of **picoseconds** (more information about the [MDAnalysis base units](https://docs.mdanalysis.org/2.0.0-dev0/documentation_pages/units.html#id4) is in the docs).\n",
    "\n",
    "The `trajectory` object has many useful attributes, such as the the number of frames `n_frames`, the time between frames `dt`, the total trajectory time `totaltime`."
   ]
  },
  {
   "cell_type": "code",
   "execution_count": 56,
   "metadata": {},
   "outputs": [
    {
     "data": {
      "text/plain": [
       "98"
      ]
     },
     "execution_count": 56,
     "metadata": {},
     "output_type": "execute_result"
    }
   ],
   "source": [
    "# print the number of frames\n",
    "u.trajectory.n_frames"
   ]
  },
  {
   "cell_type": "code",
   "execution_count": 57,
   "metadata": {},
   "outputs": [
    {
     "data": {
      "text/plain": [
       "98"
      ]
     },
     "execution_count": 57,
     "metadata": {},
     "output_type": "execute_result"
    }
   ],
   "source": [
    "# You can also get the number of frames by calling `len` on the trajectory object\n",
    "len(u.trajectory)"
   ]
  },
  {
   "cell_type": "code",
   "execution_count": 58,
   "metadata": {},
   "outputs": [
    {
     "data": {
      "text/plain": [
       "0.9999999119200186"
      ]
     },
     "execution_count": 58,
     "metadata": {},
     "output_type": "execute_result"
    }
   ],
   "source": [
    "# We can get the time between frames with `dt`\n",
    "u.trajectory.dt"
   ]
  },
  {
   "cell_type": "code",
   "execution_count": 59,
   "metadata": {},
   "outputs": [
    {
     "data": {
      "text/plain": [
       "96.9999914562418"
      ]
     },
     "execution_count": 59,
     "metadata": {},
     "output_type": "execute_result"
    }
   ],
   "source": [
    "# And the total simulation time from `totaltime`\n",
    "u.trajectory.totaltime"
   ]
  },
  {
   "cell_type": "markdown",
   "metadata": {},
   "source": [
    "### The Timestep object\n",
    "\n",
    "One of the key components of trajectories is the *Timestep* object `ts`. This is the object that holds the trajectory information **specific to the current frame**.\n",
    "\n",
    "This information mainly includes:\n",
    "* The frame number and time\n",
    "* Unitcell dimensions as `[A, B, C, alpha, beta, gamma]` (or `None` if not available)\n",
    "* The positions (also forces and/or velocities if available)"
   ]
  },
  {
   "cell_type": "code",
   "execution_count": 60,
   "metadata": {},
   "outputs": [
    {
     "data": {
      "text/plain": [
       "< Timestep 0 with unit cell dimensions None >"
      ]
     },
     "execution_count": 60,
     "metadata": {},
     "output_type": "execute_result"
    }
   ],
   "source": [
    "u.trajectory.ts"
   ]
  },
  {
   "cell_type": "markdown",
   "metadata": {},
   "source": [
    "### Moving through a trajectory\n",
    "\n",
    "Up until this point, we have primarily been inspecting only a single frame of the `trajectory` object. By default when creating a `Universe`, the *Timestep* is loaded with the information from the first (zero-th) frame in the trajectory.\n",
    "\n",
    "Here we look at how we can traverse through the trajectory and access the data from different frames.\n",
    "\n",
    "We can consider the `trajectory` object to be an iterator that loads trajectory data from a source (i.e. in most cases the input trajectory file), and feeds the relevant data to the *Timestep* object.\n",
    "\n",
    "The following operations can be done to access the trajectory:\n",
    "* Random access via trajectory indexing\n",
    "* Iterating over all frames\n",
    "* Slicing to iterate over a sub-section of the trajectory\n"
   ]
  },
  {
   "cell_type": "markdown",
   "metadata": {},
   "source": [
    "<div class=\"alert alert-info\"><b>Reminder</b>\n",
    " \n",
    "As is standard in python, `trajectory` access is done via **0-based indices**. So the first frame is `0`, and the final frame is `n_frames - 1`. \n",
    "</div>"
   ]
  },
  {
   "cell_type": "markdown",
   "metadata": {},
   "source": [
    "### Trajectory indexing\n",
    "\n",
    "It is possible to randomly access any frame along a trajectory by passing the index of the frame to the trajectory."
   ]
  },
  {
   "cell_type": "code",
   "execution_count": 61,
   "metadata": {},
   "outputs": [
    {
     "name": "stdout",
     "output_type": "stream",
     "text": [
      "[[ 11.736044   8.500797 -10.445281]\n",
      " [ 12.365119   7.839936 -10.834842]]\n"
     ]
    }
   ],
   "source": [
    "# Let's create an atomgroup for the first two atoms in the Universe\n",
    "# and check their current position at frame 0\n",
    "first_two_atoms = u.atoms[:2]\n",
    "print(first_two_atoms.positions)"
   ]
  },
  {
   "cell_type": "code",
   "execution_count": 62,
   "metadata": {},
   "outputs": [
    {
     "data": {
      "text/plain": [
       "< Timestep 6 with unit cell dimensions None >"
      ]
     },
     "execution_count": 62,
     "metadata": {},
     "output_type": "execute_result"
    }
   ],
   "source": [
    "# Now let's move to the 7th frame\n",
    "u.trajectory[6]"
   ]
  },
  {
   "cell_type": "code",
   "execution_count": 63,
   "metadata": {},
   "outputs": [
    {
     "name": "stdout",
     "output_type": "stream",
     "text": [
      "current frame:  6\n"
     ]
    }
   ],
   "source": [
    "# As we can see the frame number as now updated accordingly\n",
    "print('current frame: ', u.trajectory.frame)"
   ]
  },
  {
   "cell_type": "code",
   "execution_count": 64,
   "metadata": {},
   "outputs": [
    {
     "name": "stdout",
     "output_type": "stream",
     "text": [
      "[[12.797165   8.7441635 -8.535415 ]\n",
      " [13.601504   8.342703  -7.9411635]]\n"
     ]
    }
   ],
   "source": [
    "# The AtomGroup also automatically updates with the new Timestep data\n",
    "print(first_two_atoms.positions)"
   ]
  },
  {
   "cell_type": "markdown",
   "metadata": {},
   "source": [
    "<div class=\"alert alert-info\"><b>Reminder</b>\n",
    "    \n",
    "`AtomGroup`s are not static objects!\n",
    "    \n",
    "Whilst the atoms they represent do not change, their positions (and forces or velocities if available) will change as you move through the trajectory.\n",
    "\n",
    "</div>"
   ]
  },
  {
   "cell_type": "markdown",
   "metadata": {},
   "source": [
    "Any changes to variables that change with `Timestep`, are *temporary*.\n",
    "\n",
    "For example, if you were to override the position of an `AtomGroup` for a given frame, then seek to another frame and come back to the original frame, the positions would be updated back to reflect the contents of the trajectory file:"
   ]
  },
  {
   "cell_type": "code",
   "execution_count": 65,
   "metadata": {},
   "outputs": [
    {
     "name": "stdout",
     "output_type": "stream",
     "text": [
      "frame 0 positions:  [[ 11.736044   8.500797 -10.445281]\n",
      " [ 12.365119   7.839936 -10.834842]]\n",
      "zeroed positions:  [[0. 0. 0.]\n",
      " [0. 0. 0.]]\n"
     ]
    }
   ],
   "source": [
    "# Let's start from frame 0 and override the positions of `first_two_atoms`\n",
    "u.trajectory[0]\n",
    "\n",
    "# `first_two_atoms` positions beforehand\n",
    "print('frame 0 positions: ', first_two_atoms.positions)\n",
    "\n",
    "# `first_two_atoms` after being zeroed\n",
    "first_two_atoms.positions = 0\n",
    "print('zeroed positions: ', first_two_atoms.positions)"
   ]
  },
  {
   "cell_type": "code",
   "execution_count": 66,
   "metadata": {},
   "outputs": [
    {
     "data": {
      "text/plain": [
       "array([[16.090187 ,  6.6099625, -7.7719574],\n",
       "       [16.711832 ,  6.223813 , -6.953144 ]], dtype=float32)"
      ]
     },
     "execution_count": 66,
     "metadata": {},
     "output_type": "execute_result"
    }
   ],
   "source": [
    "# Now let's go the second last frame\n",
    "u.trajectory[-2]\n",
    "first_two_atoms.positions"
   ]
  },
  {
   "cell_type": "code",
   "execution_count": 67,
   "metadata": {},
   "outputs": [
    {
     "data": {
      "text/plain": [
       "array([[ 11.736044,   8.500797, -10.445281],\n",
       "       [ 12.365119,   7.839936, -10.834842]], dtype=float32)"
      ]
     },
     "execution_count": 67,
     "metadata": {},
     "output_type": "execute_result"
    }
   ],
   "source": [
    "# And now we come back to frame 0\n",
    "u.trajectory[0]\n",
    "\n",
    "# positions are no longer zeroed\n",
    "first_two_atoms.positions"
   ]
  },
  {
   "cell_type": "markdown",
   "metadata": {
    "solution2": "hidden",
    "solution2_first": true
   },
   "source": [
    "<div class=\"alert alert-success\"> <b>Exercise</b> \n",
    "\n",
    " \n",
    "\n",
    "Run these two assertions in a separate cell. Is the output what you expect? Why or why not?\n",
    "\n",
    "```python\n",
    "print(\"Equality\", first_two_atoms.positions == first_two_atoms.positions)\n",
    "print(\"Same object in memory\", first_two_atoms.positions is first_two_atoms.positions)\n",
    "```\n",
    "\n",
    "What consequences might arise? e.g. if you wanted to set all Z positions to 0, is the below statement feasible?\n",
    "\n",
    "```python\n",
    "first_two_atoms.positions[:, 2] = 0\n",
    "print(first_two_atoms.positions)\n",
    "```\n",
    "\n",
    "How might you get around this? </div>"
   ]
  },
  {
   "cell_type": "code",
   "execution_count": null,
   "metadata": {
    "code_folding": [],
    "solution2": "hidden"
   },
   "outputs": [],
   "source": [
    "# Exercise "
   ]
  },
  {
   "cell_type": "markdown",
   "metadata": {
    "solution2": "hidden"
   },
   "source": [
    "Running the first pair of statements gives a perplexing result.\n",
    "\n",
    "```ipython\n",
    ">>> print(\"Equality\", first_two_atoms.positions == first_two_atoms.positions)\n",
    "Equality [[ True  True  True]\n",
    " [ True  True  True]]\n",
    ">>> print(\"Same object in memory\", first_two_atoms.positions is first_two_atoms.positions)\n",
    "Equality False\n",
    "```\n",
    "\n",
    "Even though MDAnalysis makes it look as though the `positions` array is a static property that belongs to `first_two_atoms`, remember that the fundamental object that stores dynamic data such as `positions` is the *Timestep*. This means that every time you ask an AtomGroup for its `positions`, the AtomGroup actually asks the Timestep for the positions of *all* the atoms, and then only returns the ones for that atoms inside the group. Therefore, every time you call `AtomGroup.positions`, you are returned a new array.\n",
    "\n",
    "This also explains why directly changing the Z coordinates of `AtomGroup.positions` does not seem to have any effect -- you have modified the values of the the returned copy, not the underlying positions array stored in `Timestep`. So how do you modify the coordinates of an AtomGroup? Well, *setting* the `AtomGroup.positions` attribute will transmit the change to the underlying Timestep. So, the general construct should be:\n",
    "\n",
    "```python\n",
    ">>> coordinates = first_two_atoms.positions\n",
    ">>> coordinates[:, 2] = 0\n",
    ">>> first_two_atoms.positions = coordinates\n",
    ">>> print(first_two_atoms.positions)\n",
    "[[15.249873 12.578178  0.      ]\n",
    " [14.925511 13.58888   0.      ]]\n",
    "```\n",
    "\n",
    "But remember, these changed coordinates will be gone when you switch the active frame, unless the trajectory is in memory."
   ]
  },
  {
   "cell_type": "code",
   "execution_count": null,
   "metadata": {},
   "outputs": [],
   "source": [
    "# Exercise "
   ]
  },
  {
   "cell_type": "markdown",
   "metadata": {},
   "source": [
    "### Iterating through the trajectory\n",
    "\n",
    "Iterating through a trajectory is the most common way to move through a trajectory.\n",
    "\n",
    "For example one could access every frame in the trajectory and store the current time using the following:"
   ]
  },
  {
   "cell_type": "code",
   "execution_count": 53,
   "metadata": {},
   "outputs": [
    {
     "ename": "NameError",
     "evalue": "name 'u' is not defined",
     "output_type": "error",
     "traceback": [
      "\u001b[0;31m---------------------------------------------------------------------------\u001b[0m",
      "\u001b[0;31mNameError\u001b[0m                                 Traceback (most recent call last)",
      "\u001b[0;32m/var/folders/pp/0_mxh1lx3xl5t3nlhpzsxm6m0000gn/T/ipykernel_34691/2151115898.py\u001b[0m in \u001b[0;36m<module>\u001b[0;34m\u001b[0m\n\u001b[1;32m      2\u001b[0m \u001b[0mtimes\u001b[0m \u001b[0;34m=\u001b[0m \u001b[0;34m[\u001b[0m\u001b[0;34m]\u001b[0m\u001b[0;34m\u001b[0m\u001b[0;34m\u001b[0m\u001b[0m\n\u001b[1;32m      3\u001b[0m \u001b[0;34m\u001b[0m\u001b[0m\n\u001b[0;32m----> 4\u001b[0;31m \u001b[0;32mfor\u001b[0m \u001b[0mts\u001b[0m \u001b[0;32min\u001b[0m \u001b[0mu\u001b[0m\u001b[0;34m.\u001b[0m\u001b[0mtrajectory\u001b[0m\u001b[0;34m:\u001b[0m\u001b[0;34m\u001b[0m\u001b[0;34m\u001b[0m\u001b[0m\n\u001b[0m\u001b[1;32m      5\u001b[0m     \u001b[0mtimes\u001b[0m\u001b[0;34m.\u001b[0m\u001b[0mappend\u001b[0m\u001b[0;34m(\u001b[0m\u001b[0mu\u001b[0m\u001b[0;34m.\u001b[0m\u001b[0mtrajectory\u001b[0m\u001b[0;34m.\u001b[0m\u001b[0mtime\u001b[0m\u001b[0;34m)\u001b[0m\u001b[0;34m\u001b[0m\u001b[0;34m\u001b[0m\u001b[0m\n\u001b[1;32m      6\u001b[0m \u001b[0;34m\u001b[0m\u001b[0m\n",
      "\u001b[0;31mNameError\u001b[0m: name 'u' is not defined"
     ]
    }
   ],
   "source": [
    "# Create a list for the times\n",
    "times = []\n",
    "\n",
    "for ts in u.trajectory:\n",
    "    times.append(u.trajectory.time)\n",
    "    \n",
    "print(times)"
   ]
  },
  {
   "cell_type": "markdown",
   "metadata": {},
   "source": [
    "### Trajectory slicing\n",
    "\n",
    "Rather than iterating through the entire trajectory, it is possible to slice the trajectory using a `[start:stop:step]` pattern."
   ]
  },
  {
   "cell_type": "code",
   "execution_count": null,
   "metadata": {},
   "outputs": [],
   "source": [
    "# Let's slice starting at the second frame, ending on the before last frame\n",
    "# and skipping every other frame\n",
    "\n",
    "times = []\n",
    "\n",
    "for ts in u.trajectory[1:-2:2]:\n",
    "    times.append(u.trajectory.time)\n",
    "    \n",
    "print(times)"
   ]
  },
  {
   "cell_type": "markdown",
   "metadata": {
    "solution2": "hidden",
    "solution2_first": true
   },
   "source": [
    "<div class=\"alert alert-success\"> <b>Exercise</b> \n",
    "\n",
    "Create a reversed list of the trajectory times</div>"
   ]
  },
  {
   "cell_type": "code",
   "execution_count": null,
   "metadata": {
    "solution2": "hidden"
   },
   "outputs": [],
   "source": [
    "# Exercise  -- solution\n",
    "times = []\n",
    "\n",
    "for ts in u.trajectory[::-1]:\n",
    "    times.append(u.trajectory.time)\n",
    "    \n",
    "print(times)"
   ]
  },
  {
   "cell_type": "markdown",
   "metadata": {},
   "source": [
    "## Analysing trajectories\n",
    "<a id='trajanalysis'></a>"
   ]
  },
  {
   "cell_type": "markdown",
   "metadata": {},
   "source": [
    "So far we have seen how to use `mda.lib.distances` and other built in functions, and we learned how to move through a trajectory. Now we will see how to iterate over a trajectory to calculate a quantity of interest for each frame, and plot the results."
   ]
  },
  {
   "cell_type": "markdown",
   "metadata": {},
   "source": [
    "When we iterate over the trajectory, the unit cell information and coordinates are automatically updated. In order to calculate a quantity over the entire trajectory, we can create an empty list and add the property value at each frame. \n",
    "\n",
    "\n",
    "### PEG `radius_of_gyration`\n",
    "Let's go back to our PEG chain and calculate the `radius_of_gyration`:"
   ]
  },
  {
   "cell_type": "code",
   "execution_count": 84,
   "metadata": {
    "scrolled": true
   },
   "outputs": [
    {
     "data": {
      "text/plain": [
       "Text(0, 0.5, '$R^2_G$')"
      ]
     },
     "execution_count": 84,
     "metadata": {},
     "output_type": "execute_result"
    },
    {
     "data": {
      "image/png": "[encoded data removed]",
      "text/plain": [
       "<Figure size 432x288 with 1 Axes>"
      ]
     },
     "metadata": {
      "needs_background": "light"
     },
     "output_type": "display_data"
    }
   ],
   "source": [
    "rog = []\n",
    "Os = peg_u.select_atoms('type os')\n",
    "for ts in peg_u.trajectory:\n",
    "    rog.append(Os.radius_of_gyration())\n",
    "\n",
    "#now let's plot:\n",
    "plt.plot(rog)\n",
    "plt.xlabel('frame')\n",
    "plt.ylabel(f'$R^2_G$')"
   ]
  },
  {
   "cell_type": "markdown",
   "metadata": {},
   "source": [
    "### AdK opening\n",
    "\n",
    "Now let's go back to the AdK trajectory and see what happens to the angles between domains as we iterate over the trajectory."
   ]
  },
  {
   "cell_type": "markdown",
   "metadata": {
    "solution2": "hidden",
    "solution2_first": true
   },
   "source": [
    "<div class=\"alert alert-success\"> <b>Exercise</b> \n",
    "\n",
    "\n",
    "By looking at the section on [AdK opening](#angles), the example above and the pseudocode below, calculate and plot the angles. \n",
    "\n",
    "\n",
    "    theta_NMP_traj = []\n",
    "    theta_LID_traj = []\n",
    "\n",
    "    for ts in adk_u.trajectory:\n",
    "    \n",
    "        calculate.theta_NMP\n",
    "        calculate.theta_LID\n",
    "        #remember to convert to degrees with np.rad2deg()\n",
    "        theta_NMP_traj.append(theta_NMP)\n",
    "        theta_LID_traj.append(theta_LID)\n",
    "     \n",
    "\n",
    "    \n",
    "</div>"
   ]
  },
  {
   "cell_type": "code",
   "execution_count": 103,
   "metadata": {
    "solution2": "hidden"
   },
   "outputs": [
    {
     "data": {
      "text/plain": [
       "Text(0, 0.5, 'Angle')"
      ]
     },
     "execution_count": 103,
     "metadata": {},
     "output_type": "execute_result"
    },
    {
     "data": {
      "image/png": "[encoded data removed]",
      "text/plain": [
       "<Figure size 432x288 with 1 Axes>"
      ]
     },
     "metadata": {
      "needs_background": "light"
     },
     "output_type": "display_data"
    }
   ],
   "source": [
    "theta_NMP_traj = []\n",
    "theta_LID_traj = []\n",
    "\n",
    "\n",
    "for ts in adk_u.trajectory:\n",
    "\n",
    "    A_NMP = adk_u.select_atoms('resid 115-125 and (backbone or name CB)').center_of_geometry()\n",
    "    B_NMP = adk_u.select_atoms('resid 90-100 and (backbone or name CB)').center_of_geometry()\n",
    "    C_NMP = adk_u.select_atoms('resid 35-55 and (backbone or name CB)').center_of_geometry()\n",
    "\n",
    "    A_LID = adk_u.select_atoms('resid 179-185 and (backbone or name CB)').center_of_geometry()\n",
    "    B_LID = adk_u.select_atoms('resid 112-125 and (backbone or name CB)').center_of_geometry()\n",
    "    C_LID = adk_u.select_atoms('resid 125-153 and (backbone or name CB)').center_of_geometry()\n",
    "\n",
    "\n",
    "    theta_NMP = mda.lib.distances.calc_angles(A_NMP, B_NMP, C_NMP)\n",
    "    theta_LID = mda.lib.distances.calc_angles(A_LID, B_LID, C_LID)\n",
    "\n",
    "    theta_LID_traj.append(np.rad2deg(theta_LID))\n",
    "    theta_NMP_traj.append(np.rad2deg(theta_NMP))\n",
    "    "
   ]
  },
  {
   "cell_type": "code",
   "execution_count": 104,
   "metadata": {},
   "outputs": [
    {
     "data": {
      "text/plain": [
       "Text(0, 0.5, 'Angle')"
      ]
     },
     "execution_count": 104,
     "metadata": {},
     "output_type": "execute_result"
    },
    {
     "data": {
      "image/png": "[encoded data removed]",
      "text/plain": [
       "<Figure size 432x288 with 1 Axes>"
      ]
     },
     "metadata": {
      "needs_background": "light"
     },
     "output_type": "display_data"
    }
   ],
   "source": [
    "#now let's plot:\n",
    "plt.plot(theta_LID_traj, label=r'$\\theta_{LID}$')\n",
    "plt.plot(theta_NMP_traj, label=r'$\\theta_{NMP}$')\n",
    "plt.legend()\n",
    "plt.xlabel('Frame')\n",
    "plt.ylabel('Angle')"
   ]
  },
  {
   "cell_type": "code",
   "execution_count": null,
   "metadata": {},
   "outputs": [],
   "source": []
  }
 ],
 "metadata": {
  "hide_input": false,
  "kernelspec": {
   "display_name": "Python 3 (ipykernel)",
   "language": "python",
   "name": "python3"
  },
  "language_info": {
   "codemirror_mode": {
    "name": "ipython",
    "version": 3
   },
   "file_extension": ".py",
   "mimetype": "text/x-python",
   "name": "python",
   "nbconvert_exporter": "python",
   "pygments_lexer": "ipython3",
   "version": "3.7.12"
  },
  "toc": {
   "base_numbering": 1,
   "nav_menu": {},
   "number_sections": false,
   "sideBar": true,
   "skip_h1_title": false,
   "title_cell": "Table of Contents",
   "title_sidebar": "Contents",
   "toc_cell": false,
   "toc_position": {
    "height": "calc(100% - 180px)",
    "left": "10px",
    "top": "150px",
    "width": "288px"
   },
   "toc_section_display": true,
   "toc_window_display": true
  }
 },
 "nbformat": 4,
 "nbformat_minor": 4
}
