{
 "cells": [
  {
   "cell_type": "markdown",
   "metadata": {},
   "source": [
    "# Session 1.2: Handling your Coordinates"
   ]
  },
  {
   "cell_type": "markdown",
   "metadata": {},
   "source": [
    "<a rel=\"license\" href=\"http://creativecommons.org/licenses/by/4.0/\"><img alt=\"Creative Commons Licence\" style=\"border-width:0\" src=\"https://i.creativecommons.org/l/by/4.0/88x31.png\" title='This work is licensed under a Creative Commons Attribution 4.0 International License.' align=\"right\"/></a>\n",
    "\n",
    "Author: Dr Richard Gowers   \n",
    "Email: richardjgowers@gmail.com\n",
    "\n",
    "## Learning outcomes:\n",
    "* How to access atom positions\n",
    "* Calculating pairwise distances\n",
    "* Calculating angles\n",
    "* How box information is stored and how this relates to periodic boundaries.\n",
    "* Efficient distance calculations and sparse arrays\n",
    "* Manipulating `Universe.trajectory` to select a frame"
   ]
  },
  {
   "cell_type": "markdown",
   "metadata": {},
   "source": [
    "**Jupyter cheat sheet**:\n",
    "- to run the currently highlighted cell, hold <kbd>&#x21E7; Shift</kbd> and press <kbd>&#x23ce; Enter</kbd>;\n",
    "- to get help for a specific function, place the cursor within the function's brackets, hold <kbd>&#x21E7; Shift</kbd>, and press <kbd>&#x21E5; Tab</kbd>;"
   ]
  },
  {
   "cell_type": "markdown",
   "metadata": {},
   "source": [
    "## Loading the system\n",
    "\n",
    "We will be working with the same system as the previous session:"
   ]
  },
  {
   "cell_type": "code",
   "execution_count": 1,
   "metadata": {},
   "outputs": [
    {
     "name": "stdout",
     "output_type": "stream",
     "text": [
      "<Universe with 3341 atoms>\n"
     ]
    }
   ],
   "source": [
    "import MDAnalysis as mda\n",
    "from MDAnalysis.tests.datafiles import PSF, DCD\n",
    "\n",
    "u = mda.Universe(PSF, DCD)\n",
    "\n",
    "print(u)"
   ]
  },
  {
   "cell_type": "markdown",
   "metadata": {},
   "source": [
    "# 4. Accessing coordinates\n",
    "\n",
    "The most important attribute of your atoms is undoubtedly their positions! The position information is made available via an `AtomGroup` in the `positions` attribute:"
   ]
  },
  {
   "cell_type": "code",
   "execution_count": null,
   "metadata": {},
   "outputs": [],
   "source": [
    "Ca = u.select_atoms('type CA')\n",
    "\n",
    "Ca.positions"
   ]
  },
  {
   "cell_type": "markdown",
   "metadata": {},
   "source": [
    "This returns a `numpy` array, which can be easily manipulated. For example, we can could calulate the center of geometry by:"
   ]
  },
  {
   "cell_type": "code",
   "execution_count": 2,
   "metadata": {},
   "outputs": [
    {
     "name": "stdout",
     "output_type": "stream",
     "text": [
      "[ 0.06873626 -0.04605844 -0.246437  ]\n"
     ]
    }
   ],
   "source": [
    "import numpy as np\n",
    "ca = u.select_atoms('name CA')\n",
    "cog = np.mean(ca.positions, axis=0)\n",
    "print(cog)"
   ]
  },
  {
   "cell_type": "markdown",
   "metadata": {},
   "source": [
    "Alternatively, we can use the built-in method:"
   ]
  },
  {
   "cell_type": "code",
   "execution_count": 3,
   "metadata": {},
   "outputs": [
    {
     "data": {
      "text/plain": [
       "array([ 0.06873595, -0.04605918, -0.24643682])"
      ]
     },
     "execution_count": 3,
     "metadata": {},
     "output_type": "execute_result"
    }
   ],
   "source": [
    "ca.center_of_geometry()"
   ]
  },
  {
   "cell_type": "markdown",
   "metadata": {},
   "source": [
    "Other convenient methods for common calculations based on positions include `center_of_mass()`, `radius_of_gyration()` and `principal_axes()`."
   ]
  },
  {
   "cell_type": "markdown",
   "metadata": {},
   "source": [
    "### Exercise 4\n",
    "\n",
    "\n",
    "Let's look in more detail at the AdK protein. AdK has three domains:\n",
    "\n",
    " - CORE (residues 1-29, 60-121, 160-214)\n",
    " - NMP (residues 30-59)\n",
    " - LID (residues 122-159)\n",
    "\n",
    "\n",
    "<center><img src=\"imgs/adk.png\" alt=\"mda\" style=\"width: 300px;\"/></center>\n",
    "\n",
    "**4a. Calculate the center of mass of each of the three domains**"
   ]
  },
  {
   "cell_type": "code",
   "execution_count": 4,
   "metadata": {},
   "outputs": [
    {
     "name": "stdout",
     "output_type": "stream",
     "text": [
      "{'CORE': array([4.564116  , 2.08700105, 1.54992649]), 'NMP': array([ -3.20330174, -13.60247613,  -3.06221538]), 'LID': array([-15.11337499,   2.12292226,  -4.40910485])}\n"
     ]
    }
   ],
   "source": [
    "domains = {\n",
    "           'CORE': u.select_atoms(\"resid 1-29 60-121 160-214\"),\n",
    "           'NMP': u.select_atoms(\"resid 30-59\"),\n",
    "           'LID': u.select_atoms(\"resid 122-159\")\n",
    "          }\n",
    "cogs = {name: ag.center_of_mass() for name,ag in domains.items()} \n",
    "print(cogs)"
   ]
  },
  {
   "cell_type": "markdown",
   "metadata": {},
   "source": [
    "How do these differ from the centers of geometry?"
   ]
  },
  {
   "cell_type": "markdown",
   "metadata": {},
   "source": [
    "## Calculating angles\n",
    "\n",
    "Angles between these domains can be used to distinguish open and closed states of the protein (see the figure above) [1]. These angles are defined between the center of geometry of the backbone and C$_\\beta$ atoms of the following groups of atoms:\n",
    "\n",
    " - $\\theta_{NMP}$ is defined between residues:\n",
    "   - A: 115-125 \n",
    "   - B: 90-100\n",
    "   - C: 35-55\n",
    " - $\\theta_{LIC}$ is defined between residues:\n",
    "   - A: 179-185\n",
    "   - B: 112-125\n",
    "   - C: 125-153 \n",
    " \n",
    "**4b. Calculate the current values of these angles**\n",
    "\n",
    "Hints:\n",
    " - The angle between two vectors is given by:\n",
    "$$\n",
    "\\theta = arccos\\left( \\frac{\\vec{BA}\\cdot\\vec{BC}}{|\\vec{BA}||\\vec{BC}|} \\right)\n",
    "$$\n",
    "\n",
    "- You can use numpy `numpy.linalg.norm()` to calculate the norm of a vector. Numpy also has functions `numpy.arccos()` and `numpy.dot()`.\n"
   ]
  },
  {
   "cell_type": "code",
   "execution_count": 5,
   "metadata": {},
   "outputs": [
    {
     "name": "stdout",
     "output_type": "stream",
     "text": [
      "theta_NMP:  44.124820978242475\n",
      "theta_LID:  107.21578150193177\n"
     ]
    }
   ],
   "source": [
    "import numpy as np\n",
    "from numpy.linalg import norm\n",
    "\n",
    "A_NMP = u.select_atoms('resid 115-125 and (backbone or name CB)').center_of_geometry()\n",
    "B_NMP = u.select_atoms('resid 90-100 and (backbone or name CB)').center_of_geometry()\n",
    "C_NMP = u.select_atoms('resid 35-55 and (backbone or name CB)').center_of_geometry()\n",
    "BA_NMP = A_NMP - B_NMP\n",
    "BC_NMP = C_NMP - B_NMP\n",
    "theta_NMP = np.arccos(np.dot(BA_NMP, BC_NMP)/(norm(BA_NMP)*norm(BC_NMP)))\n",
    "print('theta_NMP: ', np.rad2deg(theta_NMP))\n",
    "\n",
    "\n",
    "A_LID = u.select_atoms('resid 179-185 and (backbone or name CB)').center_of_geometry()\n",
    "B_LID = u.select_atoms('resid 112-125 and (backbone or name CB)').center_of_geometry()\n",
    "C_LID = u.select_atoms('resid 125-153 and (backbone or name CB)').center_of_geometry()\n",
    "BA_LID = A_LID - B_LID\n",
    "BC_LID = C_LID - B_LID\n",
    "theta_LID = np.arccos(np.dot(BA_LID, BC_LID)/(norm(BA_LID)*norm(BC_LID)))\n",
    "print('theta_LID: ', np.rad2deg(theta_LID))"
   ]
  },
  {
   "cell_type": "markdown",
   "metadata": {},
   "source": [
    "\n",
    "- Alternatively the function `MDAnalysis.lib.distances.calc_angles` is designed for this purpose!  Importantly this function can handle periodic boundary conditions..."
   ]
  },
  {
   "cell_type": "code",
   "execution_count": 12,
   "metadata": {},
   "outputs": [
    {
     "name": "stdout",
     "output_type": "stream",
     "text": [
      "theta_NMP:  44.12482298624018\n",
      "theta_LID:  107.21578112990201\n"
     ]
    }
   ],
   "source": [
    "theta_NMP = mda.lib.distances.calc_angles(A_NMP, B_NMP, C_NMP)\n",
    "theta_LID = mda.lib.distances.calc_angles(A_LID, B_LID, C_LID)\n",
    "\n",
    "print('theta_NMP: ', np.rad2deg(theta_NMP))\n",
    "print('theta_LID: ', np.rad2deg(theta_LID))"
   ]
  },
  {
   "cell_type": "code",
   "execution_count": null,
   "metadata": {},
   "outputs": [],
   "source": []
  },
  {
   "cell_type": "markdown",
   "metadata": {},
   "source": [
    "## Next Notebook"
   ]
  },
  {
   "cell_type": "markdown",
   "metadata": {},
   "source": [
    "[Getting started with Python](Session_1.2.ipynb)"
   ]
  }
 ],
 "metadata": {
  "anaconda-cloud": {},
  "hide_input": false,
  "kernelspec": {
   "display_name": "Python 3 (ipykernel)",
   "language": "python",
   "name": "python3"
  },
  "language_info": {
   "codemirror_mode": {
    "name": "ipython",
    "version": 3
   },
   "file_extension": ".py",
   "mimetype": "text/x-python",
   "name": "python",
   "nbconvert_exporter": "python",
   "pygments_lexer": "ipython3",
   "version": "3.10.4"
  },
  "toc": {
   "base_numbering": 1,
   "nav_menu": {},
   "number_sections": false,
   "sideBar": true,
   "skip_h1_title": false,
   "title_cell": "Table of Contents",
   "title_sidebar": "Contents",
   "toc_cell": false,
   "toc_position": {},
   "toc_section_display": true,
   "toc_window_display": true
  }
 },
 "nbformat": 4,
 "nbformat_minor": 1
}
