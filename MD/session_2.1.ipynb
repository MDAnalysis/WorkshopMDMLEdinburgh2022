{
 "cells": [
  {
   "cell_type": "markdown",
   "metadata": {
    "slideshow": {
     "slide_type": "slide"
    }
   },
   "source": [
    "# 1.2.  Positions, Distances and Trajectories \n",
    "\n",
    "\n",
    "<a rel=\"license\" href=\"http://creativecommons.org/licenses/by/4.0/\"><img alt=\"Creative Commons Licence\" style=\"border-width:0\" src=\"https://i.creativecommons.org/l/by/4.0/88x31.png\" title='This work is licensed under a Creative Commons Attribution 4.0 International License.' align=\"right\"/></a>\n",
    "\n",
    "Authors: \n",
    "\n",
    "- Dr Micaela Matta - micaela.matta@kcl.ac.uk \n",
    "- Dr Richard Gowers - richardjgowers@gmail.com\n",
    "\n",
    "This notebook is adapted from materials developed for the [2021 PRACE Workshop](https://github.com/MDAnalysis/WorkshopPrace2021) and the [2018 Workshop/Hackathon](https://github.com/MDAnalysis/WorkshopHackathon2018)"
   ]
  },
  {
   "cell_type": "markdown",
   "metadata": {
    "slideshow": {
     "slide_type": "slide"
    }
   },
   "source": [
    "\n",
    "## Learning outcomes:\n",
    "\n",
    "\n",
    "* How to access atom positions\n",
    "\n",
    "* Calculating bonds and distances  \n",
    "\n",
    "* Calculating angles\n",
    "\n",
    "* How box information is stored and how this relates to periodic boundaries, wrapping/unwrapping \n",
    "\n",
    "* Efficient distance calculations and sparse arrays\n",
    "\n",
    "* Loading trajectories, iterating over frames and selecting frames"
   ]
  },
  {
   "cell_type": "markdown",
   "metadata": {},
   "source": [
    "### **Jupyter cheat sheet**:\n",
    "- to run the currently highlighted cell, hold <kbd>&#x21E7; Shift</kbd> and press <kbd>&#x23ce; Enter</kbd>;\n",
    "- to get help for a specific function, place the cursor within the function's brackets, hold <kbd>&#x21E7; Shift</kbd>, and press <kbd>&#x21E5; Tab</kbd>;"
   ]
  },
  {
   "cell_type": "markdown",
   "metadata": {},
   "source": [
    "<div class=\"alert alert-warning\"><b> REMEMBER: variables persist between cells</b> \n",
    "    \n",
    "Be aware that it is the order of execution of cells that is important in a Jupyter notebook, not the <em>order</em> in which they appear. Python will remember <em>all</em> the code that was run previously, including any variables you have defined, irrespective of the order in the notebook. Therefore if you define variables lower down the notebook and then (re)run cells further up, those defined further down will still be present. </div> "
   ]
  },
  {
   "cell_type": "markdown",
   "metadata": {},
   "source": [
    "### **Additional resources**\n",
    " - During the workshop, feel free to ask questions at any time\n",
    " - For more on how to use MDAnalysis, see the [User Guide](https://userguide.mdanalysis.org/2.0.0-dev0/) and [documentation](https://docs.mdanalysis.org/2.0.0-dev0/)\n",
    " - Ask questions on the [user mailing list](https://groups.google.com/group/mdnalysis-discussion) or on [Discord](https://discord.gg/fXTSfDJyxE)\n",
    " - Report bugs on [GitHub](https://github.com/MDAnalysis/mdanalysis/issues?)\n"
   ]
  },
  {
   "cell_type": "markdown",
   "metadata": {
    "cell_style": "center",
    "hide_input": false
   },
   "source": [
    "## Table of Contents\n",
    "\n",
    "1. [Atom positions](#positions)  \n",
    "2. [Bonds and Distances](#bonds)    \n",
    "3. [Calculating Angles](#angles)     \n",
    "4. [More distance calculations: distance arrays](#distarrays)\n",
    "5. [Trajectories and Frames](#trajectory)"
   ]
  },
  {
   "cell_type": "markdown",
   "metadata": {},
   "source": [
    "### Imports\n",
    "\n",
    "We start with the usual imports:"
   ]
  },
  {
   "cell_type": "code",
   "execution_count": 1,
   "metadata": {},
   "outputs": [
    {
     "data": {
      "application/vnd.jupyter.widget-view+json": {
       "model_id": "cc0048c33ec24b708969fb7425d074ba",
       "version_major": 2,
       "version_minor": 0
      },
      "text/plain": []
     },
     "metadata": {},
     "output_type": "display_data"
    }
   ],
   "source": [
    "import MDAnalysis as mda\n",
    "import MDAnalysisData as data\n",
    "import nglview"
   ]
  },
  {
   "cell_type": "markdown",
   "metadata": {},
   "source": [
    "### Example: a PEG chain in water\n",
    "\n",
    "Load a dataset from `MDAnalysisData`: a PEG - poly(ethyleneglycol) chain $HO(CH2CH2)_{20}OH$ in water"
   ]
  },
  {
   "cell_type": "code",
   "execution_count": 26,
   "metadata": {},
   "outputs": [],
   "source": [
    "PEG_example = data.datasets.fetch_PEG_1chain()"
   ]
  },
  {
   "cell_type": "markdown",
   "metadata": {},
   "source": [
    "Create a Universe by loading the topology and coordinates:"
   ]
  },
  {
   "cell_type": "code",
   "execution_count": 27,
   "metadata": {},
   "outputs": [],
   "source": [
    "peg_u = mda.Universe(PEG_example['topology'], PEG_example['trajectory'])"
   ]
  },
  {
   "cell_type": "markdown",
   "metadata": {},
   "source": [
    "We loaded a trajectory with 50 frames, but for the first part of this tutorial we'll limit ourselves to look at one frame."
   ]
  },
  {
   "cell_type": "code",
   "execution_count": null,
   "metadata": {},
   "outputs": [],
   "source": [
    "The polymer is the first residue:"
   ]
  },
  {
   "cell_type": "code",
   "execution_count": 28,
   "metadata": {},
   "outputs": [],
   "source": [
    "peg = peg_u.atoms.residues[0]"
   ]
  },
  {
   "cell_type": "markdown",
   "metadata": {},
   "source": [
    "### Visualize the system with `nglview`\n",
    "\n",
    "`nglview` takes either a `Universe` or an `AtomGroup` as input:"
   ]
  },
  {
   "cell_type": "code",
   "execution_count": 29,
   "metadata": {},
   "outputs": [
    {
     "data": {
      "application/vnd.jupyter.widget-view+json": {
       "model_id": "0ab0c6cb42ee49c3a9aaab6a81e88434",
       "version_major": 2,
       "version_minor": 0
      },
      "text/plain": [
       "NGLWidget(max_frame=49)"
      ]
     },
     "metadata": {},
     "output_type": "display_data"
    }
   ],
   "source": [
    "poly = nglview.show_mdanalysis(peg)\n",
    "poly"
   ]
  },
  {
   "cell_type": "markdown",
   "metadata": {},
   "source": [
    "## Atom positions\n",
    "<a id='positions'></a>\n",
    "\n",
    "The most important attribute of your atoms is undoubtedly their positions! The position information is made available via an `AtomGroup` in the `positions` attribute:"
   ]
  },
  {
   "cell_type": "code",
   "execution_count": 31,
   "metadata": {},
   "outputs": [
    {
     "data": {
      "text/plain": [
       "array([[17.474627, 29.40593 , 35.43572 ],\n",
       "       [16.178513, 30.363686, 33.04827 ],\n",
       "       [13.154764, 30.090767, 32.65325 ],\n",
       "       [12.781218, 27.539545, 34.03944 ],\n",
       "       [12.3174  , 24.909702, 35.999706],\n",
       "       [15.073921, 23.41555 , 37.341427],\n",
       "       [17.802116, 22.729006, 38.049328],\n",
       "       [20.103138, 24.995148, 38.8918  ],\n",
       "       [20.959639, 27.679546, 38.70003 ],\n",
       "       [22.952808, 29.17524 , 37.071712],\n",
       "       [25.204197, 28.613428, 34.926205],\n",
       "       [26.116346, 27.930723, 32.045708],\n",
       "       [28.322554, 25.94474 , 32.40819 ],\n",
       "       [30.736938, 26.76612 , 30.284174],\n",
       "       [30.406841, 27.816256, 27.381987],\n",
       "       [29.278606, 27.836481, 23.95282 ],\n",
       "       [28.370323, 26.439674, 21.368319],\n",
       "       [31.034653, 25.007427, 20.5126  ],\n",
       "       [33.20713 , 23.092627, 20.627098]], dtype=float32)"
      ]
     },
     "execution_count": 31,
     "metadata": {},
     "output_type": "execute_result"
    }
   ],
   "source": [
    "Os = peg_u.select_atoms('type os')\n",
    "\n",
    "Os.positions"
   ]
  },
  {
   "cell_type": "markdown",
   "metadata": {},
   "source": [
    "this returns a numpy array with x, y and z coordinates."
   ]
  },
  {
   "cell_type": "markdown",
   "metadata": {},
   "source": [
    "### Center of geometry\n",
    "\n",
    "We can use `numpy` functions to manipulate coordinates. For instance, we can calculate the center of geometry:"
   ]
  },
  {
   "cell_type": "code",
   "execution_count": 53,
   "metadata": {},
   "outputs": [
    {
     "name": "stdout",
     "output_type": "stream",
     "text": [
      "[22.709246 26.829031 31.828304]\n"
     ]
    }
   ],
   "source": [
    "cog = np.mean(Os.positions, axis=0)\n",
    "print(cog)"
   ]
  },
  {
   "cell_type": "markdown",
   "metadata": {},
   "source": [
    "<div class=\"alert alert-info\"> \n",
    "    \n",
    "`AtomGroups` **and built-in functions** \n",
    "\n",
    "MDAnalysis `AtomGroups` have a convenient `center_of_mass()` method to get their center of mass at the current frame. \n",
    "Other  methods for common calculations based on positions include `center_of_geometry()`, `radius_of_gyration()` and `principal_axes()`. </div> "
   ]
  },
  {
   "cell_type": "code",
   "execution_count": 54,
   "metadata": {},
   "outputs": [
    {
     "data": {
      "text/plain": [
       "array([22.70924909, 26.82903139, 31.82830459])"
      ]
     },
     "execution_count": 54,
     "metadata": {},
     "output_type": "execute_result"
    }
   ],
   "source": [
    "Os.center_of_geometry()"
   ]
  },
  {
   "cell_type": "markdown",
   "metadata": {
    "solution2": "hidden",
    "solution2_first": true
   },
   "source": [
    "### Exercise: calculate radius of gyration of PEG\n",
    "\n",
    "Using the `radius_of_gyration()` function, calculate the radius of gyration of PEG:"
   ]
  },
  {
   "cell_type": "code",
   "execution_count": 96,
   "metadata": {
    "solution2": "hidden"
   },
   "outputs": [
    {
     "name": "stdout",
     "output_type": "stream",
     "text": [
      "9.788402668965798\n"
     ]
    }
   ],
   "source": [
    "#select polymer as the first residue:\n",
    "peg_chain = peg_u.residues[0]\n",
    "\n",
    "rog = peg_chain.atoms.radius_of_gyration()\n",
    "\n",
    "\n",
    "print(rog)"
   ]
  },
  {
   "cell_type": "markdown",
   "metadata": {},
   "source": [
    "##  Bonds and Distances\n",
    "<a id='bonds'></a>"
   ]
  },
  {
   "cell_type": "markdown",
   "metadata": {},
   "source": [
    "### End-to-end distance of a PEG chain "
   ]
  },
  {
   "cell_type": "markdown",
   "metadata": {},
   "source": [
    "We can use the hydrogens in the capping -OH groups (`type ho`) as reference points. First, select the two hydrogen atoms:"
   ]
  },
  {
   "cell_type": "code",
   "execution_count": 34,
   "metadata": {},
   "outputs": [],
   "source": [
    "Hb, He = peg_u.atoms.select_atoms(\"type ho\")"
   ]
  },
  {
   "cell_type": "code",
   "execution_count": 38,
   "metadata": {},
   "outputs": [
    {
     "data": {
      "text/plain": [
       "26.629349"
      ]
     },
     "execution_count": 38,
     "metadata": {},
     "output_type": "execute_result"
    }
   ],
   "source": [
    "np.linalg.norm(Hb.position - He.position)"
   ]
  },
  {
   "cell_type": "markdown",
   "metadata": {},
   "source": [
    "<div class=\"alert alert-info\"> \n",
    " \n",
    "**built-in functions 2: bonds**\n",
    "    \n",
    "`MDAnalysis.lib.distances` has a `calc_bonds` method which allows users to calculate periodic aware distances between two sets of positions. </div> "
   ]
  },
  {
   "cell_type": "markdown",
   "metadata": {},
   "source": [
    "Then, calculate the distance between their coordinates:"
   ]
  },
  {
   "cell_type": "code",
   "execution_count": 37,
   "metadata": {},
   "outputs": [
    {
     "data": {
      "text/plain": [
       "26.62934987068575"
      ]
     },
     "execution_count": 37,
     "metadata": {},
     "output_type": "execute_result"
    }
   ],
   "source": [
    "mda.lib.distances.calc_bonds(Hb.position, He.position, box=peg_u.dimensions)"
   ]
  },
  {
   "cell_type": "markdown",
   "metadata": {},
   "source": [
    "## Calculating Angles\n",
    "<a id='angles'></a>"
   ]
  },
  {
   "cell_type": "code",
   "execution_count": 3,
   "metadata": {},
   "outputs": [],
   "source": [
    "from MDAnalysisData.datasets import fetch_adk_transitions_DIMS\n",
    "adk = fetch_adk_transitions_DIMS()\n",
    "adk_u = mda.Universe(adk.topology, adk.trajectories[:1])"
   ]
  },
  {
   "cell_type": "markdown",
   "metadata": {},
   "source": [
    "### AdK angles\n",
    "\n",
    "The enzyme *adenylate kinase* catalyzes the reaction ATP + AMP <-> 2 ADP. \n",
    "\n",
    "It undergoes a *conformational transition* beteween a closed ([1AKE](https://www.rcsb.org/structure/1AKE)) and open ([4AKE](https://www.rcsb.org/structure/4AKE)) conformational state [1], even in the absence of substrates.\n",
    "\n",
    "<center><img src=\"imgs/adk.png\" alt=\"mda\" style=\"width: 300px;\"/></center>\n",
    "1. S. L. Seyler and O. Beckstein. Sampling of large conformational transitions: Adenylate kinase as a testing ground. Molec. Simul., 40(10–11):855–877, 2014. doi: 10.1080/08927022.2014.919497"
   ]
  },
  {
   "cell_type": "markdown",
   "metadata": {},
   "source": [
    "Let's look in more detail at the AdK protein. AdK has three domains:\n",
    "\n",
    " - CORE (residues 1-29, 60-121, 160-214)\n",
    " - NMP (residues 30-59)\n",
    " - LID (residues 122-159)\n",
    "\n",
    "Angles between these domains can be used to distinguish open and closed states of the AdK protein. These angles are defined between the center of geometry of the backbone and C$_\\beta$ atoms of the following groups of atoms:\n",
    "\n",
    " - $\\theta_{NMP}$ is defined between residues:\n",
    "   - A: 115-125 \n",
    "   - B: 90-100\n",
    "   - C: 35-55\n",
    " - $\\theta_{LIC}$ is defined between residues:\n",
    "   - A: 179-185\n",
    "   - B: 112-125\n",
    "   - C: 125-153 \n",
    "\n"
   ]
  },
  {
   "cell_type": "markdown",
   "metadata": {},
   "source": [
    "The angle between two vectors is given by:\n",
    "\n",
    "$$\\theta = arccos\\left( \\frac{\\vec{BA}\\cdot\\vec{BC}}{|\\vec{BA}||\\vec{BC}|} \\right)$$"
   ]
  },
  {
   "cell_type": "markdown",
   "metadata": {},
   "source": [
    "We first define the coordinate centers for each residue by using `center_of_geometry`:"
   ]
  },
  {
   "cell_type": "code",
   "execution_count": 9,
   "metadata": {},
   "outputs": [],
   "source": [
    "A_NMP = adk_u.select_atoms('resid 115-125 and (backbone or name CB)').center_of_geometry()\n",
    "B_NMP = adk_u.select_atoms('resid 90-100 and (backbone or name CB)').center_of_geometry()\n",
    "C_NMP = adk_u.select_atoms('resid 35-55 and (backbone or name CB)').center_of_geometry()\n",
    "\n",
    "A_LID = adk_u.select_atoms('resid 179-185 and (backbone or name CB)').center_of_geometry()\n",
    "B_LID = adk_u.select_atoms('resid 112-125 and (backbone or name CB)').center_of_geometry()\n",
    "C_LID = adk_u.select_atoms('resid 125-153 and (backbone or name CB)').center_of_geometry()"
   ]
  },
  {
   "cell_type": "markdown",
   "metadata": {},
   "source": [
    "### the Numpy way \n",
    "\n",
    "\n",
    "You can use `numpy.linalg.norm()` to calculate the norm of a vector. Numpy also has functions `numpy.arccos()` and `numpy.dot()`:"
   ]
  },
  {
   "cell_type": "code",
   "execution_count": 7,
   "metadata": {},
   "outputs": [
    {
     "name": "stdout",
     "output_type": "stream",
     "text": [
      "theta_NMP:  43.71472676451854\n",
      "theta_LID:  106.4094929404029\n"
     ]
    }
   ],
   "source": [
    "import numpy as np\n",
    "from numpy.linalg import norm\n",
    "\n",
    "# define vectors BA and BC\n",
    "BA_NMP = A_NMP - B_NMP\n",
    "BC_NMP = C_NMP - B_NMP\n",
    "\n",
    "# calculate theta_NMP\n",
    "theta_NMP = np.arccos(np.dot(BA_NMP, BC_NMP)/(norm(BA_NMP)*norm(BC_NMP)))\n",
    "\n",
    "print('theta_NMP: ', np.rad2deg(theta_NMP))\n",
    "\n",
    "# define vectors BA and BC\n",
    "BA_LID = A_LID - B_LID\n",
    "BC_LID = C_LID - B_LID\n",
    "\n",
    "# calculate theta_LID\n",
    "theta_LID = np.arccos(np.dot(BA_LID, BC_LID)/(norm(BA_LID)*norm(BC_LID)))\n",
    "\n",
    "print('theta_LID: ', np.rad2deg(theta_LID))"
   ]
  },
  {
   "cell_type": "markdown",
   "metadata": {},
   "source": [
    "<div class=\"alert alert-info\"> \n",
    " \n",
    "**built-in functions 4: angles and dihedrals**\n",
    "    \n",
    "`MDAnalysis.lib.distances` has a `calc_angles` method which allows users to calculate periodic aware angles between 3 array-like sets of positions. \n",
    "    \n",
    "In the same way, it is possible to calculate dihedrals with `calc_dihedrals`. </div> "
   ]
  },
  {
   "cell_type": "markdown",
   "metadata": {},
   "source": [
    "### the  `MDAnalysis` way\n",
    "\n",
    "There's an alternative, much faster way! \n",
    "Let's use `calc_angles` to get the angles $\\theta_{NMP}$ and $\\theta_{LID}$:"
   ]
  },
  {
   "cell_type": "code",
   "execution_count": 8,
   "metadata": {},
   "outputs": [
    {
     "name": "stdout",
     "output_type": "stream",
     "text": [
      "theta_NMP:  43.7147272459085\n",
      "theta_LID:  106.40949206629575\n"
     ]
    }
   ],
   "source": [
    "theta_NMP = mda.lib.distances.calc_angles(A_NMP, B_NMP, C_NMP)\n",
    "theta_LID = mda.lib.distances.calc_angles(A_LID, B_LID, C_LID)\n",
    "\n",
    "print('theta_NMP: ', np.rad2deg(theta_NMP))\n",
    "print('theta_LID: ', np.rad2deg(theta_LID))"
   ]
  },
  {
   "cell_type": "markdown",
   "metadata": {},
   "source": [
    "`calc_angles`, like all `MDAnalysis.lib.distances` functions, has an optional argument to specify periodic boundary conditions:\n",
    "```\n",
    " mda.lib.distances.calc_angles(\n",
    "    coords1,\n",
    "    coords2,\n",
    "    coords3,\n",
    "    box=None,\n",
    "    result=None,\n",
    "    backend='serial')\n",
    "   ``` \n",
    "    "
   ]
  },
  {
   "cell_type": "markdown",
   "metadata": {},
   "source": [
    "## More distances and angles: hydrogen bonds\n",
    "<a id='distarrays'></a>\n",
    "\n",
    "This example will show you how to use various functions in `MDAnalysis.lib.distances` to identify hydrogen bonding between certain residues and the water solvent.\n",
    "\n",
    "A hydrogen bond (in the context of this analysis) will be defined as an interaction between three atoms:\n",
    "- An acceptor, which is attracting the hydrogen\n",
    "- A hydrogen, which is being pulled into the acceptor\n",
    "- A donor, which is bonded to the hydrogen and being dragged along for the ride.\n",
    "\n",
    "We will use the following geometric criteria:\n",
    "- a hydrogen-acceptor distance of 3.0A \n",
    "- an acceptor-hydrogen-donor angle of greater than 120 degrees."
   ]
  },
  {
   "cell_type": "markdown",
   "metadata": {},
   "source": [
    "We can go back to our PEG chain in water. Oxygen atoms in PEG can accept hydrogen bonds from water:"
   ]
  },
  {
   "cell_type": "code",
   "execution_count": 12,
   "metadata": {},
   "outputs": [],
   "source": [
    "# select oxygen atoms - types os and oh\n",
    "acceptors = peg_u.atoms.select_atoms(\"type os oh\")"
   ]
  },
  {
   "cell_type": "markdown",
   "metadata": {},
   "source": [
    "Select hydrogens (from water):"
   ]
  },
  {
   "cell_type": "code",
   "execution_count": 39,
   "metadata": {},
   "outputs": [],
   "source": [
    "hydrogens = peg_u.atoms.select_atoms(\"type HW\")"
   ]
  },
  {
   "cell_type": "markdown",
   "metadata": {},
   "source": [
    "### Distance criteria\n",
    "\n",
    "We first want to identify hydrogens and acceptors that are within our distance criteria of 3.0 angstrom.\n",
    "A naive approach is to calculate a `distance_array` between all acceptors and all hydrogens.:"
   ]
  },
  {
   "cell_type": "code",
   "execution_count": 40,
   "metadata": {},
   "outputs": [
    {
     "name": "stdout",
     "output_type": "stream",
     "text": [
      "CPU times: user 7.09 ms, sys: 1.45 ms, total: 8.54 ms\n",
      "Wall time: 7.16 ms\n"
     ]
    }
   ],
   "source": [
    "%%time\n",
    "\n",
    "da = mda.lib.distances.distance_array(acceptors.positions, hydrogens.positions, box=peg_u.dimensions)"
   ]
  },
  {
   "cell_type": "markdown",
   "metadata": {},
   "source": [
    "<div class=\"alert alert-info\"> \n",
    "\n",
    "**Hint:** `np.where` is a handy function for returning the *indices* of where a condition is True.  Here we use it to extract the row and column numbers of where an entry in a distance matrix is less than 3.0.</div>\n",
    "     "
   ]
  },
  {
   "cell_type": "code",
   "execution_count": 41,
   "metadata": {},
   "outputs": [],
   "source": [
    "acc_idx, hyd_idx = np.where(da < 3.0)"
   ]
  },
  {
   "cell_type": "markdown",
   "metadata": {},
   "source": [
    "### Using `capped_distance`\n",
    "\n",
    "This is a great example of where we're not interested in all distances, but instead only those up to a given cutoff - Using `capped_distance` is much quicker here!"
   ]
  },
  {
   "cell_type": "markdown",
   "metadata": {},
   "source": [
    "<div class=\"alert alert-info\"> \n",
    "\n",
    "**Reminder:** The output of `capped_distance` is no longer a matrix, but an array of indices and the distance values at those indices.  This can be thought of as a sparse matrix.\n",
    " </div>"
   ]
  },
  {
   "cell_type": "markdown",
   "metadata": {},
   "source": [
    "Try experimenting with the cutoff distance to see how the time required varies."
   ]
  },
  {
   "cell_type": "code",
   "execution_count": 55,
   "metadata": {},
   "outputs": [
    {
     "name": "stdout",
     "output_type": "stream",
     "text": [
      "CPU times: user 1.24 ms, sys: 646 µs, total: 1.88 ms\n",
      "Wall time: 1.02 ms\n"
     ]
    }
   ],
   "source": [
    "%%time \n",
    "\n",
    "idx, dists = mda.lib.distances.capped_distance(acceptors.positions, hydrogens.positions, max_cutoff=3.0,\n",
    "                                            box=peg_u.dimensions)"
   ]
  },
  {
   "cell_type": "markdown",
   "metadata": {},
   "source": [
    "The `idx` array is a `(n, 2)` array of indices; to grab the first and second column, we can transpose the array (`.T`) and assign each row to a varaible, `acc_idx` for the *indices* of the acceptors and `hyd_idx` for the *indices* of the hydrogen atoms."
   ]
  },
  {
   "cell_type": "code",
   "execution_count": 43,
   "metadata": {},
   "outputs": [],
   "source": [
    "acc_idx, hyd_idx = idx.T"
   ]
  },
  {
   "cell_type": "markdown",
   "metadata": {},
   "source": [
    "Remembering that we can slice `AtomGroup`s with numpy arrays, we can use these indices arrays to slice our original `AtomGroup`s to filter them down and make them smaller."
   ]
  },
  {
   "cell_type": "code",
   "execution_count": 44,
   "metadata": {},
   "outputs": [],
   "source": [
    "# select potential hydrogen bonds to check angles\n",
    "potential_hbond_acceptors = acceptors[acc_idx]\n",
    "potential_hbond_hydrogens = hydrogens[hyd_idx]"
   ]
  },
  {
   "cell_type": "markdown",
   "metadata": {},
   "source": [
    "To get the **donors** for each hydrogen bond is slightly trickier.\n",
    "We can use the fact that hydrogens will only have one covalent bond, and simply loop over the hydrogen atoms, grabbing the first (and only) bonded atom of each. "
   ]
  },
  {
   "cell_type": "markdown",
   "metadata": {},
   "source": [
    "<div class=\"alert alert-info\"> \n",
    "\n",
    "**Reminder:** `sum()` over `MDAnalysis.Atom` objects will produce an `AtomGroup`!\n",
    "\n",
    "</div>"
   ]
  },
  {
   "cell_type": "code",
   "execution_count": 45,
   "metadata": {},
   "outputs": [],
   "source": [
    "potential_hbond_donors = sum(h.bonded_atoms[0] for h in potential_hbond_hydrogens)"
   ]
  },
  {
   "cell_type": "markdown",
   "metadata": {},
   "source": [
    "## Checking the angle criteria\n",
    "\n",
    "Now that we've identified hydrogens and acceptors which are close enough for a hydrogen bond, we can now check our angular criteria.\n",
    "The angle formed by the acceptor-hydrogen-donor must be greater than 120 degrees!\n"
   ]
  },
  {
   "cell_type": "markdown",
   "metadata": {},
   "source": [
    "<div class=\"alert alert-info\"> \n",
    "    \n",
    "**Reminder**: The input to `calc_angles` must be in the correct order, with the second array of positions being the vertex of the angle.  Results are returned in radians!\n",
    " </div>"
   ]
  },
  {
   "cell_type": "markdown",
   "metadata": {},
   "source": [
    "By first checking the distance criteria and filtering down our input, we greatly reduce the number of angles we must calculate.\n",
    "This is important as angles calculations are computationally more expensive than distance calculations."
   ]
  },
  {
   "cell_type": "code",
   "execution_count": 48,
   "metadata": {},
   "outputs": [],
   "source": [
    "angles = np.rad2deg(\n",
    "    mda.lib.distances.calc_angles(potential_hbond_acceptors.positions,\n",
    "                                  potential_hbond_hydrogens.positions,\n",
    "                                  potential_hbond_donors.positions, box=peg_u.dimensions)\n",
    ")"
   ]
  },
  {
   "cell_type": "markdown",
   "metadata": {},
   "source": [
    "Again we can use `np.where` to get the *indices* of where a condition is True, here if a value is above 120."
   ]
  },
  {
   "cell_type": "code",
   "execution_count": 49,
   "metadata": {},
   "outputs": [],
   "source": [
    "angle_idx = np.where(angles >= 120.0)"
   ]
  },
  {
   "cell_type": "markdown",
   "metadata": {},
   "source": [
    "Finally, we can slice our list of candidate atoms with `angle_idx` to get three `AtomGroup`s, each representing a different component in a hydrogen bond."
   ]
  },
  {
   "cell_type": "code",
   "execution_count": 50,
   "metadata": {},
   "outputs": [],
   "source": [
    "hbond_acceptors = potential_hbond_acceptors[angle_idx]\n",
    "hbond_hydrogens = potential_hbond_hydrogens[angle_idx]\n",
    "hbond_donors = potential_hbond_donors[angle_idx]"
   ]
  },
  {
   "cell_type": "code",
   "execution_count": 51,
   "metadata": {},
   "outputs": [
    {
     "data": {
      "text/plain": [
       "<AtomGroup with 69 atoms>"
      ]
     },
     "execution_count": 51,
     "metadata": {},
     "output_type": "execute_result"
    }
   ],
   "source": [
    "hbond_donors"
   ]
  },
  {
   "cell_type": "markdown",
   "metadata": {},
   "source": [
    "### The Analysis class way\n",
    "\n",
    "Because hydrogen bond analysis is so common, it already exists as an Analysis class:"
   ]
  },
  {
   "cell_type": "code",
   "execution_count": 58,
   "metadata": {},
   "outputs": [],
   "source": [
    "from MDAnalysis.analysis.hydrogenbonds import HydrogenBondAnalysis"
   ]
  },
  {
   "cell_type": "code",
   "execution_count": 67,
   "metadata": {},
   "outputs": [],
   "source": [
    "hbonds = HydrogenBondAnalysis(peg_u,\n",
    "                             acceptors_sel='type os oh',\n",
    "                             hydrogens_sel='type HW')"
   ]
  },
  {
   "cell_type": "code",
   "execution_count": null,
   "metadata": {},
   "outputs": [],
   "source": []
  },
  {
   "cell_type": "markdown",
   "metadata": {},
   "source": [
    "We can then run analysis for the first 5 frames of the trajectory:"
   ]
  },
  {
   "cell_type": "code",
   "execution_count": 76,
   "metadata": {},
   "outputs": [
    {
     "data": {
      "application/vnd.jupyter.widget-view+json": {
       "model_id": "4b14010b5d3b4fa2a5277eed310f2319",
       "version_major": 2,
       "version_minor": 0
      },
      "text/plain": [
       "  0%|          | 0/5 [00:00<?, ?it/s]"
      ]
     },
     "metadata": {},
     "output_type": "display_data"
    },
    {
     "data": {
      "text/plain": [
       "<MDAnalysis.analysis.hydrogenbonds.hbond_analysis.HydrogenBondAnalysis at 0x7fba6a2a7bd0>"
      ]
     },
     "execution_count": 76,
     "metadata": {},
     "output_type": "execute_result"
    }
   ],
   "source": [
    "hbonds.run(stop=5, verbose=True)"
   ]
  },
  {
   "cell_type": "code",
   "execution_count": 84,
   "metadata": {},
   "outputs": [
    {
     "data": {
      "text/plain": [
       "array([[0.00000000e+00, 3.26000000e+02, 3.27000000e+02, 9.10000000e+01,\n",
       "        2.63570308e+00, 1.55290512e+02],\n",
       "       [0.00000000e+00, 1.05800000e+03, 1.05900000e+03, 1.19000000e+02,\n",
       "        2.83754533e+00, 1.60064259e+02],\n",
       "       [0.00000000e+00, 1.27400000e+03, 1.27500000e+03, 1.50000000e+01,\n",
       "        2.75470781e+00, 1.52915222e+02],\n",
       "       [0.00000000e+00, 1.47800000e+03, 1.48000000e+03, 9.90000000e+01,\n",
       "        2.54154955e+00, 1.72443505e+02],\n",
       "       [0.00000000e+00, 2.32400000e+03, 2.32600000e+03, 1.33000000e+02,\n",
       "        2.79760614e+00, 1.70921065e+02],\n",
       "       [0.00000000e+00, 2.44700000e+03, 2.44900000e+03, 7.00000000e+01,\n",
       "        2.66524897e+00, 1.54749772e+02],\n",
       "       [0.00000000e+00, 3.22400000e+03, 3.22500000e+03, 1.39000000e+02,\n",
       "        2.82700029e+00, 1.68624274e+02],\n",
       "       [0.00000000e+00, 3.34100000e+03, 3.34200000e+03, 2.70000000e+01,\n",
       "        2.88533806e+00, 1.72663787e+02],\n",
       "       [0.00000000e+00, 3.34100000e+03, 3.34300000e+03, 7.00000000e+00,\n",
       "        2.94131797e+00, 1.51081841e+02],\n",
       "       [0.00000000e+00, 3.72200000e+03, 3.72400000e+03, 1.04000000e+02,\n",
       "        2.53178411e+00, 1.60897476e+02],\n",
       "       [0.00000000e+00, 3.89600000e+03, 3.89800000e+03, 4.30000000e+01,\n",
       "        2.95694254e+00, 1.63299679e+02],\n",
       "       [0.00000000e+00, 5.12600000e+03, 5.12800000e+03, 7.70000000e+01,\n",
       "        2.65814977e+00, 1.74682402e+02],\n",
       "       [0.00000000e+00, 5.54900000e+03, 5.55000000e+03, 1.25000000e+02,\n",
       "        2.77096089e+00, 1.68282160e+02],\n",
       "       [0.00000000e+00, 5.69000000e+03, 5.69200000e+03, 1.19000000e+02,\n",
       "        2.63131224e+00, 1.76046982e+02],\n",
       "       [0.00000000e+00, 5.94500000e+03, 5.94600000e+03, 2.70000000e+01,\n",
       "        2.73158676e+00, 1.63798753e+02],\n",
       "       [0.00000000e+00, 7.66400000e+03, 7.66600000e+03, 4.30000000e+01,\n",
       "        2.63411203e+00, 1.56060878e+02],\n",
       "       [0.00000000e+00, 7.72100000e+03, 7.72300000e+03, 2.10000000e+01,\n",
       "        2.72341948e+00, 1.57730197e+02],\n",
       "       [0.00000000e+00, 8.44400000e+03, 8.44600000e+03, 8.30000000e+01,\n",
       "        2.59960434e+00, 1.75243489e+02],\n",
       "       [0.00000000e+00, 9.09800000e+03, 9.10000000e+03, 1.11000000e+02,\n",
       "        2.74597822e+00, 1.71436230e+02],\n",
       "       [0.00000000e+00, 1.09550000e+04, 1.09570000e+04, 1.39000000e+02,\n",
       "        2.85304533e+00, 1.54658397e+02],\n",
       "       [0.00000000e+00, 1.11020000e+04, 1.11030000e+04, 9.10000000e+01,\n",
       "        2.78541112e+00, 1.63891455e+02],\n",
       "       [0.00000000e+00, 1.12490000e+04, 1.12510000e+04, 2.10000000e+01,\n",
       "        2.74306920e+00, 1.53445587e+02],\n",
       "       [0.00000000e+00, 1.14980000e+04, 1.15000000e+04, 6.40000000e+01,\n",
       "        2.59046365e+00, 1.55625936e+02],\n",
       "       [0.00000000e+00, 1.32590000e+04, 1.32610000e+04, 4.90000000e+01,\n",
       "        2.70149724e+00, 1.70394285e+02],\n",
       "       [1.00000000e+00, 8.03000000e+02, 8.04000000e+02, 1.25000000e+02,\n",
       "        2.55553619e+00, 1.67424348e+02],\n",
       "       [1.00000000e+00, 2.27300000e+03, 2.27500000e+03, 5.70000000e+01,\n",
       "        2.68891620e+00, 1.76141653e+02],\n",
       "       [1.00000000e+00, 2.31200000e+03, 2.31300000e+03, 1.39000000e+02,\n",
       "        2.70902992e+00, 1.72371757e+02],\n",
       "       [1.00000000e+00, 2.40200000e+03, 2.40400000e+03, 1.04000000e+02,\n",
       "        2.54588040e+00, 1.59649196e+02],\n",
       "       [1.00000000e+00, 2.42600000e+03, 2.42800000e+03, 9.10000000e+01,\n",
       "        2.69089740e+00, 1.67981100e+02],\n",
       "       [1.00000000e+00, 3.24500000e+03, 3.24700000e+03, 1.19000000e+02,\n",
       "        2.56566848e+00, 1.64472863e+02],\n",
       "       [1.00000000e+00, 3.72200000e+03, 3.72400000e+03, 6.40000000e+01,\n",
       "        2.65185615e+00, 1.52966765e+02],\n",
       "       [1.00000000e+00, 5.89400000e+03, 5.89600000e+03, 8.30000000e+01,\n",
       "        2.62594923e+00, 1.67233075e+02],\n",
       "       [1.00000000e+00, 5.92400000e+03, 5.92600000e+03, 2.70000000e+01,\n",
       "        2.70644641e+00, 1.55718330e+02],\n",
       "       [1.00000000e+00, 6.86600000e+03, 6.86800000e+03, 4.90000000e+01,\n",
       "        2.61319648e+00, 1.60132591e+02],\n",
       "       [1.00000000e+00, 7.13300000e+03, 7.13400000e+03, 7.70000000e+01,\n",
       "        2.61038599e+00, 1.55405709e+02],\n",
       "       [1.00000000e+00, 8.01800000e+03, 8.02000000e+03, 1.11000000e+02,\n",
       "        2.78661497e+00, 1.65865606e+02],\n",
       "       [1.00000000e+00, 9.30200000e+03, 9.30400000e+03, 1.33000000e+02,\n",
       "        2.76406145e+00, 1.61584933e+02],\n",
       "       [1.00000000e+00, 9.60800000e+03, 9.60900000e+03, 6.40000000e+01,\n",
       "        2.76857069e+00, 1.54862876e+02],\n",
       "       [1.00000000e+00, 9.60800000e+03, 9.61000000e+03, 7.70000000e+01,\n",
       "        2.86554815e+00, 1.59153017e+02],\n",
       "       [1.00000000e+00, 1.04240000e+04, 1.04260000e+04, 9.90000000e+01,\n",
       "        2.82652886e+00, 1.69083510e+02],\n",
       "       [1.00000000e+00, 1.08140000e+04, 1.08150000e+04, 7.00000000e+01,\n",
       "        2.55207103e+00, 1.59588647e+02],\n",
       "       [1.00000000e+00, 1.11890000e+04, 1.11900000e+04, 3.60000000e+01,\n",
       "        2.95389765e+00, 1.56605672e+02],\n",
       "       [1.00000000e+00, 1.16150000e+04, 1.16160000e+04, 4.90000000e+01,\n",
       "        2.64199289e+00, 1.68496405e+02],\n",
       "       [1.00000000e+00, 1.18820000e+04, 1.18830000e+04, 4.30000000e+01,\n",
       "        2.58425268e+00, 1.69617901e+02],\n",
       "       [2.00000000e+00, 1.67000000e+02, 1.69000000e+02, 1.04000000e+02,\n",
       "        2.75699569e+00, 1.58000683e+02],\n",
       "       [2.00000000e+00, 4.34000000e+02, 4.36000000e+02, 4.30000000e+01,\n",
       "        2.74607890e+00, 1.62097546e+02],\n",
       "       [2.00000000e+00, 8.24000000e+02, 8.26000000e+02, 2.10000000e+01,\n",
       "        2.80189733e+00, 1.75317729e+02],\n",
       "       [2.00000000e+00, 1.24100000e+03, 1.24200000e+03, 7.00000000e+00,\n",
       "        2.78013265e+00, 1.64901280e+02],\n",
       "       [2.00000000e+00, 2.81900000e+03, 2.82100000e+03, 1.50000000e+01,\n",
       "        2.77649303e+00, 1.68193769e+02],\n",
       "       [2.00000000e+00, 3.32300000e+03, 3.32400000e+03, 1.50000000e+01,\n",
       "        2.73967695e+00, 1.68133267e+02],\n",
       "       [2.00000000e+00, 4.75400000e+03, 4.75500000e+03, 6.40000000e+01,\n",
       "        2.80306958e+00, 1.68518550e+02],\n",
       "       [2.00000000e+00, 4.94000000e+03, 4.94100000e+03, 1.33000000e+02,\n",
       "        2.86119213e+00, 1.54039591e+02],\n",
       "       [2.00000000e+00, 6.16400000e+03, 6.16600000e+03, 9.10000000e+01,\n",
       "        2.57533896e+00, 1.70914105e+02],\n",
       "       [2.00000000e+00, 7.74200000e+03, 7.74300000e+03, 2.70000000e+01,\n",
       "        2.79756465e+00, 1.67361429e+02],\n",
       "       [2.00000000e+00, 7.74200000e+03, 7.74400000e+03, 4.30000000e+01,\n",
       "        2.77638235e+00, 1.65107676e+02],\n",
       "       [2.00000000e+00, 8.18300000e+03, 8.18400000e+03, 8.30000000e+01,\n",
       "        2.72703693e+00, 1.72920999e+02],\n",
       "       [2.00000000e+00, 9.01700000e+03, 9.01800000e+03, 9.90000000e+01,\n",
       "        2.80390841e+00, 1.54246165e+02],\n",
       "       [2.00000000e+00, 9.09800000e+03, 9.09900000e+03, 3.60000000e+01,\n",
       "        2.52923436e+00, 1.63479119e+02],\n",
       "       [2.00000000e+00, 9.09800000e+03, 9.10000000e+03, 2.00000000e+00,\n",
       "        2.73098921e+00, 1.73808908e+02],\n",
       "       [2.00000000e+00, 9.26300000e+03, 9.26500000e+03, 1.25000000e+02,\n",
       "        2.72618957e+00, 1.68836715e+02],\n",
       "       [2.00000000e+00, 9.53600000e+03, 9.53800000e+03, 5.70000000e+01,\n",
       "        2.65704412e+00, 1.62601167e+02],\n",
       "       [2.00000000e+00, 9.56600000e+03, 9.56800000e+03, 1.11000000e+02,\n",
       "        2.78853925e+00, 1.52094554e+02],\n",
       "       [2.00000000e+00, 1.01300000e+04, 1.01310000e+04, 7.70000000e+01,\n",
       "        2.71422637e+00, 1.64756075e+02],\n",
       "       [2.00000000e+00, 1.32350000e+04, 1.32370000e+04, 9.90000000e+01,\n",
       "        2.61680935e+00, 1.63671686e+02],\n",
       "       [2.00000000e+00, 1.32680000e+04, 1.32700000e+04, 4.90000000e+01,\n",
       "        2.77793220e+00, 1.62219775e+02],\n",
       "       [3.00000000e+00, 1.09100000e+03, 1.09200000e+03, 9.10000000e+01,\n",
       "        2.92392488e+00, 1.59656112e+02],\n",
       "       [3.00000000e+00, 2.15900000e+03, 2.16000000e+03, 3.60000000e+01,\n",
       "        2.67555594e+00, 1.64674478e+02],\n",
       "       [3.00000000e+00, 2.15900000e+03, 2.16100000e+03, 2.10000000e+01,\n",
       "        2.88987810e+00, 1.57214298e+02],\n",
       "       [3.00000000e+00, 2.65400000e+03, 2.65600000e+03, 1.50000000e+01,\n",
       "        2.69516924e+00, 1.75678057e+02],\n",
       "       [3.00000000e+00, 3.90500000e+03, 3.90700000e+03, 1.25000000e+02,\n",
       "        2.78849369e+00, 1.69050442e+02],\n",
       "       [3.00000000e+00, 5.65100000e+03, 5.65300000e+03, 4.30000000e+01,\n",
       "        2.69327843e+00, 1.60972173e+02],\n",
       "       [3.00000000e+00, 7.56200000e+03, 7.56300000e+03, 1.39000000e+02,\n",
       "        2.91723258e+00, 1.69069878e+02],\n",
       "       [3.00000000e+00, 7.85000000e+03, 7.85200000e+03, 9.90000000e+01,\n",
       "        2.70922844e+00, 1.68078995e+02],\n",
       "       [3.00000000e+00, 8.12900000e+03, 8.13000000e+03, 8.30000000e+01,\n",
       "        2.70814716e+00, 1.77185508e+02],\n",
       "       [3.00000000e+00, 9.09800000e+03, 9.09900000e+03, 7.00000000e+00,\n",
       "        2.97503415e+00, 1.54814582e+02],\n",
       "       [3.00000000e+00, 9.26300000e+03, 9.26400000e+03, 4.90000000e+01,\n",
       "        2.52111924e+00, 1.68318917e+02],\n",
       "       [3.00000000e+00, 1.03340000e+04, 1.03350000e+04, 7.70000000e+01,\n",
       "        2.70276830e+00, 1.58951487e+02],\n",
       "       [3.00000000e+00, 1.10000000e+04, 1.10010000e+04, 2.70000000e+01,\n",
       "        2.67590589e+00, 1.71561149e+02],\n",
       "       [3.00000000e+00, 1.11740000e+04, 1.11750000e+04, 1.33000000e+02,\n",
       "        2.95071323e+00, 1.60581177e+02],\n",
       "       [3.00000000e+00, 1.12490000e+04, 1.12500000e+04, 6.40000000e+01,\n",
       "        2.66376602e+00, 1.72326721e+02],\n",
       "       [3.00000000e+00, 1.12850000e+04, 1.12870000e+04, 4.30000000e+01,\n",
       "        2.72264607e+00, 1.77320021e+02],\n",
       "       [3.00000000e+00, 1.14950000e+04, 1.14960000e+04, 5.70000000e+01,\n",
       "        2.80963227e+00, 1.52904220e+02],\n",
       "       [3.00000000e+00, 1.18910000e+04, 1.18930000e+04, 9.90000000e+01,\n",
       "        2.97404885e+00, 1.68281263e+02],\n",
       "       [3.00000000e+00, 1.23860000e+04, 1.23880000e+04, 1.19000000e+02,\n",
       "        2.95226916e+00, 1.55444223e+02],\n",
       "       [3.00000000e+00, 1.25930000e+04, 1.25950000e+04, 3.60000000e+01,\n",
       "        2.73468350e+00, 1.72274994e+02],\n",
       "       [3.00000000e+00, 1.32350000e+04, 1.32360000e+04, 1.04000000e+02,\n",
       "        2.54359875e+00, 1.71121250e+02],\n",
       "       [3.00000000e+00, 1.32350000e+04, 1.32370000e+04, 9.10000000e+01,\n",
       "        2.80280199e+00, 1.64713238e+02],\n",
       "       [4.00000000e+00, 3.65000000e+02, 3.67000000e+02, 2.70000000e+01,\n",
       "        2.92661970e+00, 1.56288277e+02],\n",
       "       [4.00000000e+00, 5.51000000e+02, 5.53000000e+02, "
      ]
     },
     "execution_count": 84,
     "metadata": {},
     "output_type": "execute_result"
    },
    {
     "data": {
      "text/html": [
       "<b>limit_output extension: Maximum message size of 10000 exceeded with 11865 characters</b>"
      ]
     },
     "metadata": {},
     "output_type": "display_data"
    }
   ],
   "source": [
    "hbonds.results['hbonds']"
   ]
  },
  {
   "cell_type": "markdown",
   "metadata": {},
   "source": [
    "<div class=\"alert alert-info\"> \n",
    "    \n",
    "**Reminder:** By default all frames will be analysed, defining `start`, `stop`, `step` in `run()` will control how the trajectory is sliced.\n",
    "    \n",
    "   </div>"
   ]
  },
  {
   "cell_type": "markdown",
   "metadata": {},
   "source": [
    "<div class=\"alert alert-info\"> \n",
    "\n",
    "#### RECAP: how to calculate quickly all possible distances between `AtomGroups` \n",
    "\n",
    " - `self_distance` array only takes one atomgroup\n",
    " - `distance_array` takes two atomgroups and they don't have to contain the same number of atoms.\n",
    " - `capped_distance` and `self_capped_distance` only considers atoms within a certain distance threshold.\n",
    " </div>"
   ]
  },
  {
   "cell_type": "markdown",
   "metadata": {},
   "source": [
    "### Further work\n",
    "\n",
    "\n",
    "- A radial distribution function can be calculated using a histogram of distances.  Using `np.histogram` (to make a histogram), how could you calculate the distribution of distances between two AtomGroups? Plot the result. Is the method required any different over a trajectory than a frame?\n",
    "\n",
    "This is an open-ended question so we do not provide a solution. Please feel free to reach out to any of the above resources (in the first cell) for more help."
   ]
  },
  {
   "cell_type": "code",
   "execution_count": null,
   "metadata": {},
   "outputs": [],
   "source": []
  },
  {
   "cell_type": "markdown",
   "metadata": {},
   "source": [
    "## Trajectories and Frames\n",
    "<a id='trajectory'></a>\n"
   ]
  },
  {
   "cell_type": "markdown",
   "metadata": {},
   "source": [
    "### Loading a trajectory\n",
    "Loading a trajectory is done in the same way as loading any type of coordinates (as shown in session 1). All you have to do is create a `Universe` object by passing it a topology and the trajectory (here in this case a PSF file and DCD trajectory respectively)."
   ]
  },
  {
   "cell_type": "code",
   "execution_count": 85,
   "metadata": {},
   "outputs": [],
   "source": [
    "# First let's load a PSF and DCD from the MDAnalysis test data\n",
    "from MDAnalysis.tests.datafiles import PSF, DCD\n",
    "u = mda.Universe(PSF, DCD)"
   ]
  },
  {
   "cell_type": "markdown",
   "metadata": {},
   "source": [
    "Trajectory functionality is centered around the `Universe.trajectory` object."
   ]
  },
  {
   "cell_type": "code",
   "execution_count": 86,
   "metadata": {},
   "outputs": [
    {
     "data": {
      "text/plain": [
       "<DCDReader /Users/micaela/anaconda3/envs/mda/lib/python3.7/site-packages/MDAnalysisTests/data/adk_dims.dcd with 98 frames of 3341 atoms>"
      ]
     },
     "execution_count": 86,
     "metadata": {},
     "output_type": "execute_result"
    }
   ],
   "source": [
    "u.trajectory"
   ]
  },
  {
   "cell_type": "markdown",
   "metadata": {},
   "source": [
    "This `trajectory` object has a length in `frames` and a time unit of **picoseconds** (more information about the [MDAnalysis base units](https://docs.mdanalysis.org/2.0.0-dev0/documentation_pages/units.html#id4) is in the docs).\n",
    "\n",
    "The `trajectory` object has many useful attributes, such as the the number of frames `n_frames`, the time between frames `dt`, the total trajectory time `totaltime`."
   ]
  },
  {
   "cell_type": "code",
   "execution_count": 87,
   "metadata": {},
   "outputs": [
    {
     "data": {
      "text/plain": [
       "98"
      ]
     },
     "execution_count": 87,
     "metadata": {},
     "output_type": "execute_result"
    }
   ],
   "source": [
    "# print the number of frames\n",
    "u.trajectory.n_frames"
   ]
  },
  {
   "cell_type": "code",
   "execution_count": 88,
   "metadata": {},
   "outputs": [
    {
     "data": {
      "text/plain": [
       "98"
      ]
     },
     "execution_count": 88,
     "metadata": {},
     "output_type": "execute_result"
    }
   ],
   "source": [
    "# You can also get the number of frames by calling `len` on the trajectory object\n",
    "len(u.trajectory)"
   ]
  },
  {
   "cell_type": "code",
   "execution_count": 89,
   "metadata": {},
   "outputs": [
    {
     "data": {
      "text/plain": [
       "0.9999999119200186"
      ]
     },
     "execution_count": 89,
     "metadata": {},
     "output_type": "execute_result"
    }
   ],
   "source": [
    "# We can get the time between frames with `dt`\n",
    "u.trajectory.dt"
   ]
  },
  {
   "cell_type": "code",
   "execution_count": 90,
   "metadata": {},
   "outputs": [
    {
     "data": {
      "text/plain": [
       "96.9999914562418"
      ]
     },
     "execution_count": 90,
     "metadata": {},
     "output_type": "execute_result"
    }
   ],
   "source": [
    "# And the total simulation time from `totaltime`\n",
    "u.trajectory.totaltime"
   ]
  },
  {
   "cell_type": "markdown",
   "metadata": {},
   "source": [
    "### The Timestep object\n",
    "\n",
    "One of the key components of trajectories is the *Timestep* object `ts`. This is the object that holds the trajectory information **specific to the current frame**.\n",
    "\n",
    "This information mainly includes:\n",
    "* The frame number and time\n",
    "* Unitcell dimensions as `[A, B, C, alpha, beta, gamma]` (or `None` if not available)\n",
    "* The positions (also forces and/or velocities if available)"
   ]
  },
  {
   "cell_type": "code",
   "execution_count": 91,
   "metadata": {},
   "outputs": [
    {
     "data": {
      "text/plain": [
       "< Timestep 0 with unit cell dimensions None >"
      ]
     },
     "execution_count": 91,
     "metadata": {},
     "output_type": "execute_result"
    }
   ],
   "source": [
    "u.trajectory.ts"
   ]
  },
  {
   "cell_type": "markdown",
   "metadata": {},
   "source": [
    "### Moving through a trajectory\n",
    "\n",
    "Up until this point, we have primarily been inspecting only a single frame of the `trajectory` object. By default when creating a `Universe`, the *Timestep* is loaded with the information from the first (zero-th) frame in the trajectory.\n",
    "\n",
    "Here we look at how we can traverse through the trajectory and access the data from different frames.\n",
    "\n",
    "We can consider the `trajectory` object to be an iterator that loads trajectory data from a source (i.e. in most cases the input trajectory file), and feeds the relevant data to the *Timestep* object.\n",
    "\n",
    "The following operations can be done to access the trajectory:\n",
    "* Random access via trajectory indexing\n",
    "* Iterating over all frames\n",
    "* Slicing to iterate over a sub-section of the trajectory\n"
   ]
  },
  {
   "cell_type": "markdown",
   "metadata": {},
   "source": [
    "<div class=\"alert alert-info\"> \n",
    "\n",
    "#### NOTE:\n",
    " \n",
    "As is standard in python, `trajectory` access is done via **0-based indices**. So the first frame is `0`, and the final frame is `n_frames - 1`. \n",
    "</div>"
   ]
  },
  {
   "cell_type": "markdown",
   "metadata": {},
   "source": [
    "### Trajectory indexing\n",
    "\n",
    "It is possible to randomly access any frame along a trajectory by passing the index of the frame to the trajectory."
   ]
  },
  {
   "cell_type": "code",
   "execution_count": null,
   "metadata": {},
   "outputs": [],
   "source": [
    "# Let's create an atomgroup for the first two atoms in the Universe\n",
    "# and check their current position at frame 0\n",
    "first_two_atoms = u.atoms[:2]\n",
    "print(first_two_atoms.positions)"
   ]
  },
  {
   "cell_type": "code",
   "execution_count": null,
   "metadata": {},
   "outputs": [],
   "source": [
    "# Now let's move to the 7th frame\n",
    "u.trajectory[6]"
   ]
  },
  {
   "cell_type": "code",
   "execution_count": null,
   "metadata": {},
   "outputs": [],
   "source": [
    "# As we can see the frame number as now updated accordingly\n",
    "print('current frame: ', u.trajectory.frame)"
   ]
  },
  {
   "cell_type": "code",
   "execution_count": null,
   "metadata": {},
   "outputs": [],
   "source": [
    "# The AtomGroup also automatically updates with the new Timestep data\n",
    "print(first_two_atoms.positions)"
   ]
  },
  {
   "cell_type": "markdown",
   "metadata": {},
   "source": [
    "<div class=\"alert alert-info\">\n",
    "    \n",
    "#### NOTE: `AtomGroup`s are not static objects!\n",
    "    \n",
    "Whilst the atoms they represent do not change (see `UpdatingAtomGroup` for when this is not the case), their positions (and forces or velocities if available) will change as you move through the trajectory.\n",
    "\n",
    "</div>"
   ]
  },
  {
   "cell_type": "markdown",
   "metadata": {},
   "source": [
    "any changes to variables that change with `Timestep`, are *temporary*.\n",
    "\n",
    "For example, if you were to override the position of an `AtomGroup` for a given frame, then seek to another frame and come back to the original frame, the positions would be updated back to reflect the contents of the trajectory file:"
   ]
  },
  {
   "cell_type": "code",
   "execution_count": null,
   "metadata": {},
   "outputs": [],
   "source": [
    "# Let's start from frame 0 and override the positions of `first_two_atoms`\n",
    "u.trajectory[0]\n",
    "\n",
    "# `first_two_atoms` positions beforehand\n",
    "print('frame 0 positions: ', first_two_atoms.positions)\n",
    "\n",
    "# `first_two_atoms` after being zeroed\n",
    "first_two_atoms.positions = 0\n",
    "print('zeroed positions: ', first_two_atoms.positions)"
   ]
  },
  {
   "cell_type": "code",
   "execution_count": null,
   "metadata": {},
   "outputs": [],
   "source": [
    "# Now let's go the second last frame\n",
    "u.trajectory[-2]\n",
    "first_two_atoms.positions"
   ]
  },
  {
   "cell_type": "code",
   "execution_count": null,
   "metadata": {},
   "outputs": [],
   "source": [
    "# And now we come back to frame 0\n",
    "u.trajectory[0]\n",
    "\n",
    "# positions are no longer zeroed\n",
    "first_two_atoms.positions"
   ]
  },
  {
   "cell_type": "markdown",
   "metadata": {
    "solution2": "hidden",
    "solution2_first": true
   },
   "source": [
    "### Exercise \n",
    "\n",
    "Run these two assertions in a separate cell. Is the output what you expect? Why or why not?\n",
    "\n",
    "```python\n",
    "print(\"Equality\", first_two_atoms.positions == first_two_atoms.positions)\n",
    "print(\"Same object in memory\", first_two_atoms.positions is first_two_atoms.positions)\n",
    "```\n",
    "\n",
    "What consequences might arise? e.g. if you wanted to set all Z positions to 0, is the below statement feasible?\n",
    "\n",
    "```python\n",
    "first_two_atoms.positions[:, 2] = 0\n",
    "print(first_two_atoms.positions)\n",
    "```\n",
    "\n",
    "How might you get around this?"
   ]
  },
  {
   "cell_type": "code",
   "execution_count": null,
   "metadata": {
    "code_folding": [],
    "solution2": "hidden"
   },
   "outputs": [],
   "source": [
    "# Exercise "
   ]
  },
  {
   "cell_type": "markdown",
   "metadata": {
    "solution2": "hidden"
   },
   "source": [
    "Running the first pair of statements gives a perplexing result.\n",
    "\n",
    "```ipython\n",
    ">>> print(\"Equality\", first_two_atoms.positions == first_two_atoms.positions)\n",
    "Equality [[ True  True  True]\n",
    " [ True  True  True]]\n",
    ">>> print(\"Same object in memory\", first_two_atoms.positions is first_two_atoms.positions)\n",
    "Equality False\n",
    "```\n",
    "\n",
    "Even though MDAnalysis makes it look as though the `positions` array is a static property that belongs to `first_two_atoms`, remember that the fundamental object that stores dynamic data such as `positions` is the *Timestep*. This means that every time you ask an AtomGroup for its `positions`, the AtomGroup actually asks the Timestep for the positions of *all* the atoms, and then only returns the ones for that atoms inside the group. Therefore, every time you call `AtomGroup.positions`, you are returned a new array.\n",
    "\n",
    "This also explains why directly changing the Z coordinates of `AtomGroup.positions` does not seem to have any effect -- you have modified the values of the the returned copy, not the underlying positions array stored in `Timestep`. So how do you modify the coordinates of an AtomGroup? Well, *setting* the `AtomGroup.positions` attribute will transmit the change to the underlying Timestep. So, the general construct should be:\n",
    "\n",
    "```python\n",
    ">>> coordinates = first_two_atoms.positions\n",
    ">>> coordinates[:, 2] = 0\n",
    ">>> first_two_atoms.positions = coordinates\n",
    ">>> print(first_two_atoms.positions)\n",
    "[[15.249873 12.578178  0.      ]\n",
    " [14.925511 13.58888   0.      ]]\n",
    "```\n",
    "\n",
    "But remember, these changed coordinates will be gone when you switch the active frame, unless the trajectory is in memory."
   ]
  },
  {
   "cell_type": "code",
   "execution_count": null,
   "metadata": {},
   "outputs": [],
   "source": [
    "# Exercise "
   ]
  },
  {
   "cell_type": "markdown",
   "metadata": {},
   "source": [
    "### Iterating through the trajectory\n",
    "\n",
    "Iterating through a trajectory is the most common way to move through a trajectory.\n",
    "\n",
    "For example one could access every frame in the trajectory and store the current time using the following:"
   ]
  },
  {
   "cell_type": "code",
   "execution_count": null,
   "metadata": {},
   "outputs": [],
   "source": [
    "# Create a list for the times\n",
    "times = []\n",
    "\n",
    "for ts in u.trajectory:\n",
    "    times.append(u.trajectory.time)\n",
    "    \n",
    "print(times)"
   ]
  },
  {
   "cell_type": "markdown",
   "metadata": {},
   "source": [
    "### Trajectory slicing\n",
    "\n",
    "Rather than iterating through the entire trajectory, it is possible to slice the trajectory using a `[start:stop:step]` pattern."
   ]
  },
  {
   "cell_type": "code",
   "execution_count": null,
   "metadata": {},
   "outputs": [],
   "source": [
    "# Let's slice starting at the second frame, ending on the before last frame\n",
    "# and skipping every other frame\n",
    "\n",
    "times = []\n",
    "\n",
    "for ts in u.trajectory[1:-2:2]:\n",
    "    times.append(u.trajectory.time)\n",
    "    \n",
    "print(times)"
   ]
  },
  {
   "cell_type": "markdown",
   "metadata": {
    "solution2": "hidden",
    "solution2_first": true
   },
   "source": [
    "### Exercise\n",
    "\n",
    "Create a reversed list of the trajectory times"
   ]
  },
  {
   "cell_type": "code",
   "execution_count": null,
   "metadata": {
    "solution2": "hidden"
   },
   "outputs": [],
   "source": [
    "# Exercise 4 -- solution\n",
    "times = []\n",
    "\n",
    "for ts in u.trajectory[::-1]:\n",
    "    times.append(u.trajectory.time)\n",
    "    \n",
    "print(times)"
   ]
  },
  {
   "cell_type": "code",
   "execution_count": null,
   "metadata": {},
   "outputs": [],
   "source": []
  }
 ],
 "metadata": {
  "hide_input": false,
  "kernelspec": {
   "display_name": "Python 3 (ipykernel)",
   "language": "python",
   "name": "python3"
  },
  "language_info": {
   "codemirror_mode": {
    "name": "ipython",
    "version": 3
   },
   "file_extension": ".py",
   "mimetype": "text/x-python",
   "name": "python",
   "nbconvert_exporter": "python",
   "pygments_lexer": "ipython3",
   "version": "3.7.12"
  },
  "toc": {
   "base_numbering": 1,
   "nav_menu": {},
   "number_sections": false,
   "sideBar": true,
   "skip_h1_title": false,
   "title_cell": "Table of Contents",
   "title_sidebar": "Contents",
   "toc_cell": false,
   "toc_position": {
    "height": "calc(100% - 180px)",
    "left": "10px",
    "top": "150px",
    "width": "288px"
   },
   "toc_section_display": true,
   "toc_window_display": true
  }
 },
 "nbformat": 4,
 "nbformat_minor": 4
}
