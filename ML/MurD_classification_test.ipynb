{
 "cells": [
  {
   "cell_type": "code",
   "execution_count": 1,
   "id": "5f22ed32",
   "metadata": {
    "collapsed": true
   },
   "outputs": [
    {
     "data": {
      "application/vnd.jupyter.widget-view+json": {
       "model_id": "beb8ddb7259d4b7391e272fbd078fca3",
       "version_major": 2,
       "version_minor": 0
      },
      "text/plain": []
     },
     "metadata": {},
     "output_type": "display_data"
    }
   ],
   "source": [
    "from copy import deepcopy\n",
    "\n",
    "import numpy as np\n",
    "\n",
    "import matplotlib.pyplot as plt\n",
    "\n",
    "from sklearn.ensemble import RandomForestClassifier, IsolationForest\n",
    "from sklearn.decomposition import PCA\n",
    "\n",
    "import MDAnalysis as mda\n",
    "from MDAnalysis.analysis.dihedrals import Ramachandran\n",
    "from MDAnalysis.analysis import distances\n",
    "\n",
    "import nglview as nv\n",
    "\n",
    "import warnings\n",
    "warnings.filterwarnings(\"ignore\")"
   ]
  },
  {
   "cell_type": "markdown",
   "id": "dc15ee17",
   "metadata": {},
   "source": [
    "## 1. Introduction"
   ]
  },
  {
   "cell_type": "markdown",
   "id": "5bc18970",
   "metadata": {},
   "source": [
    "The simulations in this tutorial are taken from: [M.T. Degiacomi (2019). Coupling Molecular Dynamics and Deep Learning to Mine Protein Conformational Space. Structure.](https://doi.org/10.1016/j.str.2019.03.018)"
   ]
  },
  {
   "cell_type": "markdown",
   "id": "906081c2",
   "metadata": {},
   "source": [
    "MurD is a 47-kDa ATP-driven ligase responsible for the biosynthesis of a bacterial peptidoglycan precursor (UDP-N-acetylmuramoyl-L-alanyl-D-glutamate). When bound to its ligand, UDP-N-acetylmuramoyl-L-alanyl-D-alanine, MurD is stabilized in a closed conformation (PDB: [3UAG](https://www.rcsb.org/structure/3UAG))."
   ]
  },
  {
   "cell_type": "code",
   "execution_count": 5,
   "id": "253a2f80",
   "metadata": {
    "collapsed": true
   },
   "outputs": [],
   "source": [
    "folder = \"data/MD_trajectories/\" # this is the path where the three simulations are located"
   ]
  },
  {
   "cell_type": "code",
   "execution_count": 6,
   "id": "590ac822",
   "metadata": {
    "collapsed": true
   },
   "outputs": [
    {
     "data": {
      "application/vnd.jupyter.widget-view+json": {
       "model_id": "8df6d8137a9c46ccac8ea82ddd58f9ec",
       "version_major": 2,
       "version_minor": 0
      },
      "text/plain": [
       "NGLWidget(max_frame=2506)"
      ]
     },
     "metadata": {},
     "output_type": "display_data"
    }
   ],
   "source": [
    "universe_closed = mda.Universe(f'{folder}MurD_closed.pdb')\n",
    "w = nv.show_mdanalysis(universe_closed)\n",
    "w"
   ]
  },
  {
   "cell_type": "markdown",
   "id": "09532026",
   "metadata": {},
   "source": [
    "In the absence of UDP-N-acetylmuramoyl-L-alanyl-D-alanine, MurD takes instead an open conformation (PDB: [1E0D](https://www.rcsb.org/structure/1E0D))."
   ]
  },
  {
   "cell_type": "code",
   "execution_count": 7,
   "id": "9a6223a4",
   "metadata": {
    "collapsed": true
   },
   "outputs": [
    {
     "data": {
      "application/vnd.jupyter.widget-view+json": {
       "model_id": "c53a49540e5746cfa034df2466c935f5",
       "version_major": 2,
       "version_minor": 0
      },
      "text/plain": [
       "NGLWidget(max_frame=1912)"
      ]
     },
     "metadata": {},
     "output_type": "display_data"
    }
   ],
   "source": [
    "universe_open = mda.Universe(f'{folder}MurD_open.pdb')\n",
    "w = nv.show_mdanalysis(universe_open)\n",
    "w"
   ]
  },
  {
   "cell_type": "markdown",
   "id": "391b5493",
   "metadata": {},
   "source": [
    "By taking the closed conformation and manually removing the ligand, the protein switches to an open conformation."
   ]
  },
  {
   "cell_type": "code",
   "execution_count": 8,
   "id": "79be7ded",
   "metadata": {
    "collapsed": true
   },
   "outputs": [
    {
     "data": {
      "application/vnd.jupyter.widget-view+json": {
       "model_id": "e45caa9637fa47f59f8b85e5630f0318",
       "version_major": 2,
       "version_minor": 0
      },
      "text/plain": [
       "NGLWidget(max_frame=999)"
      ]
     },
     "metadata": {},
     "output_type": "display_data"
    }
   ],
   "source": [
    "universe_closed_apo = mda.Universe(f'{folder}MurD_closed_apo.pdb')\n",
    "w = nv.show_mdanalysis(universe_closed_apo)\n",
    "w"
   ]
  },
  {
   "cell_type": "markdown",
   "id": "33b28ab0",
   "metadata": {},
   "source": [
    "Our objective in this exercises is to assign conformation of the latter simulation to either the closed or the open state."
   ]
  },
  {
   "cell_type": "markdown",
   "id": "70575c8d",
   "metadata": {},
   "source": [
    "## 2. Setup of feature extraction tools"
   ]
  },
  {
   "cell_type": "markdown",
   "id": "0965f351",
   "metadata": {},
   "source": [
    "The class `Featurizer` implements different ways of extracting features from a simulation using MDAnalysis. It is implemented to ensure consistency in feature extraction across the different datasets in the remainder of this exercises. Run this cell as-is."
   ]
  },
  {
   "cell_type": "code",
   "execution_count": 12,
   "id": "57e3ac17",
   "metadata": {
    "collapsed": true
   },
   "outputs": [],
   "source": [
    "class Featurizer(object):\n",
    "    \n",
    "    def __init__(self, feature):\n",
    "        '''Featurizer class for extracting MD features with MDAnalysis\n",
    "        Parameters:\n",
    "        -----------\n",
    "        feature : String\n",
    "            name of feature\n",
    "        '''\n",
    "        if feature == \"ramachandran\":\n",
    "            self.get_features = self._get_features_ramachandran\n",
    "        elif feature == \"distance matrix\":    \n",
    "            self.get_features = self._get_features_distance_matrix\n",
    "        elif feature == \"coordinates\":    \n",
    "            self.get_features = self._get_features_coordinates\n",
    "        else:\n",
    "            raise Exception(\"Features extraction method %s not recognised\"%feature)\n",
    " \n",
    "    def _get_features_distance_matrix(self, universe):\n",
    "        '''\n",
    "        distance matrix (lower diagonal)\n",
    "        '''\n",
    "        crds = []\n",
    "        ca = universe.select_atoms(\"name CA\")\n",
    "        for ts in universe.trajectory:\n",
    "            crds.append(distances.self_distance_array(ca.positions))\n",
    "\n",
    "        return np.array(crds)\n",
    "    \n",
    "    def _get_features_coordinates(self, universe):\n",
    "        '''\n",
    "        alpha carbons coordinates\n",
    "        '''\n",
    "        crds = []\n",
    "        ca = universe.select_atoms(\"name CA\")\n",
    "        for ts in universe.trajectory:\n",
    "            crds.append(ca.positions.flatten())\n",
    "\n",
    "        return np.array(crds)\n",
    "\n",
    "\n",
    "    def _get_features_ramachandran(self, universe):\n",
    "        '''\n",
    "        dihedral angles\n",
    "        '''\n",
    "        pass\n",
    "        #r = Ramachandran(universe.select_atoms('protein')).run()\n",
    "        #return r.angles.reshape((r.angles.shape[0], np.prod(r.angles.shape[1:])))"
   ]
  },
  {
   "cell_type": "markdown",
   "id": "972c34ef",
   "metadata": {},
   "source": [
    "The function `generate_train_test_sets` converts features extracted from different classes into training and test sets ready for classification (run the cell as-is)."
   ]
  },
  {
   "cell_type": "code",
   "execution_count": 13,
   "id": "e9f0d0de",
   "metadata": {
    "collapsed": true
   },
   "outputs": [],
   "source": [
    "def generate_train_test_sets(features, test_size=200, verbose=True):\n",
    "    '''\n",
    "    Assemble training and test set along with their labels.\n",
    "    @param features list of two or more features array, each reporting features of a given class\n",
    "    @param test_size dimension of the test set (number of examples to extract from each input features array)\n",
    "    @param verbose if True, report on the number of examples contained in training and test set\n",
    "    @return four arrays containing the training set and test set, followed by two arrays containing classification labels for training and test set.\n",
    "    '''\n",
    "\n",
    "    x_train_crds = []\n",
    "    x_test_crds = []\n",
    "    for i, crds in enumerate(features):\n",
    "\n",
    "        #randomly separate features in training and test set\n",
    "        indices = np.random.permutation(len(crds))\n",
    "        indicestrain = np.sort(indices[test_size:])\n",
    "        indicestest = np.sort(indices[:test_size])\n",
    "\n",
    "        # build training set\n",
    "        x_train = deepcopy(crds[indicestrain])\n",
    "        x_train = x_train.reshape(x_train.shape[0], np.prod(x_train.shape[1:]))\n",
    "        x_train_crds.append(x_train) \n",
    "\n",
    "        # build test set\n",
    "        x_test = deepcopy(crds[indicestest])\n",
    "        x_test = x_test.reshape(x_test.shape[0], np.prod(x_test.shape[1:]))\n",
    "        x_test_crds.append(x_test)\n",
    "\n",
    "    # aggregate training and test set, and create classification for both\n",
    "    train_set = np.concatenate(x_train_crds)\n",
    "    test_set = np.concatenate(x_test_crds)\n",
    "    train_class = np.concatenate((np.zeros(x_train_crds[0].shape[0]), np.ones(x_train_crds[1].shape[0])))\n",
    "    test_class = np.concatenate((np.zeros(x_test_crds[0].shape[0]), np.ones(x_test_crds[1].shape[0])))\n",
    "\n",
    "    if verbose:\n",
    "        print(f'Training set: {train_set.shape[0]} examples')\n",
    "        print(f'Test set: {test_set.shape[0]} examples')\n",
    "\n",
    "    return train_set, test_set, train_class, test_class"
   ]
  },
  {
   "cell_type": "markdown",
   "id": "608c5fdc",
   "metadata": {},
   "source": [
    "## 3. Preparation and analysis of training set"
   ]
  },
  {
   "cell_type": "markdown",
   "id": "aa807ca7",
   "metadata": {},
   "source": [
    "We are now ready to collect features from two independent simulations of the closed and open state of MurD. "
   ]
  },
  {
   "cell_type": "code",
   "execution_count": 14,
   "id": "1dd3c319",
   "metadata": {
    "collapsed": true
   },
   "outputs": [
    {
     "name": "stdout",
     "output_type": "stream",
     "text": [
      "closed state: 2507 conformations, 95266 features\n",
      "open state: 1913 conformations, 95266 features\n"
     ]
    }
   ],
   "source": [
    "# select a desired type of features\n",
    "feature = \"distance matrix\"\n",
    "F = Featurizer(feature) #maybe this could have a better name? something like dist_feat?\n",
    "\n",
    "# extract features from the simulations of the closed state\n",
    "feat_closed = F.get_features(universe_closed)\n",
    "print(f'closed state: {feat_closed.shape[0]} conformations, {feat_closed.shape[1]} features')\n",
    "\n",
    "# extract features from the simulation of the open state\n",
    "feat_open = F.get_features(universe_open)\n",
    "print(f'open state: {feat_open.shape[0]} conformations, {feat_open.shape[1]} features')"
   ]
  },
  {
   "cell_type": "markdown",
   "id": "d37a36bf",
   "metadata": {},
   "source": [
    "Let's now convert the features we just extracted in datasets ready for classification. The datasets are combined and randomly split into training and test sets."
   ]
  },
  {
   "cell_type": "code",
   "execution_count": 15,
   "id": "e32011a5",
   "metadata": {
    "collapsed": true
   },
   "outputs": [
    {
     "name": "stdout",
     "output_type": "stream",
     "text": [
      "Training set: 4020 examples\n",
      "Test set: 400 examples\n"
     ]
    }
   ],
   "source": [
    "train_set, test_set, train_class, test_class = generate_train_test_sets([feat_closed, feat_open])"
   ]
  },
  {
   "cell_type": "markdown",
   "id": "68f28e66",
   "metadata": {},
   "source": [
    "Before going further, it is a good idea to take look at the training data we have just produced by projecting it on a lower dimensional space using Principal Components Analysis (PCA), c.f. dimensionality reduction from yesterday."
   ]
  },
  {
   "cell_type": "code",
   "execution_count": 16,
   "id": "e7df846e",
   "metadata": {
    "collapsed": true
   },
   "outputs": [],
   "source": [
    "pca = PCA(n_components=2)\n",
    "pca.fit(train_set)\n",
    "proj_closed = pca.transform(feat_closed)\n",
    "proj_open = pca.transform(feat_open)"
   ]
  },
  {
   "cell_type": "markdown",
   "id": "1e369a63",
   "metadata": {},
   "source": [
    "Now, let's plot a projection of the data in 2D space, also reporting the percentage of variance represented by each component."
   ]
  },
  {
   "cell_type": "code",
   "execution_count": 17,
   "id": "f69ff0a0",
   "metadata": {
    "collapsed": true
   },
   "outputs": [
    {
     "data": {
      "text/plain": [
       "<matplotlib.legend.Legend at 0x16407a560>"
      ]
     },
     "execution_count": 17,
     "metadata": {},
     "output_type": "execute_result"
    },
    {
     "data": {
      "image/png": "[encoded data removed]",
      "text/plain": [
       "<Figure size 432x288 with 1 Axes>"
      ]
     },
     "metadata": {
      "needs_background": "light"
     },
     "output_type": "display_data"
    }
   ],
   "source": [
    "fig = plt.figure()\n",
    "ax = fig.add_subplot(1, 1, 1)\n",
    "ax.scatter(proj_closed[:, 0], proj_closed[:, 1], alpha=0.2, color=\"dodgerblue\", label=\"closed\")\n",
    "ax.scatter(proj_open[:, 0], proj_open[:, 1], alpha=0.2, color=\"red\", label=\"open\")\n",
    "ax.set_xlabel(f'PC 1, {pca.explained_variance_ratio_[0]*100:3.2f}%')\n",
    "ax.set_ylabel(f'PC 2, {pca.explained_variance_ratio_[1]*100:3.2f}%')\n",
    "ax.legend(frameon=False)"
   ]
  },
  {
   "cell_type": "markdown",
   "id": "4afda96e",
   "metadata": {},
   "source": [
    "<div class=\"alert alert-success\">\n",
    "<b>Task 1.</b> Discuss: Do PC1 and PC2 give you well-separated clusters? What does this tell us about the features we extracted? Do you need more dimensions to obtain a better separation?</div>"
   ]
  },
  {
   "cell_type": "markdown",
   "id": "e6b1885a",
   "metadata": {},
   "source": [
    "<details>\n",
    "<summary> <mark> Answer 1</mark> </summary>\n",
    "If the open and closed state are well-separated in the 2D projection, this means that the features selected are highly correlated.\n",
    "</details>"
   ]
  },
  {
   "cell_type": "markdown",
   "id": "5aa6e42f",
   "metadata": {},
   "source": [
    "## 4. Training a Random Forests classifier on input data"
   ]
  },
  {
   "cell_type": "markdown",
   "id": "bfb4da29",
   "metadata": {},
   "source": [
    "Let's start by training the classifier using the training set we have just assembled"
   ]
  },
  {
   "cell_type": "code",
   "execution_count": 18,
   "id": "cdd04909",
   "metadata": {
    "collapsed": true
   },
   "outputs": [
    {
     "data": {
      "text/html": [
       "<style>#sk-container-id-1 {color: black;background-color: white;}#sk-container-id-1 pre{padding: 0;}#sk-container-id-1 div.sk-toggleable {background-color: white;}#sk-container-id-1 label.sk-toggleable__label {cursor: pointer;display: block;width: 100%;margin-bottom: 0;padding: 0.3em;box-sizing: border-box;text-align: center;}#sk-container-id-1 label.sk-toggleable__label-arrow:before {content: \"▸\";float: left;margin-right: 0.25em;color: #696969;}#sk-container-id-1 label.sk-toggleable__label-arrow:hover:before {color: black;}#sk-container-id-1 div.sk-estimator:hover label.sk-toggleable__label-arrow:before {color: black;}#sk-container-id-1 div.sk-toggleable__content {max-height: 0;max-width: 0;overflow: hidden;text-align: left;background-color: #f0f8ff;}#sk-container-id-1 div.sk-toggleable__content pre {margin: 0.2em;color: black;border-radius: 0.25em;background-color: #f0f8ff;}#sk-container-id-1 input.sk-toggleable__control:checked~div.sk-toggleable__content {max-height: 200px;max-width: 100%;overflow: auto;}#sk-container-id-1 input.sk-toggleable__control:checked~label.sk-toggleable__label-arrow:before {content: \"▾\";}#sk-container-id-1 div.sk-estimator input.sk-toggleable__control:checked~label.sk-toggleable__label {background-color: #d4ebff;}#sk-container-id-1 div.sk-label input.sk-toggleable__control:checked~label.sk-toggleable__label {background-color: #d4ebff;}#sk-container-id-1 input.sk-hidden--visually {border: 0;clip: rect(1px 1px 1px 1px);clip: rect(1px, 1px, 1px, 1px);height: 1px;margin: -1px;overflow: hidden;padding: 0;position: absolute;width: 1px;}#sk-container-id-1 div.sk-estimator {font-family: monospace;background-color: #f0f8ff;border: 1px dotted black;border-radius: 0.25em;box-sizing: border-box;margin-bottom: 0.5em;}#sk-container-id-1 div.sk-estimator:hover {background-color: #d4ebff;}#sk-container-id-1 div.sk-parallel-item::after {content: \"\";width: 100%;border-bottom: 1px solid gray;flex-grow: 1;}#sk-container-id-1 div.sk-label:hover label.sk-toggleable__label {background-color: #d4ebff;}#sk-container-id-1 div.sk-serial::before {content: \"\";position: absolute;border-left: 1px solid gray;box-sizing: border-box;top: 0;bottom: 0;left: 50%;z-index: 0;}#sk-container-id-1 div.sk-serial {display: flex;flex-direction: column;align-items: center;background-color: white;padding-right: 0.2em;padding-left: 0.2em;position: relative;}#sk-container-id-1 div.sk-item {position: relative;z-index: 1;}#sk-container-id-1 div.sk-parallel {display: flex;align-items: stretch;justify-content: center;background-color: white;position: relative;}#sk-container-id-1 div.sk-item::before, #sk-container-id-1 div.sk-parallel-item::before {content: \"\";position: absolute;border-left: 1px solid gray;box-sizing: border-box;top: 0;bottom: 0;left: 50%;z-index: -1;}#sk-container-id-1 div.sk-parallel-item {display: flex;flex-direction: column;z-index: 1;position: relative;background-color: white;}#sk-container-id-1 div.sk-parallel-item:first-child::after {align-self: flex-end;width: 50%;}#sk-container-id-1 div.sk-parallel-item:last-child::after {align-self: flex-start;width: 50%;}#sk-container-id-1 div.sk-parallel-item:only-child::after {width: 0;}#sk-container-id-1 div.sk-dashed-wrapped {border: 1px dashed gray;margin: 0 0.4em 0.5em 0.4em;box-sizing: border-box;padding-bottom: 0.4em;background-color: white;}#sk-container-id-1 div.sk-label label {font-family: monospace;font-weight: bold;display: inline-block;line-height: 1.2em;}#sk-container-id-1 div.sk-label-container {text-align: center;}#sk-container-id-1 div.sk-container {/* jupyter's `normalize.less` sets `[hidden] { display: none; }` but bootstrap.min.css set `[hidden] { display: none !important; }` so we also need the `!important` here to be able to override the default hidden behavior on the sphinx rendered scikit-learn.org. See: https://github.com/scikit-learn/scikit-learn/issues/21755 */display: inline-block !important;position: relative;}#sk-container-id-1 div.sk-text-repr-fallback {display: none;}</style><div id=\"sk-container-id-1\" class=\"sk-top-container\"><div class=\"sk-text-repr-fallback\"><pre>RandomForestClassifier(n_estimators=50)</pre><b>In a Jupyter environment, please rerun this cell to show the HTML representation or trust the notebook. <br />On GitHub, the HTML representation is unable to render, please try loading this page with nbviewer.org.</b></div><div class=\"sk-container\" hidden><div class=\"sk-item\"><div class=\"sk-estimator sk-toggleable\"><input class=\"sk-toggleable__control sk-hidden--visually\" id=\"sk-estimator-id-1\" type=\"checkbox\" checked><label for=\"sk-estimator-id-1\" class=\"sk-toggleable__label sk-toggleable__label-arrow\">RandomForestClassifier</label><div class=\"sk-toggleable__content\"><pre>RandomForestClassifier(n_estimators=50)</pre></div></div></div></div></div>"
      ],
      "text/plain": [
       "RandomForestClassifier(n_estimators=50)"
      ]
     },
     "execution_count": 18,
     "metadata": {},
     "output_type": "execute_result"
    }
   ],
   "source": [
    "# I would link here to scikitlearn and maybe only do the import here and talk about how we use scikit learn\n",
    "RF = RandomForestClassifier(n_estimators=50)\n",
    "RF.fit(train_set, train_class)"
   ]
  },
  {
   "cell_type": "markdown",
   "id": "13646708",
   "metadata": {},
   "source": [
    "Let's now assess its performance against the test set."
   ]
  },
  {
   "cell_type": "code",
   "execution_count": 19,
   "id": "fccb1642",
   "metadata": {
    "collapsed": true
   },
   "outputs": [
    {
     "name": "stdout",
     "output_type": "stream",
     "text": [
      "Success of test set: 100.0%\n"
     ]
    }
   ],
   "source": [
    "r = RF.predict(test_set)\n",
    "success = np.sum((r-test_class)==0)\n",
    "percent = float(success)/len(test_class)*100\n",
    "print(f'Success of test set: {percent}%')"
   ]
  },
  {
   "cell_type": "markdown",
   "id": "18ddcbcb",
   "metadata": {},
   "source": [
    "To see which features are deemed the most useful for a successful classification, we can observe their importance."
   ]
  },
  {
   "cell_type": "code",
   "execution_count": 23,
   "id": "44dee97b",
   "metadata": {
    "collapsed": true
   },
   "outputs": [
    {
     "name": "stdout",
     "output_type": "stream",
     "text": [
      "Most relevant distance: GLN4 - ASP372\n"
     ]
    }
   ],
   "source": [
    "importances = RF.feature_importances_\n",
    "std = np.std([tree.feature_importances_ for tree in RF.estimators_], axis=0)\n",
    "\n",
    "if feature == \"distance matrix\": \n",
    "    \n",
    "    # get indices of most important CA atoms pair\n",
    "    na = len(universe_closed.select_atoms('name CA'))\n",
    "    pos = np.array(np.triu_indices(na))[:, np.argmax(std)].T\n",
    "    \n",
    "    # retrieve their identity\n",
    "    ca1 = universe_closed.select_atoms('name CA')[pos[0]]\n",
    "    ca2 = universe_closed.select_atoms('name CA')[pos[1]]\n",
    "    print(f'Most relevant distance: {ca1.resname}{ca1.resid} - {ca2.resname}{ca2.resid}')\n",
    "    \n",
    "\n",
    "elif feature == \"coordinates\":\n",
    "    \n",
    "    ca = universe_closed.select_atoms('name CA')[int(np.argmax(std)/3)]\n",
    "    print(f'Most relevant amino acid: {ca.resname}{ca.resid}')"
   ]
  },
  {
   "cell_type": "code",
   "execution_count": null,
   "id": "1ed832c2",
   "metadata": {
    "collapsed": true
   },
   "outputs": [],
   "source": [
    "## Maybe you could have an additional taks here, such as what if you change the number of estimators?\n",
    "## I think some more explanation above would be good. At what point do you need feature == coordinate"
   ]
  },
  {
   "cell_type": "markdown",
   "id": "04054770",
   "metadata": {},
   "source": [
    "<div class=\"alert alert-success\">\n",
    "<b>Task 2.</b> Run section 4 again from the beginning. Is the most relevant feature always the same? Why?</div>"
   ]
  },
  {
   "cell_type": "markdown",
   "id": "7b6db5d8",
   "metadata": {},
   "source": [
    "<details>\n",
    "<summary> <mark> Answer 2</mark> </summary>\n",
    "Training the Random Forests classifier again will give different results because the training process is stochastic, and thus it will converge to different models. Their performance will be likely comparable, because there normally exist multiple models  performing equally comparatively well in a classification task.</details>"
   ]
  },
  {
   "cell_type": "markdown",
   "id": "4164cfa0",
   "metadata": {},
   "source": [
    "## 5. Classification of conformations from new simulation"
   ]
  },
  {
   "cell_type": "markdown",
   "id": "045e6bc6",
   "metadata": {},
   "source": [
    "It is now time to characterize the simulation of a trajectory switching to the closed to the open state."
   ]
  },
  {
   "cell_type": "code",
   "execution_count": 20,
   "id": "d3fe7464",
   "metadata": {
    "collapsed": true
   },
   "outputs": [],
   "source": [
    "feat = F.get_features(universe_closed_apo) # maybe better name here too?\n",
    "r = RF.predict(feat)"
   ]
  },
  {
   "cell_type": "markdown",
   "id": "236e85a3",
   "metadata": {},
   "source": [
    "Let's have a look at the classification. This can be done with a simple colorbar, where different colours represent different classes."
   ]
  },
  {
   "cell_type": "code",
   "execution_count": 21,
   "id": "ed20e9f3",
   "metadata": {
    "collapsed": true
   },
   "outputs": [
    {
     "data": {
      "text/plain": [
       "Text(0.5, 0, 'conformation / #')"
      ]
     },
     "execution_count": 21,
     "metadata": {},
     "output_type": "execute_result"
    },
    {
     "data": {
      "image/png": "[encoded data removed]",
      "text/plain": [
       "<Figure size 720x72 with 1 Axes>"
      ]
     },
     "metadata": {
      "needs_background": "light"
     },
     "output_type": "display_data"
    }
   ],
   "source": [
    "fig = plt.figure(1, figsize=(10, 1))\n",
    "ax = fig.add_subplot(1, 1, 1)\n",
    "ax.pcolormesh([r])\n",
    "ax.set_yticks([])\n",
    "ax.set_xlabel(\"conformation / #\")"
   ]
  },
  {
   "cell_type": "markdown",
   "id": "9bec6c9a",
   "metadata": {},
   "source": [
    "Let's compare the three datasets (closed, open, and open apo) according to the value most important feature according to the classifier."
   ]
  },
  {
   "cell_type": "code",
   "execution_count": 24,
   "id": "7dc80a95",
   "metadata": {
    "collapsed": true
   },
   "outputs": [
    {
     "data": {
      "text/plain": [
       "<matplotlib.legend.Legend at 0x163f30f10>"
      ]
     },
     "execution_count": 24,
     "metadata": {},
     "output_type": "execute_result"
    },
    {
     "data": {
      "image/png": "[encoded data removed]",
      "text/plain": [
       "<Figure size 432x288 with 1 Axes>"
      ]
     },
     "metadata": {
      "needs_background": "light"
     },
     "output_type": "display_data"
    }
   ],
   "source": [
    "fig = plt.figure()\n",
    "ax = fig.add_subplot(1,1,1)\n",
    "\n",
    "ax.plot(np.arange(len(feat_closed))/10., feat_closed[:, np.argmax(std)], label=\"closed\", color=\"dodgerblue\")\n",
    "ax.plot(np.arange(len(feat_open))/10., feat_open[:, np.argmax(std)], label=\"open\", color=\"orangered\")\n",
    "ax.plot(np.arange(len(feat))/10., feat[:, np.argmax(std)], label=\"closed apo\", color=\"#682860\")\n",
    "\n",
    "ax.set_xlabel(\"time / ns\")\n",
    "ax.set_ylabel(\"distance / $\\AA$\")\n",
    "ax.legend(frameon=False)"
   ]
  },
  {
   "cell_type": "markdown",
   "id": "9ad9ea76",
   "metadata": {},
   "source": [
    "The closed apo simulation appears to take values in its most important feature different from anything seen in the training set. Here we will carry out an outlied detection using an Isolation Forest. More information about outlier detection is available [here](https://scikit-learn.org/stable/modules/outlier_detection.html). The following cell may take some time to run (a few minutes)."
   ]
  },
  {
   "cell_type": "code",
   "execution_count": 25,
   "id": "3fb2d6b6",
   "metadata": {
    "collapsed": true
   },
   "outputs": [],
   "source": [
    "clf = IsolationForest(n_estimators=50, warm_start=True)\n",
    "clf.fit(train_set)\n",
    "\n",
    "y_closed_apo = clf.predict(feat)"
   ]
  },
  {
   "cell_type": "code",
   "execution_count": 26,
   "id": "da3b6aa5",
   "metadata": {
    "collapsed": true
   },
   "outputs": [
    {
     "data": {
      "text/plain": [
       "Text(0.5, 0, 'conformation / #')"
      ]
     },
     "execution_count": 26,
     "metadata": {},
     "output_type": "execute_result"
    },
    {
     "data": {
      "image/png": "[encoded data removed]",
      "text/plain": [
       "<Figure size 720x72 with 1 Axes>"
      ]
     },
     "metadata": {
      "needs_background": "light"
     },
     "output_type": "display_data"
    }
   ],
   "source": [
    "fig = plt.figure(1, figsize=(10, 1))\n",
    "ax = fig.add_subplot(1, 1, 1)\n",
    "ax.pcolormesh([y_closed_apo])\n",
    "ax.set_yticks([])\n",
    "ax.set_xlabel(\"conformation / #\")"
   ]
  },
  {
   "cell_type": "markdown",
   "id": "343c88a4",
   "metadata": {},
   "source": [
    "<div class=\"alert alert-success\">\n",
    "<b>Task 3.</b> There seem to be quite a few outliers, what does this tell us about the closed apo simulation?</div>"
   ]
  },
  {
   "cell_type": "markdown",
   "id": "103c5f8d",
   "metadata": {},
   "source": [
    "<details>\n",
    "<summary> <mark> Answer 3</mark> </summary>\n",
    "The classification we obtained tells us that the second part of the simulation is more similar to the open than the closed state, however its conformations are not consistent with those sampled by the open simulations.</details>"
   ]
  },
  {
   "cell_type": "markdown",
   "id": "99bba31f",
   "metadata": {},
   "source": [
    "Let's observe how the most relevant feature measured in the closed apo simulation relates to that of closed and open simulations in the eigenspace of the PCA projection."
   ]
  },
  {
   "cell_type": "code",
   "execution_count": 27,
   "id": "c2e21383",
   "metadata": {
    "collapsed": true
   },
   "outputs": [
    {
     "data": {
      "text/plain": [
       "Text(0, 0.5, 'PC 2, 2.11%')"
      ]
     },
     "execution_count": 27,
     "metadata": {},
     "output_type": "execute_result"
    },
    {
     "data": {
      "image/png": "[encoded data removed]",
      "text/plain": [
       "<Figure size 432x288 with 1 Axes>"
      ]
     },
     "metadata": {
      "needs_background": "light"
     },
     "output_type": "display_data"
    }
   ],
   "source": [
    "proj_closed_apo = pca.transform(feat)\n",
    "\n",
    "fig = plt.figure()\n",
    "ax = fig.add_subplot(1, 1, 1)\n",
    "ax.scatter(proj_closed[:, 0], proj_closed[:, 1], alpha=0.4, c=\"lightgrey\")\n",
    "ax.scatter(proj_closed[:, 0], proj_closed[:, 1], alpha=0.4, c=\"lightgrey\")\n",
    "ax.scatter(proj_closed_apo[:, 0], proj_closed_apo[:, 1], alpha=0.5, c=np.arange(len(proj_closed_apo)), cmap=\"gist_heat\") \n",
    "ax.set_xlabel(f'PC 1, {pca.explained_variance_ratio_[0]*100:3.2f}%')\n",
    "ax.set_ylabel(f'PC 2, {pca.explained_variance_ratio_[1]*100:3.2f}%')"
   ]
  },
  {
   "cell_type": "markdown",
   "id": "98688b93",
   "metadata": {},
   "source": [
    "<div class=\"alert alert-success\">\n",
    "<b>Task 4.</b> In section 2 we have defined the class <code>Featurizer</code>, defining different methods to extract features from an MDAnalysis Universe. The class was used in the first cell of section 3. Run again this notebook using the keyword \"coordinates\". What do you notice? Can you think about a disadvantage of using coordinates?</div>"
   ]
  },
  {
   "cell_type": "markdown",
   "id": "569f4364",
   "metadata": {},
   "source": [
    "<details>\n",
    "<summary> <mark> Answer 4</mark> </summary>\n",
    "Using coordinates also leads to good results. The main differences from what observed using distance matrix are:\n",
    "<ul>\n",
    "<li>Coordinates constitude a smaller set of features than distance matrix. This leads to faster runtimes.</li>\n",
    "<li>the pattern followed by outliers is different. When using distance matrix, they become abundant as soon as the protein leaves the closed state, while when using coordinates they are most abundant when the protein is in-between the two states.\n",
    "</li>\n",
    "<li>a disadvantage of using coordinates is that, unlike distance matrix, results will depend on how the simulations are aligned. Different alignments would lead to different results. If the trajectories were not aligned at all, using absolute coordinates would not work.</li>\n",
    "\n",
    "</ul>\n",
    "</details>"
   ]
  },
  {
   "cell_type": "markdown",
   "id": "12ed673c",
   "metadata": {},
   "source": [
    "<div class=\"alert alert-success\">\n",
    "<b>Task 4.</b> Return to section 2 and, within the class <code>Featurizer</code>, implement the method <code>_get_features_ramachandranan</code>, returning a list of phi and psi angles (backbone dihedrals). Rerun the rest of the notebook with your new feature.</div>"
   ]
  },
  {
   "cell_type": "markdown",
   "id": "174fa8d1",
   "metadata": {},
   "source": [
    "<details>\n",
    "<summary> <mark> Answer 5</mark> </summary>\n",
    "    \n",
    "```Python\n",
    "def _get_features_ramachandran(self, universe):\n",
    "    r = Ramachandran(universe.select_atoms('protein')).run()\n",
    "    return r.angles.reshape((r.angles.shape[0], np.prod(r.angles.shape[1:])))\n",
    "```\n",
    "</details>\n"
   ]
  },
  {
   "cell_type": "code",
   "execution_count": null,
   "id": "1802b589",
   "metadata": {
    "collapsed": true
   },
   "outputs": [],
   "source": []
  }
 ],
 "metadata": {
  "kernelspec": {
   "display_name": "Python 3 (ipykernel)",
   "language": "python",
   "name": "python3"
  },
  "language_info": {
   "codemirror_mode": {
    "name": "ipython",
    "version": 3
   },
   "file_extension": ".py",
   "mimetype": "text/x-python",
   "name": "python",
   "nbconvert_exporter": "python",
   "pygments_lexer": "ipython3",
   "version": "3.10.4"
  }
 },
 "nbformat": 4,
 "nbformat_minor": 5
}
